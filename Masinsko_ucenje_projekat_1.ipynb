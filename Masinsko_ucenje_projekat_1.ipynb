{
 "cells": [
  {
   "cell_type": "markdown",
   "id": "fb4024c9-90f7-48cd-8930-3858fda59b9c",
   "metadata": {},
   "source": [
    "# MASINSKO UCENJE - PROJEKAT 1 - NADGLEDANO UCENJE (SUPERVISED LEARNING)"
   ]
  },
  {
   "cell_type": "markdown",
   "id": "64a63ccb-f3dc-439b-b9e0-039f6d7ac796",
   "metadata": {},
   "source": [
    "## Projekat se bavi klasifikacijom \"ruke\" u pokeru, na osnovu znaka i vrednosti svake od 5 karata koje igrac poseduje"
   ]
  },
  {
   "cell_type": "markdown",
   "id": "bdece1ae-a67d-4b08-a871-88a2fd69f135",
   "metadata": {},
   "source": [
    "## 1. Ucitavanje potrebnih biblioteka. Za klasifikaciju je koriscena biblioteka scikit-learn"
   ]
  },
  {
   "cell_type": "code",
   "execution_count": 1,
   "id": "9bd99708",
   "metadata": {},
   "outputs": [],
   "source": [
    "import numpy as np\n",
    "import sklearn.metrics\n",
    "from sklearn.linear_model import LogisticRegression, SGDClassifier\n",
    "from sklearn.tree import DecisionTreeClassifier\n",
    "from sklearn.ensemble import RandomForestClassifier\n",
    "from sklearn.neighbors import KNeighborsClassifier\n",
    "from sklearn.naive_bayes import CategoricalNB, GaussianNB\n",
    "from sklearn.svm import SVC\n",
    "from sklearn.preprocessing import StandardScaler, MinMaxScaler\n",
    "from sklearn.metrics import accuracy_score, classification_report, confusion_matrix\n",
    "import pandas as pd\n",
    "import matplotlib.pyplot as plt"
   ]
  },
  {
   "cell_type": "markdown",
   "id": "3d1721c0-76bd-41d2-948f-555207a2b673",
   "metadata": {},
   "source": [
    "## 2. Ucitavanje dataseta"
   ]
  },
  {
   "cell_type": "markdown",
   "id": "f2f7d712-ec63-4889-be94-35ba71ddc39f",
   "metadata": {},
   "source": [
    "#### Dataset je podeljen u 2 fajla, od kojih je jedan za treniranje, a drugi za testiranje. Fajl za treniranje sadrzi 1000000 redova, svaki red je opisan sa 10 parametara (za svaku od 5 karata vrednost i znak). Jedanaesta kolona prikazuje koja je jacina ruke (0 - Nista u ruci, 1 - Jedan par, 2 - Dva para, 3 - Triling ili tri iste karte, 4 - Strejt ili kenta, 5 - Fles ili svih pet karata su u istom znaku, 6 - Ful (od 5 karata postoji i triling i par), 7 - Poker ili 4 iste karte, 8 - Strejt fles, 9 - Rojal Fles ili Strejt fles sa najjacim kartama.  "
   ]
  },
  {
   "cell_type": "markdown",
   "id": "5fc9c861-ba75-4774-9a81-03a6f6b024b4",
   "metadata": {},
   "source": [
    "#### Dataset za testiranje se sastoji od 25010 redova koji imaju istu strukturu kao i dataset za treniranje"
   ]
  },
  {
   "cell_type": "code",
   "execution_count": 2,
   "id": "666489e9",
   "metadata": {},
   "outputs": [
    {
     "name": "stdout",
     "output_type": "stream",
     "text": [
      "        0   1   2   3   4   5   6   7   8   9   10\n",
      "0        1   1   1  13   2   4   2   3   1  12   0\n",
      "1        3  12   3   2   3  11   4   5   2   5   1\n",
      "2        1   9   4   6   1   4   3   2   3   9   1\n",
      "3        1   4   3  13   2  13   2   1   3   6   1\n",
      "4        3  10   2   7   1   2   2  11   4   9   0\n",
      "...     ..  ..  ..  ..  ..  ..  ..  ..  ..  ..  ..\n",
      "999995   3   1   1  12   2   9   4   9   2   6   1\n",
      "999996   3   3   4   5   2   7   1   4   4   3   1\n",
      "999997   1  11   4   7   3   9   1  13   2   7   1\n",
      "999998   3  11   1   8   1   1   3  13   2   8   1\n",
      "999999   2   5   2   9   4   9   2   3   3   3   2\n",
      "\n",
      "[1000000 rows x 11 columns]\n",
      "       0   1   2   3   4   5   6   7   8   9   10\n",
      "0       1  10   1  11   1  13   1  12   1   1   9\n",
      "1       2  11   2  13   2  10   2  12   2   1   9\n",
      "2       3  12   3  11   3  13   3  10   3   1   9\n",
      "3       4  10   4  11   4   1   4  13   4  12   9\n",
      "4       4   1   4  13   4  12   4  11   4  10   9\n",
      "...    ..  ..  ..  ..  ..  ..  ..  ..  ..  ..  ..\n",
      "25005   3   9   2   6   4  11   4  12   2   4   0\n",
      "25006   4   1   4  10   3  13   3   4   1  10   1\n",
      "25007   2   1   2  10   4   4   4   1   4  13   1\n",
      "25008   2  12   4   3   1  10   1  12   4   9   1\n",
      "25009   1   7   3  11   3   3   4   8   3   7   1\n",
      "\n",
      "[25010 rows x 11 columns]\n"
     ]
    }
   ],
   "source": [
    "data = pd.read_csv(\"Masinsko projekat\\\\poker-hand-testing.data\", delimiter=\",\", header=None)\n",
    "test_data = pd.read_csv(\"Masinsko projekat\\\\poker-hand-training-true.data\", delimiter=\",\", header=None)\n",
    "print(data)\n",
    "print(test_data)"
   ]
  },
  {
   "cell_type": "markdown",
   "id": "2f8078d2-6176-4fad-8ce4-b34694057ce3",
   "metadata": {},
   "source": [
    "### Dataset je potrebno konvertovati u numpy niz i u posebne liste je izvuceno X i y"
   ]
  },
  {
   "cell_type": "code",
   "execution_count": 3,
   "id": "b0c9f989",
   "metadata": {},
   "outputs": [
    {
     "name": "stdout",
     "output_type": "stream",
     "text": [
      "[[ 1  1  1 ...  3  1 12]\n",
      " [ 3 12  3 ...  5  2  5]\n",
      " [ 1  9  4 ...  2  3  9]\n",
      " ...\n",
      " [ 1 11  4 ... 13  2  7]\n",
      " [ 3 11  1 ... 13  2  8]\n",
      " [ 2  5  2 ...  3  3  3]]\n",
      "[0 1 1 ... 1 1 2]\n",
      "[[ 1 10  1 ... 12  1  1]\n",
      " [ 2 11  2 ... 12  2  1]\n",
      " [ 3 12  3 ... 10  3  1]\n",
      " ...\n",
      " [ 2  1  2 ...  1  4 13]\n",
      " [ 2 12  4 ... 12  4  9]\n",
      " [ 1  7  3 ...  8  3  7]]\n",
      "[9 9 9 ... 1 1 1]\n"
     ]
    }
   ],
   "source": [
    "data = np.asarray(data)\n",
    "test_data = np.asarray(test_data)\n",
    "X = data[:, 0:10]\n",
    "y = data[:, 10]\n",
    "X_test = test_data[:, 0:10]\n",
    "y_test = test_data[:, 10]\n",
    "print(X)\n",
    "print(y)\n",
    "print(X_test)\n",
    "print(y_test)"
   ]
  },
  {
   "cell_type": "markdown",
   "id": "50f965d8-e494-46d1-aa80-bec61b02500e",
   "metadata": {},
   "source": [
    "### Raspodela klasa u training dataset-u"
   ]
  },
  {
   "cell_type": "code",
   "execution_count": 4,
   "id": "c72d5fec-d79c-4f20-b9ce-a5dd45a6b24d",
   "metadata": {},
   "outputs": [
    {
     "name": "stdout",
     "output_type": "stream",
     "text": [
      "[5.56898889e-01 4.69442222e-01 5.29133333e-02 2.34677778e-02\n",
      " 4.31666667e-03 2.21777778e-03 1.58222222e-03 2.55555556e-04\n",
      " 1.33333333e-05 3.33333333e-06]\n"
     ]
    },
    {
     "data": {
      "image/png": "[encoded data removed]",
      "text/plain": [
       "<Figure size 432x288 with 1 Axes>"
      ]
     },
     "metadata": {
      "needs_background": "light"
     },
     "output_type": "display_data"
    }
   ],
   "source": [
    "hist, bin_edges = np.histogram(y, density=True)\n",
    "print(hist)\n",
    "plt.hist(y, density=True)\n",
    "plt.show()"
   ]
  },
  {
   "cell_type": "markdown",
   "id": "838eee1d-b929-4023-9e68-784330f16879",
   "metadata": {},
   "source": [
    "### Raspodela klasa u test dataset-u"
   ]
  },
  {
   "cell_type": "code",
   "execution_count": 5,
   "id": "1cdf1081-55ad-431d-bec8-81e87bee545b",
   "metadata": {},
   "outputs": [
    {
     "name": "stdout",
     "output_type": "stream",
     "text": [
      "[5.55022435e-01 4.70878315e-01 5.35785686e-02 2.27908836e-02\n",
      " 4.13168066e-03 2.39904038e-03 1.59936026e-03 2.66560043e-04\n",
      " 2.22133369e-04 2.22133369e-04]\n"
     ]
    },
    {
     "data": {
      "image/png": "[encoded data removed]",
      "text/plain": [
       "<Figure size 432x288 with 1 Axes>"
      ]
     },
     "metadata": {
      "needs_background": "light"
     },
     "output_type": "display_data"
    }
   ],
   "source": [
    "hist, bin_edges = np.histogram(y_test, density=True)\n",
    "print(hist)\n",
    "plt.hist(y_test, density=True)\n",
    "plt.show()"
   ]
  },
  {
   "cell_type": "markdown",
   "id": "e952e0d5-382b-4f62-ba44-d96cf77507a0",
   "metadata": {},
   "source": [
    "## 3. Pretprocesiranje"
   ]
  },
  {
   "cell_type": "markdown",
   "id": "378f1be4-5073-471a-88f1-03374a6b0537",
   "metadata": {},
   "source": [
    "### Vrseno je i skaliranje dataseta koriscenjem Standardnog skaliranja (X-mean/std)"
   ]
  },
  {
   "cell_type": "code",
   "execution_count": 6,
   "id": "9e3d7985",
   "metadata": {},
   "outputs": [
    {
     "name": "stdout",
     "output_type": "stream",
     "text": [
      "[[-1.34240194 -1.60227902 -1.34090572 ... -1.06977044 -1.34005473\n",
      "   1.33974955]\n",
      " [ 0.44687924  1.33624777  0.44709493 ... -0.53519234 -0.44635782\n",
      "  -0.53196211]\n",
      " [-1.34240194  0.53483138  1.34109525 ... -1.3370595   0.44733909\n",
      "   0.53758741]\n",
      " ...\n",
      " [-1.34240194  1.06910898  1.34109525 ...  1.60312009 -0.44635782\n",
      "   0.00281265]\n",
      " [ 0.44687924  1.06910898 -1.34090572 ...  1.60312009 -0.44635782\n",
      "   0.27020003]\n",
      " [-0.44776135 -0.53372382 -0.4469054  ... -1.06977044  0.44733909\n",
      "  -1.06673687]]\n",
      "[[-1.34240194e+00  8.01970176e-01 -1.34090572e+00 ...  1.33583104e+00\n",
      "  -1.34005473e+00 -1.60151163e+00]\n",
      " [-4.47761351e-01  1.06910898e+00 -4.46905397e-01 ...  1.33583104e+00\n",
      "  -4.46357816e-01 -1.60151163e+00]\n",
      " [ 4.46879235e-01  1.33624777e+00  4.47094925e-01 ...  8.01252931e-01\n",
      "   4.47339095e-01 -1.60151163e+00]\n",
      " ...\n",
      " [-4.47761351e-01 -1.60227902e+00 -4.46905397e-01 ... -1.60434855e+00\n",
      "   1.34103601e+00  1.60713693e+00]\n",
      " [-4.47761351e-01  1.33624777e+00  1.34109525e+00 ...  1.33583104e+00\n",
      "   1.34103601e+00  5.37587407e-01]\n",
      " [-1.34240194e+00  5.53778731e-04  4.47094925e-01 ...  2.66674823e-01\n",
      "   4.47339095e-01  2.81264785e-03]]\n"
     ]
    }
   ],
   "source": [
    "scaler = StandardScaler(with_std=True, with_mean=True)\n",
    "X_scaled = scaler.fit_transform(X)\n",
    "X_test_scaled = scaler.transform(X_test)\n",
    "print(X_scaled)\n",
    "print(X_test_scaled)"
   ]
  },
  {
   "cell_type": "markdown",
   "id": "2dcb9ff0-cfe4-49e6-97e9-69083db2b932",
   "metadata": {},
   "source": [
    "### Takodje je vrseno i skaliranje podataka koriscenjem MinMaxScalera"
   ]
  },
  {
   "cell_type": "code",
   "execution_count": 7,
   "id": "6a36de76-1b40-4331-a421-c80ecc79404d",
   "metadata": {},
   "outputs": [
    {
     "name": "stdout",
     "output_type": "stream",
     "text": [
      "[[0.         0.         0.         ... 0.16666667 0.         0.91666667]\n",
      " [0.66666667 0.91666667 0.66666667 ... 0.33333333 0.33333333 0.33333333]\n",
      " [0.         0.66666667 1.         ... 0.08333333 0.66666667 0.66666667]\n",
      " ...\n",
      " [0.         0.83333333 1.         ... 1.         0.33333333 0.5       ]\n",
      " [0.66666667 0.83333333 0.         ... 1.         0.33333333 0.58333333]\n",
      " [0.33333333 0.33333333 0.33333333 ... 0.16666667 0.66666667 0.16666667]]\n",
      "[[0.         0.75       0.         ... 0.91666667 0.         0.        ]\n",
      " [0.33333333 0.83333333 0.33333333 ... 0.91666667 0.33333333 0.        ]\n",
      " [0.66666667 0.91666667 0.66666667 ... 0.75       0.66666667 0.        ]\n",
      " ...\n",
      " [0.33333333 0.         0.33333333 ... 0.         1.         1.        ]\n",
      " [0.33333333 0.91666667 1.         ... 0.91666667 1.         0.66666667]\n",
      " [0.         0.5        0.66666667 ... 0.58333333 0.66666667 0.5       ]]\n"
     ]
    }
   ],
   "source": [
    "scaler = MinMaxScaler()\n",
    "X_minmax = scaler.fit_transform(X)\n",
    "X_test_minmax = scaler.transform(X_test)\n",
    "print(X_minmax)\n",
    "print(X_test_minmax)"
   ]
  },
  {
   "cell_type": "markdown",
   "id": "89763c1e-3292-457d-b5d3-842ec7943203",
   "metadata": {},
   "source": [
    "## 4. Klasifikacija"
   ]
  },
  {
   "cell_type": "markdown",
   "id": "2c3c9d28-e7a5-463d-9bf5-69561171cdfb",
   "metadata": {},
   "source": [
    "### 4.1. Klasifikacija bez pretprocesiranja"
   ]
  },
  {
   "cell_type": "markdown",
   "id": "0e0e997d-041a-4d18-b1f1-ececd50948d0",
   "metadata": {},
   "source": [
    "#### DecisionTree"
   ]
  },
  {
   "cell_type": "code",
   "execution_count": 8,
   "id": "c3409a61",
   "metadata": {},
   "outputs": [
    {
     "name": "stdout",
     "output_type": "stream",
     "text": [
      "              precision    recall  f1-score   support\n",
      "\n",
      "           0       0.75      0.74      0.74     12493\n",
      "           1       0.63      0.63      0.63     10599\n",
      "           2       0.33      0.36      0.34      1206\n",
      "           3       0.41      0.47      0.44       513\n",
      "           4       0.29      0.35      0.32        93\n",
      "           5       0.25      0.31      0.28        54\n",
      "           6       0.18      0.22      0.20        36\n",
      "           7       0.00      0.00      0.00         6\n",
      "           8       0.00      0.00      0.00         5\n",
      "           9       0.00      0.00      0.00         5\n",
      "\n",
      "    accuracy                           0.66     25010\n",
      "   macro avg       0.28      0.31      0.29     25010\n",
      "weighted avg       0.67      0.66      0.66     25010\n",
      "\n",
      "[[9201 3042  156   47   11   36    0    0    0    0]\n",
      " [2929 6648  677  257   64   12   12    0    0    0]\n",
      " [ 123  600  435   35    3    0   10    0    0    0]\n",
      " [  31  186   38  242    1    0   14    1    0    0]\n",
      " [   7   50    3    0   33    0    0    0    0    0]\n",
      " [  27   10    0    0    0   17    0    0    0    0]\n",
      " [   0    5   12   10    0    0    8    1    0    0]\n",
      " [   0    2    2    1    0    0    1    0    0    0]\n",
      " [   0    3    0    0    1    1    0    0    0    0]\n",
      " [   0    0    0    0    2    3    0    0    0    0]]\n",
      "0.6630947620951619\n"
     ]
    },
    {
     "name": "stderr",
     "output_type": "stream",
     "text": [
      "c:\\users\\cile\\pycharmprojects\\pokerhandprediction\\venv\\lib\\site-packages\\sklearn\\metrics\\_classification.py:1308: UndefinedMetricWarning: Precision and F-score are ill-defined and being set to 0.0 in labels with no predicted samples. Use `zero_division` parameter to control this behavior.\n",
      "  _warn_prf(average, modifier, msg_start, len(result))\n",
      "c:\\users\\cile\\pycharmprojects\\pokerhandprediction\\venv\\lib\\site-packages\\sklearn\\metrics\\_classification.py:1308: UndefinedMetricWarning: Precision and F-score are ill-defined and being set to 0.0 in labels with no predicted samples. Use `zero_division` parameter to control this behavior.\n",
      "  _warn_prf(average, modifier, msg_start, len(result))\n",
      "c:\\users\\cile\\pycharmprojects\\pokerhandprediction\\venv\\lib\\site-packages\\sklearn\\metrics\\_classification.py:1308: UndefinedMetricWarning: Precision and F-score are ill-defined and being set to 0.0 in labels with no predicted samples. Use `zero_division` parameter to control this behavior.\n",
      "  _warn_prf(average, modifier, msg_start, len(result))\n"
     ]
    }
   ],
   "source": [
    "classifier = DecisionTreeClassifier(random_state=42)\n",
    "classifier = classifier.fit(X=X, y=y)\n",
    "y_predicted = classifier.predict(X_test)\n",
    "print(classification_report(y_true=y_test, y_pred=y_predicted))\n",
    "print(confusion_matrix(y_true=y_test, y_pred=y_predicted))\n",
    "print(accuracy_score(y_true=y_test, y_pred=y_predicted))"
   ]
  },
  {
   "cell_type": "markdown",
   "id": "f63fb393-34aa-4ebd-a957-5764bf55c599",
   "metadata": {},
   "source": [
    "#### RandomForest"
   ]
  },
  {
   "cell_type": "code",
   "execution_count": 9,
   "id": "96c9cafc",
   "metadata": {},
   "outputs": [
    {
     "name": "stdout",
     "output_type": "stream",
     "text": [
      "              precision    recall  f1-score   support\n",
      "\n",
      "           0       0.79      0.92      0.85     12493\n",
      "           1       0.73      0.71      0.72     10599\n",
      "           2       0.70      0.04      0.08      1206\n",
      "           3       0.92      0.10      0.17       513\n",
      "           4       0.33      0.01      0.02        93\n",
      "           5       0.86      0.33      0.48        54\n",
      "           6       0.33      0.03      0.05        36\n",
      "           7       0.00      0.00      0.00         6\n",
      "           8       0.00      0.00      0.00         5\n",
      "           9       0.00      0.00      0.00         5\n",
      "\n",
      "    accuracy                           0.77     25010\n",
      "   macro avg       0.47      0.21      0.24     25010\n",
      "weighted avg       0.76      0.77      0.74     25010\n",
      "\n",
      "[[11450  1043     0     0     0     0     0     0     0     0]\n",
      " [ 3018  7565    12     2     2     0     0     0     0     0]\n",
      " [   22  1131    53     0     0     0     0     0     0     0]\n",
      " [    8   448     6    49     0     0     2     0     0     0]\n",
      " [    7    85     0     0     1     0     0     0     0     0]\n",
      " [   34     2     0     0     0    18     0     0     0     0]\n",
      " [    0    28     5     2     0     0     1     0     0     0]\n",
      " [    0     6     0     0     0     0     0     0     0     0]\n",
      " [    0     5     0     0     0     0     0     0     0     0]\n",
      " [    1     1     0     0     0     3     0     0     0     0]]\n",
      "0.7651739304278289\n"
     ]
    },
    {
     "name": "stderr",
     "output_type": "stream",
     "text": [
      "c:\\users\\cile\\pycharmprojects\\pokerhandprediction\\venv\\lib\\site-packages\\sklearn\\metrics\\_classification.py:1308: UndefinedMetricWarning: Precision and F-score are ill-defined and being set to 0.0 in labels with no predicted samples. Use `zero_division` parameter to control this behavior.\n",
      "  _warn_prf(average, modifier, msg_start, len(result))\n",
      "c:\\users\\cile\\pycharmprojects\\pokerhandprediction\\venv\\lib\\site-packages\\sklearn\\metrics\\_classification.py:1308: UndefinedMetricWarning: Precision and F-score are ill-defined and being set to 0.0 in labels with no predicted samples. Use `zero_division` parameter to control this behavior.\n",
      "  _warn_prf(average, modifier, msg_start, len(result))\n",
      "c:\\users\\cile\\pycharmprojects\\pokerhandprediction\\venv\\lib\\site-packages\\sklearn\\metrics\\_classification.py:1308: UndefinedMetricWarning: Precision and F-score are ill-defined and being set to 0.0 in labels with no predicted samples. Use `zero_division` parameter to control this behavior.\n",
      "  _warn_prf(average, modifier, msg_start, len(result))\n"
     ]
    }
   ],
   "source": [
    "classifier = RandomForestClassifier(n_estimators=100)\n",
    "classifier = classifier.fit(X=X, y=y)\n",
    "y_predicted = classifier.predict(X_test)\n",
    "print(classification_report(y_true=y_test, y_pred=y_predicted))\n",
    "print(confusion_matrix(y_true=y_test, y_pred=y_predicted))\n",
    "print(accuracy_score(y_true=y_test, y_pred=y_predicted))"
   ]
  },
  {
   "cell_type": "markdown",
   "id": "327c147f-66aa-4afb-ae05-87ed01fec8f2",
   "metadata": {},
   "source": [
    "#### SGD"
   ]
  },
  {
   "cell_type": "code",
   "execution_count": 10,
   "id": "2ac6a222",
   "metadata": {},
   "outputs": [
    {
     "name": "stdout",
     "output_type": "stream",
     "text": [
      "              precision    recall  f1-score   support\n",
      "\n",
      "           0       0.50      1.00      0.67     12493\n",
      "           1       0.00      0.00      0.00     10599\n",
      "           2       0.00      0.00      0.00      1206\n",
      "           3       0.00      0.00      0.00       513\n",
      "           4       0.00      0.00      0.00        93\n",
      "           5       0.00      0.00      0.00        54\n",
      "           6       0.00      0.00      0.00        36\n",
      "           7       0.00      0.00      0.00         6\n",
      "           8       0.00      0.00      0.00         5\n",
      "           9       0.00      0.00      0.00         5\n",
      "\n",
      "    accuracy                           0.50     25010\n",
      "   macro avg       0.05      0.10      0.07     25010\n",
      "weighted avg       0.25      0.50      0.33     25010\n",
      "\n",
      "[[12493     0     0     0     0     0     0     0     0     0]\n",
      " [10599     0     0     0     0     0     0     0     0     0]\n",
      " [ 1206     0     0     0     0     0     0     0     0     0]\n",
      " [  513     0     0     0     0     0     0     0     0     0]\n",
      " [   93     0     0     0     0     0     0     0     0     0]\n",
      " [   54     0     0     0     0     0     0     0     0     0]\n",
      " [   36     0     0     0     0     0     0     0     0     0]\n",
      " [    6     0     0     0     0     0     0     0     0     0]\n",
      " [    5     0     0     0     0     0     0     0     0     0]\n",
      " [    5     0     0     0     0     0     0     0     0     0]]\n",
      "0.4995201919232307\n"
     ]
    },
    {
     "name": "stderr",
     "output_type": "stream",
     "text": [
      "c:\\users\\cile\\pycharmprojects\\pokerhandprediction\\venv\\lib\\site-packages\\sklearn\\metrics\\_classification.py:1308: UndefinedMetricWarning: Precision and F-score are ill-defined and being set to 0.0 in labels with no predicted samples. Use `zero_division` parameter to control this behavior.\n",
      "  _warn_prf(average, modifier, msg_start, len(result))\n",
      "c:\\users\\cile\\pycharmprojects\\pokerhandprediction\\venv\\lib\\site-packages\\sklearn\\metrics\\_classification.py:1308: UndefinedMetricWarning: Precision and F-score are ill-defined and being set to 0.0 in labels with no predicted samples. Use `zero_division` parameter to control this behavior.\n",
      "  _warn_prf(average, modifier, msg_start, len(result))\n",
      "c:\\users\\cile\\pycharmprojects\\pokerhandprediction\\venv\\lib\\site-packages\\sklearn\\metrics\\_classification.py:1308: UndefinedMetricWarning: Precision and F-score are ill-defined and being set to 0.0 in labels with no predicted samples. Use `zero_division` parameter to control this behavior.\n",
      "  _warn_prf(average, modifier, msg_start, len(result))\n"
     ]
    }
   ],
   "source": [
    "classifier = SGDClassifier()\n",
    "classifier = classifier.fit(X=X, y=y)\n",
    "y_predicted = classifier.predict(X_test)\n",
    "print(classification_report(y_true=y_test, y_pred=y_predicted))\n",
    "print(confusion_matrix(y_true=y_test, y_pred=y_predicted))\n",
    "print(accuracy_score(y_true=y_test, y_pred=y_predicted))"
   ]
  },
  {
   "cell_type": "markdown",
   "id": "c8b3d734-7d5c-4656-966d-225901ad90bf",
   "metadata": {},
   "source": [
    "#### K Nearest Neighbors"
   ]
  },
  {
   "cell_type": "code",
   "execution_count": 11,
   "id": "dac65ab1",
   "metadata": {},
   "outputs": [
    {
     "name": "stdout",
     "output_type": "stream",
     "text": [
      "              precision    recall  f1-score   support\n",
      "\n",
      "           0       0.66      0.77      0.71     12493\n",
      "           1       0.59      0.56      0.57     10599\n",
      "           2       0.38      0.08      0.14      1206\n",
      "           3       0.31      0.05      0.09       513\n",
      "           4       0.15      0.02      0.04        93\n",
      "           5       0.00      0.00      0.00        54\n",
      "           6       0.50      0.03      0.05        36\n",
      "           7       0.00      0.00      0.00         6\n",
      "           8       0.00      0.00      0.00         5\n",
      "           9       0.00      0.00      0.00         5\n",
      "\n",
      "    accuracy                           0.63     25010\n",
      "   macro avg       0.26      0.15      0.16     25010\n",
      "weighted avg       0.61      0.63      0.61     25010\n",
      "\n",
      "[[9560 2914   19    0    0    0    0    0    0    0]\n",
      " [4470 5981   96   44    8    0    0    0    0    0]\n",
      " [ 313  779  100   11    2    0    1    0    0    0]\n",
      " [  30  422   34   27    0    0    0    0    0    0]\n",
      " [  12   72    5    2    2    0    0    0    0    0]\n",
      " [  41   13    0    0    0    0    0    0    0    0]\n",
      " [   1   24    9    0    1    0    1    0    0    0]\n",
      " [   0    4    0    2    0    0    0    0    0    0]\n",
      " [   0    5    0    0    0    0    0    0    0    0]\n",
      " [   1    4    0    0    0    0    0    0    0    0]]\n",
      "0.6265893642542982\n"
     ]
    },
    {
     "name": "stderr",
     "output_type": "stream",
     "text": [
      "c:\\users\\cile\\pycharmprojects\\pokerhandprediction\\venv\\lib\\site-packages\\sklearn\\metrics\\_classification.py:1308: UndefinedMetricWarning: Precision and F-score are ill-defined and being set to 0.0 in labels with no predicted samples. Use `zero_division` parameter to control this behavior.\n",
      "  _warn_prf(average, modifier, msg_start, len(result))\n",
      "c:\\users\\cile\\pycharmprojects\\pokerhandprediction\\venv\\lib\\site-packages\\sklearn\\metrics\\_classification.py:1308: UndefinedMetricWarning: Precision and F-score are ill-defined and being set to 0.0 in labels with no predicted samples. Use `zero_division` parameter to control this behavior.\n",
      "  _warn_prf(average, modifier, msg_start, len(result))\n",
      "c:\\users\\cile\\pycharmprojects\\pokerhandprediction\\venv\\lib\\site-packages\\sklearn\\metrics\\_classification.py:1308: UndefinedMetricWarning: Precision and F-score are ill-defined and being set to 0.0 in labels with no predicted samples. Use `zero_division` parameter to control this behavior.\n",
      "  _warn_prf(average, modifier, msg_start, len(result))\n"
     ]
    }
   ],
   "source": [
    "classifier = KNeighborsClassifier()\n",
    "classifier = classifier.fit(X=X, y=y)\n",
    "y_predicted = classifier.predict(X_test)\n",
    "print(classification_report(y_true=y_test, y_pred=y_predicted))\n",
    "print(confusion_matrix(y_true=y_test, y_pred=y_predicted))\n",
    "print(accuracy_score(y_true=y_test, y_pred=y_predicted))"
   ]
  },
  {
   "cell_type": "markdown",
   "id": "2f79cf84-b05e-4a61-b4a8-38cc037d3793",
   "metadata": {},
   "source": [
    "#### Naive-Bayes"
   ]
  },
  {
   "cell_type": "code",
   "execution_count": 12,
   "id": "d29ad515",
   "metadata": {},
   "outputs": [
    {
     "name": "stdout",
     "output_type": "stream",
     "text": [
      "              precision    recall  f1-score   support\n",
      "\n",
      "           0       0.50      1.00      0.67     12493\n",
      "           1       0.00      0.00      0.00     10599\n",
      "           2       0.00      0.00      0.00      1206\n",
      "           3       0.00      0.00      0.00       513\n",
      "           4       0.00      0.00      0.00        93\n",
      "           5       0.00      0.00      0.00        54\n",
      "           6       0.00      0.00      0.00        36\n",
      "           7       0.00      0.00      0.00         6\n",
      "           8       0.00      0.00      0.00         5\n",
      "           9       0.00      0.00      0.00         5\n",
      "\n",
      "    accuracy                           0.50     25010\n",
      "   macro avg       0.05      0.10      0.07     25010\n",
      "weighted avg       0.25      0.50      0.33     25010\n",
      "\n",
      "[[12493     0     0     0     0     0     0     0     0     0]\n",
      " [10599     0     0     0     0     0     0     0     0     0]\n",
      " [ 1206     0     0     0     0     0     0     0     0     0]\n",
      " [  513     0     0     0     0     0     0     0     0     0]\n",
      " [   93     0     0     0     0     0     0     0     0     0]\n",
      " [   54     0     0     0     0     0     0     0     0     0]\n",
      " [   36     0     0     0     0     0     0     0     0     0]\n",
      " [    6     0     0     0     0     0     0     0     0     0]\n",
      " [    5     0     0     0     0     0     0     0     0     0]\n",
      " [    5     0     0     0     0     0     0     0     0     0]]\n",
      "0.4995201919232307\n"
     ]
    },
    {
     "name": "stderr",
     "output_type": "stream",
     "text": [
      "c:\\users\\cile\\pycharmprojects\\pokerhandprediction\\venv\\lib\\site-packages\\sklearn\\metrics\\_classification.py:1308: UndefinedMetricWarning: Precision and F-score are ill-defined and being set to 0.0 in labels with no predicted samples. Use `zero_division` parameter to control this behavior.\n",
      "  _warn_prf(average, modifier, msg_start, len(result))\n",
      "c:\\users\\cile\\pycharmprojects\\pokerhandprediction\\venv\\lib\\site-packages\\sklearn\\metrics\\_classification.py:1308: UndefinedMetricWarning: Precision and F-score are ill-defined and being set to 0.0 in labels with no predicted samples. Use `zero_division` parameter to control this behavior.\n",
      "  _warn_prf(average, modifier, msg_start, len(result))\n",
      "c:\\users\\cile\\pycharmprojects\\pokerhandprediction\\venv\\lib\\site-packages\\sklearn\\metrics\\_classification.py:1308: UndefinedMetricWarning: Precision and F-score are ill-defined and being set to 0.0 in labels with no predicted samples. Use `zero_division` parameter to control this behavior.\n",
      "  _warn_prf(average, modifier, msg_start, len(result))\n"
     ]
    }
   ],
   "source": [
    "classifier = GaussianNB()\n",
    "classifier = classifier.fit(X=X, y=y)\n",
    "y_predicted = classifier.predict(X_test)\n",
    "print(classification_report(y_true=y_test, y_pred=y_predicted))\n",
    "print(confusion_matrix(y_true=y_test, y_pred=y_predicted))\n",
    "print(accuracy_score(y_true=y_test, y_pred=y_predicted))"
   ]
  },
  {
   "cell_type": "markdown",
   "id": "742538aa-9ef3-44dc-b8ab-a96e10f5d13c",
   "metadata": {},
   "source": [
    "### 4.2. Klasifikacija podataka koji su skalirani Standardnim skaliranjem"
   ]
  },
  {
   "cell_type": "markdown",
   "id": "de9879a3-f5b2-4147-9ae3-c3532fcabfad",
   "metadata": {},
   "source": [
    "#### Decision Tree"
   ]
  },
  {
   "cell_type": "code",
   "execution_count": 13,
   "id": "9f77eca9",
   "metadata": {},
   "outputs": [
    {
     "name": "stdout",
     "output_type": "stream",
     "text": [
      "              precision    recall  f1-score   support\n",
      "\n",
      "           0       0.75      0.74      0.74     12493\n",
      "           1       0.63      0.63      0.63     10599\n",
      "           2       0.33      0.36      0.34      1206\n",
      "           3       0.41      0.47      0.44       513\n",
      "           4       0.30      0.35      0.32        93\n",
      "           5       0.23      0.31      0.27        54\n",
      "           6       0.18      0.22      0.20        36\n",
      "           7       0.00      0.00      0.00         6\n",
      "           8       0.00      0.00      0.00         5\n",
      "           9       0.00      0.00      0.00         5\n",
      "\n",
      "    accuracy                           0.66     25010\n",
      "   macro avg       0.28      0.31      0.29     25010\n",
      "weighted avg       0.67      0.66      0.67     25010\n",
      "\n",
      "[[9201 3031  161   51    9   40    0    0    0    0]\n",
      " [2931 6661  672  250   62   11   12    0    0    0]\n",
      " [ 120  602  436   35    3    0   10    0    0    0]\n",
      " [  29  187   39  242    1    1   13    1    0    0]\n",
      " [   7   50    3    0   33    0    0    0    0    0]\n",
      " [  27   10    0    0    0   17    0    0    0    0]\n",
      " [   0    5   12   10    0    0    8    1    0    0]\n",
      " [   0    2    2    1    0    0    1    0    0    0]\n",
      " [   0    3    0    0    1    1    0    0    0    0]\n",
      " [   0    0    0    0    2    3    0    0    0    0]]\n",
      "0.6636545381847261\n"
     ]
    },
    {
     "name": "stderr",
     "output_type": "stream",
     "text": [
      "c:\\users\\cile\\pycharmprojects\\pokerhandprediction\\venv\\lib\\site-packages\\sklearn\\metrics\\_classification.py:1308: UndefinedMetricWarning: Precision and F-score are ill-defined and being set to 0.0 in labels with no predicted samples. Use `zero_division` parameter to control this behavior.\n",
      "  _warn_prf(average, modifier, msg_start, len(result))\n",
      "c:\\users\\cile\\pycharmprojects\\pokerhandprediction\\venv\\lib\\site-packages\\sklearn\\metrics\\_classification.py:1308: UndefinedMetricWarning: Precision and F-score are ill-defined and being set to 0.0 in labels with no predicted samples. Use `zero_division` parameter to control this behavior.\n",
      "  _warn_prf(average, modifier, msg_start, len(result))\n",
      "c:\\users\\cile\\pycharmprojects\\pokerhandprediction\\venv\\lib\\site-packages\\sklearn\\metrics\\_classification.py:1308: UndefinedMetricWarning: Precision and F-score are ill-defined and being set to 0.0 in labels with no predicted samples. Use `zero_division` parameter to control this behavior.\n",
      "  _warn_prf(average, modifier, msg_start, len(result))\n"
     ]
    }
   ],
   "source": [
    "classifier = DecisionTreeClassifier(random_state=42)\n",
    "classifier = classifier.fit(X=X_scaled, y=y)\n",
    "y_predicted = classifier.predict(X_test_scaled)\n",
    "print(classification_report(y_true=y_test, y_pred=y_predicted))\n",
    "print(confusion_matrix(y_true=y_test, y_pred=y_predicted))\n",
    "print(accuracy_score(y_true=y_test, y_pred=y_predicted))"
   ]
  },
  {
   "cell_type": "markdown",
   "id": "f31aa254-4141-43f8-a0b0-0adfba47b889",
   "metadata": {},
   "source": [
    "#### Random Forest"
   ]
  },
  {
   "cell_type": "code",
   "execution_count": 14,
   "id": "1556d590-d08c-443f-bdd3-902a33049728",
   "metadata": {},
   "outputs": [
    {
     "name": "stdout",
     "output_type": "stream",
     "text": [
      "              precision    recall  f1-score   support\n",
      "\n",
      "           0       0.79      0.92      0.85     12493\n",
      "           1       0.74      0.72      0.73     10599\n",
      "           2       0.65      0.03      0.06      1206\n",
      "           3       0.88      0.10      0.18       513\n",
      "           4       0.33      0.01      0.02        93\n",
      "           5       0.79      0.20      0.32        54\n",
      "           6       0.00      0.00      0.00        36\n",
      "           7       0.00      0.00      0.00         6\n",
      "           8       0.00      0.00      0.00         5\n",
      "           9       0.00      0.00      0.00         5\n",
      "\n",
      "    accuracy                           0.77     25010\n",
      "   macro avg       0.42      0.20      0.22     25010\n",
      "weighted avg       0.76      0.77      0.74     25010\n",
      "\n",
      "[[11477  1016     0     0     0     0     0     0     0     0]\n",
      " [ 2930  7656     9     2     2     0     0     0     0     0]\n",
      " [   21  1144    41     0     0     0     0     0     0     0]\n",
      " [    6   451     4    51     0     0     1     0     0     0]\n",
      " [    5    87     0     0     1     0     0     0     0     0]\n",
      " [   42     1     0     0     0    11     0     0     0     0]\n",
      " [    0    25     8     3     0     0     0     0     0     0]\n",
      " [    0     3     1     2     0     0     0     0     0     0]\n",
      " [    0     5     0     0     0     0     0     0     0     0]\n",
      " [    1     1     0     0     0     3     0     0     0     0]]\n",
      "0.769172331067573\n"
     ]
    },
    {
     "name": "stderr",
     "output_type": "stream",
     "text": [
      "c:\\users\\cile\\pycharmprojects\\pokerhandprediction\\venv\\lib\\site-packages\\sklearn\\metrics\\_classification.py:1308: UndefinedMetricWarning: Precision and F-score are ill-defined and being set to 0.0 in labels with no predicted samples. Use `zero_division` parameter to control this behavior.\n",
      "  _warn_prf(average, modifier, msg_start, len(result))\n",
      "c:\\users\\cile\\pycharmprojects\\pokerhandprediction\\venv\\lib\\site-packages\\sklearn\\metrics\\_classification.py:1308: UndefinedMetricWarning: Precision and F-score are ill-defined and being set to 0.0 in labels with no predicted samples. Use `zero_division` parameter to control this behavior.\n",
      "  _warn_prf(average, modifier, msg_start, len(result))\n",
      "c:\\users\\cile\\pycharmprojects\\pokerhandprediction\\venv\\lib\\site-packages\\sklearn\\metrics\\_classification.py:1308: UndefinedMetricWarning: Precision and F-score are ill-defined and being set to 0.0 in labels with no predicted samples. Use `zero_division` parameter to control this behavior.\n",
      "  _warn_prf(average, modifier, msg_start, len(result))\n"
     ]
    }
   ],
   "source": [
    "classifier = RandomForestClassifier(n_estimators=100)\n",
    "classifier = classifier.fit(X=X_scaled, y=y)\n",
    "y_predicted = classifier.predict(X_test_scaled)\n",
    "print(classification_report(y_true=y_test, y_pred=y_predicted))\n",
    "print(confusion_matrix(y_true=y_test, y_pred=y_predicted))\n",
    "print(accuracy_score(y_true=y_test, y_pred=y_predicted))"
   ]
  },
  {
   "cell_type": "markdown",
   "id": "d1b2aa4e-45e6-4d16-88e3-82c9aa22f924",
   "metadata": {},
   "source": [
    "#### SGD"
   ]
  },
  {
   "cell_type": "code",
   "execution_count": 15,
   "id": "95075084-6044-4a1c-a4dc-7c9d5a5f2b52",
   "metadata": {},
   "outputs": [
    {
     "name": "stdout",
     "output_type": "stream",
     "text": [
      "              precision    recall  f1-score   support\n",
      "\n",
      "           0       0.50      1.00      0.67     12493\n",
      "           1       0.00      0.00      0.00     10599\n",
      "           2       0.00      0.00      0.00      1206\n",
      "           3       0.00      0.00      0.00       513\n",
      "           4       0.00      0.00      0.00        93\n",
      "           5       0.00      0.00      0.00        54\n",
      "           6       0.00      0.00      0.00        36\n",
      "           7       0.00      0.00      0.00         6\n",
      "           8       0.00      0.00      0.00         5\n",
      "           9       0.00      0.00      0.00         5\n",
      "\n",
      "    accuracy                           0.50     25010\n",
      "   macro avg       0.05      0.10      0.07     25010\n",
      "weighted avg       0.25      0.50      0.33     25010\n",
      "\n",
      "[[12493     0     0     0     0     0     0     0     0     0]\n",
      " [10599     0     0     0     0     0     0     0     0     0]\n",
      " [ 1206     0     0     0     0     0     0     0     0     0]\n",
      " [  513     0     0     0     0     0     0     0     0     0]\n",
      " [   93     0     0     0     0     0     0     0     0     0]\n",
      " [   54     0     0     0     0     0     0     0     0     0]\n",
      " [   36     0     0     0     0     0     0     0     0     0]\n",
      " [    6     0     0     0     0     0     0     0     0     0]\n",
      " [    5     0     0     0     0     0     0     0     0     0]\n",
      " [    5     0     0     0     0     0     0     0     0     0]]\n",
      "0.4995201919232307\n"
     ]
    },
    {
     "name": "stderr",
     "output_type": "stream",
     "text": [
      "c:\\users\\cile\\pycharmprojects\\pokerhandprediction\\venv\\lib\\site-packages\\sklearn\\metrics\\_classification.py:1308: UndefinedMetricWarning: Precision and F-score are ill-defined and being set to 0.0 in labels with no predicted samples. Use `zero_division` parameter to control this behavior.\n",
      "  _warn_prf(average, modifier, msg_start, len(result))\n",
      "c:\\users\\cile\\pycharmprojects\\pokerhandprediction\\venv\\lib\\site-packages\\sklearn\\metrics\\_classification.py:1308: UndefinedMetricWarning: Precision and F-score are ill-defined and being set to 0.0 in labels with no predicted samples. Use `zero_division` parameter to control this behavior.\n",
      "  _warn_prf(average, modifier, msg_start, len(result))\n",
      "c:\\users\\cile\\pycharmprojects\\pokerhandprediction\\venv\\lib\\site-packages\\sklearn\\metrics\\_classification.py:1308: UndefinedMetricWarning: Precision and F-score are ill-defined and being set to 0.0 in labels with no predicted samples. Use `zero_division` parameter to control this behavior.\n",
      "  _warn_prf(average, modifier, msg_start, len(result))\n"
     ]
    }
   ],
   "source": [
    "classifier = SGDClassifier()\n",
    "classifier = classifier.fit(X=X_scaled, y=y)\n",
    "y_predicted = classifier.predict(X_test_scaled)\n",
    "print(classification_report(y_true=y_test, y_pred=y_predicted))\n",
    "print(confusion_matrix(y_true=y_test, y_pred=y_predicted))\n",
    "print(accuracy_score(y_true=y_test, y_pred=y_predicted))"
   ]
  },
  {
   "cell_type": "markdown",
   "id": "bf89e55c-852a-4104-8dfa-d30fabfd3bc6",
   "metadata": {},
   "source": [
    "#### K Nearest Neighbors"
   ]
  },
  {
   "cell_type": "code",
   "execution_count": 16,
   "id": "697e02c9-a8b1-4c02-9c12-82484cecbd5d",
   "metadata": {},
   "outputs": [
    {
     "name": "stdout",
     "output_type": "stream",
     "text": [
      "              precision    recall  f1-score   support\n",
      "\n",
      "           0       0.58      0.69      0.63     12493\n",
      "           1       0.50      0.47      0.48     10599\n",
      "           2       0.21      0.03      0.05      1206\n",
      "           3       0.22      0.02      0.04       513\n",
      "           4       0.00      0.00      0.00        93\n",
      "           5       0.92      0.85      0.88        54\n",
      "           6       0.00      0.00      0.00        36\n",
      "           7       0.00      0.00      0.00         6\n",
      "           8       0.00      0.00      0.00         5\n",
      "           9       0.00      0.00      0.00         5\n",
      "\n",
      "    accuracy                           0.54     25010\n",
      "   macro avg       0.24      0.21      0.21     25010\n",
      "weighted avg       0.52      0.54      0.52     25010\n",
      "\n",
      "[[8564 3897   28    3    1    0    0    0    0    0]\n",
      " [5538 4947   82   27    3    0    2    0    0    0]\n",
      " [ 512  650   34    9    1    0    0    0    0    0]\n",
      " [ 136  353   11   12    1    0    0    0    0    0]\n",
      " [  25   65    2    1    0    0    0    0    0    0]\n",
      " [   6    2    0    0    0   46    0    0    0    0]\n",
      " [   9   22    3    1    1    0    0    0    0    0]\n",
      " [   0    4    1    1    0    0    0    0    0    0]\n",
      " [   1    2    0    0    0    2    0    0    0    0]\n",
      " [   2    1    0    0    0    2    0    0    0    0]]\n",
      "0.5439024390243903\n"
     ]
    },
    {
     "name": "stderr",
     "output_type": "stream",
     "text": [
      "c:\\users\\cile\\pycharmprojects\\pokerhandprediction\\venv\\lib\\site-packages\\sklearn\\metrics\\_classification.py:1308: UndefinedMetricWarning: Precision and F-score are ill-defined and being set to 0.0 in labels with no predicted samples. Use `zero_division` parameter to control this behavior.\n",
      "  _warn_prf(average, modifier, msg_start, len(result))\n",
      "c:\\users\\cile\\pycharmprojects\\pokerhandprediction\\venv\\lib\\site-packages\\sklearn\\metrics\\_classification.py:1308: UndefinedMetricWarning: Precision and F-score are ill-defined and being set to 0.0 in labels with no predicted samples. Use `zero_division` parameter to control this behavior.\n",
      "  _warn_prf(average, modifier, msg_start, len(result))\n",
      "c:\\users\\cile\\pycharmprojects\\pokerhandprediction\\venv\\lib\\site-packages\\sklearn\\metrics\\_classification.py:1308: UndefinedMetricWarning: Precision and F-score are ill-defined and being set to 0.0 in labels with no predicted samples. Use `zero_division` parameter to control this behavior.\n",
      "  _warn_prf(average, modifier, msg_start, len(result))\n"
     ]
    }
   ],
   "source": [
    "classifier = KNeighborsClassifier()\n",
    "classifier = classifier.fit(X=X_scaled, y=y)\n",
    "y_predicted = classifier.predict(X_test_scaled)\n",
    "print(classification_report(y_true=y_test, y_pred=y_predicted))\n",
    "print(confusion_matrix(y_true=y_test, y_pred=y_predicted))\n",
    "print(accuracy_score(y_true=y_test, y_pred=y_predicted))"
   ]
  },
  {
   "cell_type": "markdown",
   "id": "39222921-21b1-430a-bd45-7f022b1d0878",
   "metadata": {},
   "source": [
    "#### Naive-Bayes"
   ]
  },
  {
   "cell_type": "code",
   "execution_count": 17,
   "id": "f26634b2-242b-42b9-8707-7249c3409b9b",
   "metadata": {},
   "outputs": [
    {
     "name": "stdout",
     "output_type": "stream",
     "text": [
      "              precision    recall  f1-score   support\n",
      "\n",
      "           0       0.50      1.00      0.67     12493\n",
      "           1       0.00      0.00      0.00     10599\n",
      "           2       0.00      0.00      0.00      1206\n",
      "           3       0.00      0.00      0.00       513\n",
      "           4       0.00      0.00      0.00        93\n",
      "           5       0.00      0.00      0.00        54\n",
      "           6       0.00      0.00      0.00        36\n",
      "           7       0.00      0.00      0.00         6\n",
      "           8       0.00      0.00      0.00         5\n",
      "           9       0.00      0.00      0.00         5\n",
      "\n",
      "    accuracy                           0.50     25010\n",
      "   macro avg       0.05      0.10      0.07     25010\n",
      "weighted avg       0.25      0.50      0.33     25010\n",
      "\n",
      "[[12493     0     0     0     0     0     0     0     0     0]\n",
      " [10599     0     0     0     0     0     0     0     0     0]\n",
      " [ 1206     0     0     0     0     0     0     0     0     0]\n",
      " [  513     0     0     0     0     0     0     0     0     0]\n",
      " [   93     0     0     0     0     0     0     0     0     0]\n",
      " [   54     0     0     0     0     0     0     0     0     0]\n",
      " [   36     0     0     0     0     0     0     0     0     0]\n",
      " [    6     0     0     0     0     0     0     0     0     0]\n",
      " [    5     0     0     0     0     0     0     0     0     0]\n",
      " [    5     0     0     0     0     0     0     0     0     0]]\n",
      "0.4995201919232307\n"
     ]
    },
    {
     "name": "stderr",
     "output_type": "stream",
     "text": [
      "c:\\users\\cile\\pycharmprojects\\pokerhandprediction\\venv\\lib\\site-packages\\sklearn\\metrics\\_classification.py:1308: UndefinedMetricWarning: Precision and F-score are ill-defined and being set to 0.0 in labels with no predicted samples. Use `zero_division` parameter to control this behavior.\n",
      "  _warn_prf(average, modifier, msg_start, len(result))\n",
      "c:\\users\\cile\\pycharmprojects\\pokerhandprediction\\venv\\lib\\site-packages\\sklearn\\metrics\\_classification.py:1308: UndefinedMetricWarning: Precision and F-score are ill-defined and being set to 0.0 in labels with no predicted samples. Use `zero_division` parameter to control this behavior.\n",
      "  _warn_prf(average, modifier, msg_start, len(result))\n",
      "c:\\users\\cile\\pycharmprojects\\pokerhandprediction\\venv\\lib\\site-packages\\sklearn\\metrics\\_classification.py:1308: UndefinedMetricWarning: Precision and F-score are ill-defined and being set to 0.0 in labels with no predicted samples. Use `zero_division` parameter to control this behavior.\n",
      "  _warn_prf(average, modifier, msg_start, len(result))\n"
     ]
    }
   ],
   "source": [
    "classifier = GaussianNB()\n",
    "classifier = classifier.fit(X=X_scaled, y=y)\n",
    "y_predicted = classifier.predict(X_test_scaled)\n",
    "print(classification_report(y_true=y_test, y_pred=y_predicted))\n",
    "print(confusion_matrix(y_true=y_test, y_pred=y_predicted))\n",
    "print(accuracy_score(y_true=y_test, y_pred=y_predicted))"
   ]
  },
  {
   "cell_type": "markdown",
   "id": "63f2bb7c-265e-4a78-b794-1dabff9c206e",
   "metadata": {},
   "source": [
    "### 4.3. Klasifikacija podataka skaliranih MinMax skaliranjem"
   ]
  },
  {
   "cell_type": "markdown",
   "id": "16bd6163-664e-46fe-8731-303105351017",
   "metadata": {},
   "source": [
    "#### Decision Tree"
   ]
  },
  {
   "cell_type": "code",
   "execution_count": 18,
   "id": "a79b21bb-736d-4111-b896-d0a49ea40540",
   "metadata": {},
   "outputs": [
    {
     "name": "stdout",
     "output_type": "stream",
     "text": [
      "              precision    recall  f1-score   support\n",
      "\n",
      "           0       0.75      0.73      0.74     12493\n",
      "           1       0.63      0.63      0.63     10599\n",
      "           2       0.33      0.36      0.35      1206\n",
      "           3       0.41      0.48      0.44       513\n",
      "           4       0.29      0.35      0.32        93\n",
      "           5       0.24      0.31      0.27        54\n",
      "           6       0.18      0.22      0.20        36\n",
      "           7       0.00      0.00      0.00         6\n",
      "           8       0.00      0.00      0.00         5\n",
      "           9       0.00      0.00      0.00         5\n",
      "\n",
      "    accuracy                           0.66     25010\n",
      "   macro avg       0.28      0.31      0.29     25010\n",
      "weighted avg       0.67      0.66      0.66     25010\n",
      "\n",
      "[[9176 3062  158   49   10   37    1    0    0    0]\n",
      " [2932 6652  677  251   62   13   12    0    0    0]\n",
      " [ 121  599  438   35    3    0   10    0    0    0]\n",
      " [  31  186   37  244    1    0   13    1    0    0]\n",
      " [   7   50    3    0   33    0    0    0    0    0]\n",
      " [  27   10    0    0    0   17    0    0    0    0]\n",
      " [   0    5   12   10    0    0    8    1    0    0]\n",
      " [   0    2    2    1    0    0    1    0    0    0]\n",
      " [   0    3    0    0    1    1    0    0    0    0]\n",
      " [   0    0    0    0    2    3    0    0    0    0]]\n",
      "0.6624550179928029\n"
     ]
    },
    {
     "name": "stderr",
     "output_type": "stream",
     "text": [
      "c:\\users\\cile\\pycharmprojects\\pokerhandprediction\\venv\\lib\\site-packages\\sklearn\\metrics\\_classification.py:1308: UndefinedMetricWarning: Precision and F-score are ill-defined and being set to 0.0 in labels with no predicted samples. Use `zero_division` parameter to control this behavior.\n",
      "  _warn_prf(average, modifier, msg_start, len(result))\n",
      "c:\\users\\cile\\pycharmprojects\\pokerhandprediction\\venv\\lib\\site-packages\\sklearn\\metrics\\_classification.py:1308: UndefinedMetricWarning: Precision and F-score are ill-defined and being set to 0.0 in labels with no predicted samples. Use `zero_division` parameter to control this behavior.\n",
      "  _warn_prf(average, modifier, msg_start, len(result))\n",
      "c:\\users\\cile\\pycharmprojects\\pokerhandprediction\\venv\\lib\\site-packages\\sklearn\\metrics\\_classification.py:1308: UndefinedMetricWarning: Precision and F-score are ill-defined and being set to 0.0 in labels with no predicted samples. Use `zero_division` parameter to control this behavior.\n",
      "  _warn_prf(average, modifier, msg_start, len(result))\n"
     ]
    }
   ],
   "source": [
    "classifier = DecisionTreeClassifier(random_state=42)\n",
    "classifier = classifier.fit(X=X_minmax, y=y)\n",
    "y_predicted = classifier.predict(X_test_minmax)\n",
    "print(classification_report(y_true=y_test, y_pred=y_predicted))\n",
    "print(confusion_matrix(y_true=y_test, y_pred=y_predicted))\n",
    "print(accuracy_score(y_true=y_test, y_pred=y_predicted))"
   ]
  },
  {
   "cell_type": "markdown",
   "id": "70c931dd-0b8a-4999-8058-d83e61c30ada",
   "metadata": {},
   "source": [
    "#### Random Forest"
   ]
  },
  {
   "cell_type": "code",
   "execution_count": 19,
   "id": "8c33e857-e22e-4ee2-a7cc-8cfda3adbe1a",
   "metadata": {},
   "outputs": [
    {
     "name": "stdout",
     "output_type": "stream",
     "text": [
      "              precision    recall  f1-score   support\n",
      "\n",
      "           0       0.79      0.91      0.85     12493\n",
      "           1       0.73      0.71      0.72     10599\n",
      "           2       0.72      0.04      0.07      1206\n",
      "           3       0.91      0.10      0.18       513\n",
      "           4       0.67      0.02      0.04        93\n",
      "           5       0.88      0.41      0.56        54\n",
      "           6       0.00      0.00      0.00        36\n",
      "           7       0.00      0.00      0.00         6\n",
      "           8       0.00      0.00      0.00         5\n",
      "           9       0.00      0.00      0.00         5\n",
      "\n",
      "    accuracy                           0.76     25010\n",
      "   macro avg       0.47      0.22      0.24     25010\n",
      "weighted avg       0.76      0.76      0.74     25010\n",
      "\n",
      "[[11425  1068     0     0     0     0     0     0     0     0]\n",
      " [ 3023  7566     7     2     1     0     0     0     0     0]\n",
      " [   21  1142    43     0     0     0     0     0     0     0]\n",
      " [    6   450     5    50     0     0     2     0     0     0]\n",
      " [    5    86     0     0     2     0     0     0     0     0]\n",
      " [   32     0     0     0     0    22     0     0     0     0]\n",
      " [    0    29     5     2     0     0     0     0     0     0]\n",
      " [    0     5     0     1     0     0     0     0     0     0]\n",
      " [    0     5     0     0     0     0     0     0     0     0]\n",
      " [    2     0     0     0     0     3     0     0     0     0]]\n",
      "0.7640143942423031\n"
     ]
    },
    {
     "name": "stderr",
     "output_type": "stream",
     "text": [
      "c:\\users\\cile\\pycharmprojects\\pokerhandprediction\\venv\\lib\\site-packages\\sklearn\\metrics\\_classification.py:1308: UndefinedMetricWarning: Precision and F-score are ill-defined and being set to 0.0 in labels with no predicted samples. Use `zero_division` parameter to control this behavior.\n",
      "  _warn_prf(average, modifier, msg_start, len(result))\n",
      "c:\\users\\cile\\pycharmprojects\\pokerhandprediction\\venv\\lib\\site-packages\\sklearn\\metrics\\_classification.py:1308: UndefinedMetricWarning: Precision and F-score are ill-defined and being set to 0.0 in labels with no predicted samples. Use `zero_division` parameter to control this behavior.\n",
      "  _warn_prf(average, modifier, msg_start, len(result))\n",
      "c:\\users\\cile\\pycharmprojects\\pokerhandprediction\\venv\\lib\\site-packages\\sklearn\\metrics\\_classification.py:1308: UndefinedMetricWarning: Precision and F-score are ill-defined and being set to 0.0 in labels with no predicted samples. Use `zero_division` parameter to control this behavior.\n",
      "  _warn_prf(average, modifier, msg_start, len(result))\n"
     ]
    }
   ],
   "source": [
    "classifier = RandomForestClassifier(n_estimators=100)\n",
    "classifier = classifier.fit(X=X_minmax, y=y)\n",
    "y_predicted = classifier.predict(X_test_minmax)\n",
    "print(classification_report(y_true=y_test, y_pred=y_predicted))\n",
    "print(confusion_matrix(y_true=y_test, y_pred=y_predicted))\n",
    "print(accuracy_score(y_true=y_test, y_pred=y_predicted))"
   ]
  },
  {
   "cell_type": "markdown",
   "id": "1650a10d-a533-4827-8402-92f6af0805da",
   "metadata": {},
   "source": [
    "#### SGD"
   ]
  },
  {
   "cell_type": "code",
   "execution_count": 20,
   "id": "c64f2834-77c2-4217-bd87-dead7cf5e112",
   "metadata": {},
   "outputs": [
    {
     "name": "stdout",
     "output_type": "stream",
     "text": [
      "              precision    recall  f1-score   support\n",
      "\n",
      "           0       0.50      1.00      0.67     12493\n",
      "           1       0.00      0.00      0.00     10599\n",
      "           2       0.00      0.00      0.00      1206\n",
      "           3       0.00      0.00      0.00       513\n",
      "           4       0.00      0.00      0.00        93\n",
      "           5       0.00      0.00      0.00        54\n",
      "           6       0.00      0.00      0.00        36\n",
      "           7       0.00      0.00      0.00         6\n",
      "           8       0.00      0.00      0.00         5\n",
      "           9       0.00      0.00      0.00         5\n",
      "\n",
      "    accuracy                           0.50     25010\n",
      "   macro avg       0.05      0.10      0.07     25010\n",
      "weighted avg       0.25      0.50      0.33     25010\n",
      "\n",
      "[[12493     0     0     0     0     0     0     0     0     0]\n",
      " [10599     0     0     0     0     0     0     0     0     0]\n",
      " [ 1206     0     0     0     0     0     0     0     0     0]\n",
      " [  513     0     0     0     0     0     0     0     0     0]\n",
      " [   93     0     0     0     0     0     0     0     0     0]\n",
      " [   54     0     0     0     0     0     0     0     0     0]\n",
      " [   36     0     0     0     0     0     0     0     0     0]\n",
      " [    6     0     0     0     0     0     0     0     0     0]\n",
      " [    5     0     0     0     0     0     0     0     0     0]\n",
      " [    5     0     0     0     0     0     0     0     0     0]]\n",
      "0.4995201919232307\n"
     ]
    },
    {
     "name": "stderr",
     "output_type": "stream",
     "text": [
      "c:\\users\\cile\\pycharmprojects\\pokerhandprediction\\venv\\lib\\site-packages\\sklearn\\metrics\\_classification.py:1308: UndefinedMetricWarning: Precision and F-score are ill-defined and being set to 0.0 in labels with no predicted samples. Use `zero_division` parameter to control this behavior.\n",
      "  _warn_prf(average, modifier, msg_start, len(result))\n",
      "c:\\users\\cile\\pycharmprojects\\pokerhandprediction\\venv\\lib\\site-packages\\sklearn\\metrics\\_classification.py:1308: UndefinedMetricWarning: Precision and F-score are ill-defined and being set to 0.0 in labels with no predicted samples. Use `zero_division` parameter to control this behavior.\n",
      "  _warn_prf(average, modifier, msg_start, len(result))\n",
      "c:\\users\\cile\\pycharmprojects\\pokerhandprediction\\venv\\lib\\site-packages\\sklearn\\metrics\\_classification.py:1308: UndefinedMetricWarning: Precision and F-score are ill-defined and being set to 0.0 in labels with no predicted samples. Use `zero_division` parameter to control this behavior.\n",
      "  _warn_prf(average, modifier, msg_start, len(result))\n"
     ]
    }
   ],
   "source": [
    "classifier = SGDClassifier()\n",
    "classifier = classifier.fit(X=X_minmax, y=y)\n",
    "y_predicted = classifier.predict(X_test_minmax)\n",
    "print(classification_report(y_true=y_test, y_pred=y_predicted))\n",
    "print(confusion_matrix(y_true=y_test, y_pred=y_predicted))\n",
    "print(accuracy_score(y_true=y_test, y_pred=y_predicted))"
   ]
  },
  {
   "cell_type": "markdown",
   "id": "cdcee5eb-6e1d-46fd-8b60-c365ec2ea7cd",
   "metadata": {},
   "source": [
    "#### K Nearest Neighbors"
   ]
  },
  {
   "cell_type": "code",
   "execution_count": 21,
   "id": "20c7bfd0-ce75-4ca3-8145-365a71803cad",
   "metadata": {},
   "outputs": [
    {
     "name": "stdout",
     "output_type": "stream",
     "text": [
      "              precision    recall  f1-score   support\n",
      "\n",
      "           0       0.57      0.68      0.62     12493\n",
      "           1       0.49      0.46      0.48     10599\n",
      "           2       0.18      0.02      0.04      1206\n",
      "           3       0.24      0.02      0.04       513\n",
      "           4       0.00      0.00      0.00        93\n",
      "           5       0.89      0.93      0.91        54\n",
      "           6       0.00      0.00      0.00        36\n",
      "           7       0.00      0.00      0.00         6\n",
      "           8       0.00      0.00      0.00         5\n",
      "           9       0.00      0.00      0.00         5\n",
      "\n",
      "    accuracy                           0.54     25010\n",
      "   macro avg       0.24      0.21      0.21     25010\n",
      "weighted avg       0.51      0.54      0.52     25010\n",
      "\n",
      "[[8506 3954   28    5    0    0    0    0    0    0]\n",
      " [5596 4910   69   20    1    0    3    0    0    0]\n",
      " [ 528  646   25    7    0    0    0    0    0    0]\n",
      " [ 154  337   10   11    1    0    0    0    0    0]\n",
      " [  25   65    2    1    0    0    0    0    0    0]\n",
      " [   3    1    0    0    0   50    0    0    0    0]\n",
      " [   9   23    2    1    1    0    0    0    0    0]\n",
      " [   0    4    1    1    0    0    0    0    0    0]\n",
      " [   0    2    0    0    0    3    0    0    0    0]\n",
      " [   0    2    0    0    0    3    0    0    0    0]]\n",
      "0.5398640543782487\n"
     ]
    },
    {
     "name": "stderr",
     "output_type": "stream",
     "text": [
      "c:\\users\\cile\\pycharmprojects\\pokerhandprediction\\venv\\lib\\site-packages\\sklearn\\metrics\\_classification.py:1308: UndefinedMetricWarning: Precision and F-score are ill-defined and being set to 0.0 in labels with no predicted samples. Use `zero_division` parameter to control this behavior.\n",
      "  _warn_prf(average, modifier, msg_start, len(result))\n",
      "c:\\users\\cile\\pycharmprojects\\pokerhandprediction\\venv\\lib\\site-packages\\sklearn\\metrics\\_classification.py:1308: UndefinedMetricWarning: Precision and F-score are ill-defined and being set to 0.0 in labels with no predicted samples. Use `zero_division` parameter to control this behavior.\n",
      "  _warn_prf(average, modifier, msg_start, len(result))\n",
      "c:\\users\\cile\\pycharmprojects\\pokerhandprediction\\venv\\lib\\site-packages\\sklearn\\metrics\\_classification.py:1308: UndefinedMetricWarning: Precision and F-score are ill-defined and being set to 0.0 in labels with no predicted samples. Use `zero_division` parameter to control this behavior.\n",
      "  _warn_prf(average, modifier, msg_start, len(result))\n"
     ]
    }
   ],
   "source": [
    "classifier = KNeighborsClassifier()\n",
    "classifier = classifier.fit(X=X_minmax, y=y)\n",
    "y_predicted = classifier.predict(X_test_minmax)\n",
    "print(classification_report(y_true=y_test, y_pred=y_predicted))\n",
    "print(confusion_matrix(y_true=y_test, y_pred=y_predicted))\n",
    "print(accuracy_score(y_true=y_test, y_pred=y_predicted))"
   ]
  },
  {
   "cell_type": "markdown",
   "id": "d342911e-cb31-47c9-9b45-a4cb814db016",
   "metadata": {},
   "source": [
    "#### Naive-Bayes"
   ]
  },
  {
   "cell_type": "code",
   "execution_count": 22,
   "id": "400aca12-8c7f-43cc-8a0b-3a6d9fb15290",
   "metadata": {},
   "outputs": [
    {
     "name": "stdout",
     "output_type": "stream",
     "text": [
      "              precision    recall  f1-score   support\n",
      "\n",
      "           0       0.50      1.00      0.67     12493\n",
      "           1       0.00      0.00      0.00     10599\n",
      "           2       0.00      0.00      0.00      1206\n",
      "           3       0.00      0.00      0.00       513\n",
      "           4       0.00      0.00      0.00        93\n",
      "           5       0.00      0.00      0.00        54\n",
      "           6       0.00      0.00      0.00        36\n",
      "           7       0.00      0.00      0.00         6\n",
      "           8       0.00      0.00      0.00         5\n",
      "           9       0.00      0.00      0.00         5\n",
      "\n",
      "    accuracy                           0.50     25010\n",
      "   macro avg       0.05      0.10      0.07     25010\n",
      "weighted avg       0.25      0.50      0.33     25010\n",
      "\n",
      "[[12493     0     0     0     0     0     0     0     0     0]\n",
      " [10599     0     0     0     0     0     0     0     0     0]\n",
      " [ 1206     0     0     0     0     0     0     0     0     0]\n",
      " [  513     0     0     0     0     0     0     0     0     0]\n",
      " [   93     0     0     0     0     0     0     0     0     0]\n",
      " [   54     0     0     0     0     0     0     0     0     0]\n",
      " [   36     0     0     0     0     0     0     0     0     0]\n",
      " [    6     0     0     0     0     0     0     0     0     0]\n",
      " [    5     0     0     0     0     0     0     0     0     0]\n",
      " [    5     0     0     0     0     0     0     0     0     0]]\n",
      "0.4995201919232307\n"
     ]
    },
    {
     "name": "stderr",
     "output_type": "stream",
     "text": [
      "c:\\users\\cile\\pycharmprojects\\pokerhandprediction\\venv\\lib\\site-packages\\sklearn\\metrics\\_classification.py:1308: UndefinedMetricWarning: Precision and F-score are ill-defined and being set to 0.0 in labels with no predicted samples. Use `zero_division` parameter to control this behavior.\n",
      "  _warn_prf(average, modifier, msg_start, len(result))\n",
      "c:\\users\\cile\\pycharmprojects\\pokerhandprediction\\venv\\lib\\site-packages\\sklearn\\metrics\\_classification.py:1308: UndefinedMetricWarning: Precision and F-score are ill-defined and being set to 0.0 in labels with no predicted samples. Use `zero_division` parameter to control this behavior.\n",
      "  _warn_prf(average, modifier, msg_start, len(result))\n",
      "c:\\users\\cile\\pycharmprojects\\pokerhandprediction\\venv\\lib\\site-packages\\sklearn\\metrics\\_classification.py:1308: UndefinedMetricWarning: Precision and F-score are ill-defined and being set to 0.0 in labels with no predicted samples. Use `zero_division` parameter to control this behavior.\n",
      "  _warn_prf(average, modifier, msg_start, len(result))\n"
     ]
    }
   ],
   "source": [
    "classifier = GaussianNB()\n",
    "classifier = classifier.fit(X=X_minmax, y=y)\n",
    "y_predicted = classifier.predict(X_test_minmax)\n",
    "print(classification_report(y_true=y_test, y_pred=y_predicted))\n",
    "print(confusion_matrix(y_true=y_test, y_pred=y_predicted))\n",
    "print(accuracy_score(y_true=y_test, y_pred=y_predicted))"
   ]
  },
  {
   "cell_type": "markdown",
   "id": "e3feb431-28a2-4cc3-ac65-62a0df30a98e",
   "metadata": {},
   "source": [
    "## 5. Zakljucak"
   ]
  },
  {
   "cell_type": "markdown",
   "id": "30b23388-7e09-44dc-8094-ac33ef3c220f",
   "metadata": {},
   "source": [
    "#### Moze se zakljuciti da su neki algoritmi bili dosta losi pri klasifikaciji jer su dosta bili povuceni time da najvise ima redova kojima je vrednost 0 ili 1. Sa druge strane, najbolje se pokazao Random Forest koji je sa skaliranim podacima dosao do tacnosti 76.91% - sto je solidno. Takodje, KNN se dobro pokazao jer nije uopste bio povucen problemima koje su imali ostali algoritmi i dostigao najvecu tacnost od 65.66% kod neskaliranih podataka. Dataset nije previse zahvalan za algoritme masinskog ucenja, ali se cini da bi se neuronske mreze dobro pokazale kod ovog dataseta."
   ]
  },
  {
   "cell_type": "code",
   "execution_count": null,
   "id": "506eae2e-2101-4b9f-82b0-5acc602f6446",
   "metadata": {},
   "outputs": [],
   "source": []
  }
 ],
 "metadata": {
  "kernelspec": {
   "display_name": "Python 3 (ipykernel)",
   "language": "python",
   "name": "python3"
  },
  "language_info": {
   "codemirror_mode": {
    "name": "ipython",
    "version": 3
   },
   "file_extension": ".py",
   "mimetype": "text/x-python",
   "name": "python",
   "nbconvert_exporter": "python",
   "pygments_lexer": "ipython3",
   "version": "3.7.5"
  }
 },
 "nbformat": 4,
 "nbformat_minor": 5
}
