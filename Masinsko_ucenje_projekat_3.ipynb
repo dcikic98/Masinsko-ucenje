{
 "cells": [
  {
   "cell_type": "markdown",
   "id": "1d0c55be-074e-4d6e-8c69-41f401c516d0",
   "metadata": {},
   "source": [
    "# MASINSKO UCENJE PROJEKAT 3"
   ]
  },
  {
   "cell_type": "markdown",
   "id": "adb52e17-6224-4524-be42-b71fdddb1b6b",
   "metadata": {},
   "source": [
    "### Predmet projekta je klasifikacija za video igricu Counter Strike: Global Offensive. Dataset je sacinjen od parametara koji predstavljaju podatke o trenutnom stanju svakog od timova, rezultat klasifikacije je pobeda CT tima (Counter-Terrorist) ili T tima (Terrorist)."
   ]
  },
  {
   "cell_type": "markdown",
   "id": "f419e36d-04f2-4a93-a295-c6ea9e538ec1",
   "metadata": {},
   "source": [
    "## 1. Importovanje potrebnih biblioteka"
   ]
  },
  {
   "cell_type": "code",
   "execution_count": 1,
   "id": "8c3fcc0c-36ff-4c22-abec-807b16427e6d",
   "metadata": {},
   "outputs": [],
   "source": [
    "import pandas as pd\n",
    "import numpy as np\n",
    "import random\n",
    "import matplotlib.pyplot as plt\n",
    "from tensorflow import keras\n",
    "import tensorflow as tf\n",
    "from sklearn.preprocessing import StandardScaler\n",
    "tf.compat.v1.disable_eager_execution()\n",
    "from tensorflow.keras.models import Sequential\n",
    "from tensorflow.keras.layers import Dense, Activation\n",
    "from tensorflow.keras.callbacks import ReduceLROnPlateau"
   ]
  },
  {
   "cell_type": "markdown",
   "id": "c49f4ea7-160f-48f0-900b-d09b627ef1c5",
   "metadata": {},
   "source": [
    "## 2. Ucitavanje podataka"
   ]
  },
  {
   "cell_type": "code",
   "execution_count": 2,
   "id": "5ec3838a-4517-498e-8095-2575b7c1b611",
   "metadata": {},
   "outputs": [
    {
     "data": {
      "text/html": [
       "<div>\n",
       "<style scoped>\n",
       "    .dataframe tbody tr th:only-of-type {\n",
       "        vertical-align: middle;\n",
       "    }\n",
       "\n",
       "    .dataframe tbody tr th {\n",
       "        vertical-align: top;\n",
       "    }\n",
       "\n",
       "    .dataframe thead th {\n",
       "        text-align: right;\n",
       "    }\n",
       "</style>\n",
       "<table border=\"1\" class=\"dataframe\">\n",
       "  <thead>\n",
       "    <tr style=\"text-align: right;\">\n",
       "      <th></th>\n",
       "      <th>time_left</th>\n",
       "      <th>ct_score</th>\n",
       "      <th>t_score</th>\n",
       "      <th>map</th>\n",
       "      <th>bomb_planted</th>\n",
       "      <th>ct_health</th>\n",
       "      <th>t_health</th>\n",
       "      <th>ct_armor</th>\n",
       "      <th>t_armor</th>\n",
       "      <th>ct_money</th>\n",
       "      <th>...</th>\n",
       "      <th>t_grenade_flashbang</th>\n",
       "      <th>ct_grenade_smokegrenade</th>\n",
       "      <th>t_grenade_smokegrenade</th>\n",
       "      <th>ct_grenade_incendiarygrenade</th>\n",
       "      <th>t_grenade_incendiarygrenade</th>\n",
       "      <th>ct_grenade_molotovgrenade</th>\n",
       "      <th>t_grenade_molotovgrenade</th>\n",
       "      <th>ct_grenade_decoygrenade</th>\n",
       "      <th>t_grenade_decoygrenade</th>\n",
       "      <th>round_winner</th>\n",
       "    </tr>\n",
       "  </thead>\n",
       "  <tbody>\n",
       "    <tr>\n",
       "      <th>0</th>\n",
       "      <td>175.00</td>\n",
       "      <td>0.0</td>\n",
       "      <td>0.0</td>\n",
       "      <td>de_dust2</td>\n",
       "      <td>False</td>\n",
       "      <td>500.0</td>\n",
       "      <td>500.0</td>\n",
       "      <td>0.0</td>\n",
       "      <td>0.0</td>\n",
       "      <td>4000.0</td>\n",
       "      <td>...</td>\n",
       "      <td>0.0</td>\n",
       "      <td>0.0</td>\n",
       "      <td>0.0</td>\n",
       "      <td>0.0</td>\n",
       "      <td>0.0</td>\n",
       "      <td>0.0</td>\n",
       "      <td>0.0</td>\n",
       "      <td>0.0</td>\n",
       "      <td>0.0</td>\n",
       "      <td>CT</td>\n",
       "    </tr>\n",
       "    <tr>\n",
       "      <th>1</th>\n",
       "      <td>156.03</td>\n",
       "      <td>0.0</td>\n",
       "      <td>0.0</td>\n",
       "      <td>de_dust2</td>\n",
       "      <td>False</td>\n",
       "      <td>500.0</td>\n",
       "      <td>500.0</td>\n",
       "      <td>400.0</td>\n",
       "      <td>300.0</td>\n",
       "      <td>600.0</td>\n",
       "      <td>...</td>\n",
       "      <td>0.0</td>\n",
       "      <td>0.0</td>\n",
       "      <td>2.0</td>\n",
       "      <td>0.0</td>\n",
       "      <td>0.0</td>\n",
       "      <td>0.0</td>\n",
       "      <td>0.0</td>\n",
       "      <td>0.0</td>\n",
       "      <td>0.0</td>\n",
       "      <td>CT</td>\n",
       "    </tr>\n",
       "    <tr>\n",
       "      <th>2</th>\n",
       "      <td>96.03</td>\n",
       "      <td>0.0</td>\n",
       "      <td>0.0</td>\n",
       "      <td>de_dust2</td>\n",
       "      <td>False</td>\n",
       "      <td>391.0</td>\n",
       "      <td>400.0</td>\n",
       "      <td>294.0</td>\n",
       "      <td>200.0</td>\n",
       "      <td>750.0</td>\n",
       "      <td>...</td>\n",
       "      <td>0.0</td>\n",
       "      <td>0.0</td>\n",
       "      <td>2.0</td>\n",
       "      <td>0.0</td>\n",
       "      <td>0.0</td>\n",
       "      <td>0.0</td>\n",
       "      <td>0.0</td>\n",
       "      <td>0.0</td>\n",
       "      <td>0.0</td>\n",
       "      <td>CT</td>\n",
       "    </tr>\n",
       "    <tr>\n",
       "      <th>3</th>\n",
       "      <td>76.03</td>\n",
       "      <td>0.0</td>\n",
       "      <td>0.0</td>\n",
       "      <td>de_dust2</td>\n",
       "      <td>False</td>\n",
       "      <td>391.0</td>\n",
       "      <td>400.0</td>\n",
       "      <td>294.0</td>\n",
       "      <td>200.0</td>\n",
       "      <td>750.0</td>\n",
       "      <td>...</td>\n",
       "      <td>0.0</td>\n",
       "      <td>0.0</td>\n",
       "      <td>0.0</td>\n",
       "      <td>0.0</td>\n",
       "      <td>0.0</td>\n",
       "      <td>0.0</td>\n",
       "      <td>0.0</td>\n",
       "      <td>0.0</td>\n",
       "      <td>0.0</td>\n",
       "      <td>CT</td>\n",
       "    </tr>\n",
       "    <tr>\n",
       "      <th>4</th>\n",
       "      <td>174.97</td>\n",
       "      <td>1.0</td>\n",
       "      <td>0.0</td>\n",
       "      <td>de_dust2</td>\n",
       "      <td>False</td>\n",
       "      <td>500.0</td>\n",
       "      <td>500.0</td>\n",
       "      <td>192.0</td>\n",
       "      <td>0.0</td>\n",
       "      <td>18350.0</td>\n",
       "      <td>...</td>\n",
       "      <td>0.0</td>\n",
       "      <td>0.0</td>\n",
       "      <td>0.0</td>\n",
       "      <td>0.0</td>\n",
       "      <td>0.0</td>\n",
       "      <td>0.0</td>\n",
       "      <td>0.0</td>\n",
       "      <td>0.0</td>\n",
       "      <td>0.0</td>\n",
       "      <td>CT</td>\n",
       "    </tr>\n",
       "  </tbody>\n",
       "</table>\n",
       "<p>5 rows × 97 columns</p>\n",
       "</div>"
      ],
      "text/plain": [
       "   time_left  ct_score  t_score       map  bomb_planted  ct_health  t_health  \\\n",
       "0     175.00       0.0      0.0  de_dust2         False      500.0     500.0   \n",
       "1     156.03       0.0      0.0  de_dust2         False      500.0     500.0   \n",
       "2      96.03       0.0      0.0  de_dust2         False      391.0     400.0   \n",
       "3      76.03       0.0      0.0  de_dust2         False      391.0     400.0   \n",
       "4     174.97       1.0      0.0  de_dust2         False      500.0     500.0   \n",
       "\n",
       "   ct_armor  t_armor  ct_money  ...  t_grenade_flashbang  \\\n",
       "0       0.0      0.0    4000.0  ...                  0.0   \n",
       "1     400.0    300.0     600.0  ...                  0.0   \n",
       "2     294.0    200.0     750.0  ...                  0.0   \n",
       "3     294.0    200.0     750.0  ...                  0.0   \n",
       "4     192.0      0.0   18350.0  ...                  0.0   \n",
       "\n",
       "   ct_grenade_smokegrenade  t_grenade_smokegrenade  \\\n",
       "0                      0.0                     0.0   \n",
       "1                      0.0                     2.0   \n",
       "2                      0.0                     2.0   \n",
       "3                      0.0                     0.0   \n",
       "4                      0.0                     0.0   \n",
       "\n",
       "   ct_grenade_incendiarygrenade  t_grenade_incendiarygrenade  \\\n",
       "0                           0.0                          0.0   \n",
       "1                           0.0                          0.0   \n",
       "2                           0.0                          0.0   \n",
       "3                           0.0                          0.0   \n",
       "4                           0.0                          0.0   \n",
       "\n",
       "   ct_grenade_molotovgrenade  t_grenade_molotovgrenade  \\\n",
       "0                        0.0                       0.0   \n",
       "1                        0.0                       0.0   \n",
       "2                        0.0                       0.0   \n",
       "3                        0.0                       0.0   \n",
       "4                        0.0                       0.0   \n",
       "\n",
       "   ct_grenade_decoygrenade  t_grenade_decoygrenade  round_winner  \n",
       "0                      0.0                     0.0            CT  \n",
       "1                      0.0                     0.0            CT  \n",
       "2                      0.0                     0.0            CT  \n",
       "3                      0.0                     0.0            CT  \n",
       "4                      0.0                     0.0            CT  \n",
       "\n",
       "[5 rows x 97 columns]"
      ]
     },
     "execution_count": 2,
     "metadata": {},
     "output_type": "execute_result"
    }
   ],
   "source": [
    "dataset = pd.read_csv(\"csgo_round_snapshots.csv\")\n",
    "dataset.head()"
   ]
  },
  {
   "cell_type": "markdown",
   "id": "e994a793-f475-484a-a9ec-59744cc4673d",
   "metadata": {},
   "source": [
    "#### Kao sto se moze primetiti dataset se sastoji od 97 featura. Znacajniji su preostalo vreme do kraja runde u sekundama (time_left), trenutni skor u rundama (ct_score, t_score), na kojoj mapi se trenutno igra (map), da li je u zadatom trenutku postavljena C4 bomba (bomb_planted), ukupna vrednost zivota za ceo tim (ct_health, t_health, maksimum je 500=5x100), ukupna vrednost pancira za svaki tim, ukupna vrednost novca, nadalje su zadati parametri koji predstavljaju broj oruzja koje svaki tim poseduje (ct_weapon_\"ime_oruzja\", t_weapon_\"ime_oruzja\"), zadati su takodje broj bombi koje tim poseduje. I na kraju je dato koji je tim osvojio rundu."
   ]
  },
  {
   "cell_type": "markdown",
   "id": "4e1a48fd-3637-4266-95c2-9dbe5d3329d4",
   "metadata": {},
   "source": [
    "#### Dalje se vrsi ciscenje dataseta od praznih vrednosti"
   ]
  },
  {
   "cell_type": "code",
   "execution_count": 3,
   "id": "5b0ca9e0-6e21-4308-a717-a74bc48c7951",
   "metadata": {},
   "outputs": [],
   "source": [
    "dataset.dropna(inplace=True)\n",
    "dataset.reset_index(drop=True, inplace=True)"
   ]
  },
  {
   "cell_type": "markdown",
   "id": "bc18724d-0811-46e2-92e9-91eedf5a98a9",
   "metadata": {},
   "source": [
    "#### Da bi se izbegi stringovi kao vrednost za map, potrebno je napraviti nove binarne kolone koje ukazuju na to koja je mapa u pitanju "
   ]
  },
  {
   "cell_type": "code",
   "execution_count": 4,
   "id": "db3374e4-7e34-4490-918c-75f5e4d6122c",
   "metadata": {},
   "outputs": [
    {
     "data": {
      "text/html": [
       "<div>\n",
       "<style scoped>\n",
       "    .dataframe tbody tr th:only-of-type {\n",
       "        vertical-align: middle;\n",
       "    }\n",
       "\n",
       "    .dataframe tbody tr th {\n",
       "        vertical-align: top;\n",
       "    }\n",
       "\n",
       "    .dataframe thead th {\n",
       "        text-align: right;\n",
       "    }\n",
       "</style>\n",
       "<table border=\"1\" class=\"dataframe\">\n",
       "  <thead>\n",
       "    <tr style=\"text-align: right;\">\n",
       "      <th></th>\n",
       "      <th>time_left</th>\n",
       "      <th>ct_score</th>\n",
       "      <th>t_score</th>\n",
       "      <th>bomb_planted</th>\n",
       "      <th>ct_health</th>\n",
       "      <th>t_health</th>\n",
       "      <th>ct_armor</th>\n",
       "      <th>t_armor</th>\n",
       "      <th>ct_money</th>\n",
       "      <th>t_money</th>\n",
       "      <th>...</th>\n",
       "      <th>t_grenade_decoygrenade</th>\n",
       "      <th>round_winner</th>\n",
       "      <th>map_de_cache</th>\n",
       "      <th>map_de_dust2</th>\n",
       "      <th>map_de_inferno</th>\n",
       "      <th>map_de_mirage</th>\n",
       "      <th>map_de_nuke</th>\n",
       "      <th>map_de_overpass</th>\n",
       "      <th>map_de_train</th>\n",
       "      <th>map_de_vertigo</th>\n",
       "    </tr>\n",
       "  </thead>\n",
       "  <tbody>\n",
       "    <tr>\n",
       "      <th>0</th>\n",
       "      <td>175.00</td>\n",
       "      <td>0.0</td>\n",
       "      <td>0.0</td>\n",
       "      <td>False</td>\n",
       "      <td>500.0</td>\n",
       "      <td>500.0</td>\n",
       "      <td>0.0</td>\n",
       "      <td>0.0</td>\n",
       "      <td>4000.0</td>\n",
       "      <td>4000.0</td>\n",
       "      <td>...</td>\n",
       "      <td>0.0</td>\n",
       "      <td>CT</td>\n",
       "      <td>0</td>\n",
       "      <td>1</td>\n",
       "      <td>0</td>\n",
       "      <td>0</td>\n",
       "      <td>0</td>\n",
       "      <td>0</td>\n",
       "      <td>0</td>\n",
       "      <td>0</td>\n",
       "    </tr>\n",
       "    <tr>\n",
       "      <th>1</th>\n",
       "      <td>156.03</td>\n",
       "      <td>0.0</td>\n",
       "      <td>0.0</td>\n",
       "      <td>False</td>\n",
       "      <td>500.0</td>\n",
       "      <td>500.0</td>\n",
       "      <td>400.0</td>\n",
       "      <td>300.0</td>\n",
       "      <td>600.0</td>\n",
       "      <td>650.0</td>\n",
       "      <td>...</td>\n",
       "      <td>0.0</td>\n",
       "      <td>CT</td>\n",
       "      <td>0</td>\n",
       "      <td>1</td>\n",
       "      <td>0</td>\n",
       "      <td>0</td>\n",
       "      <td>0</td>\n",
       "      <td>0</td>\n",
       "      <td>0</td>\n",
       "      <td>0</td>\n",
       "    </tr>\n",
       "    <tr>\n",
       "      <th>2</th>\n",
       "      <td>96.03</td>\n",
       "      <td>0.0</td>\n",
       "      <td>0.0</td>\n",
       "      <td>False</td>\n",
       "      <td>391.0</td>\n",
       "      <td>400.0</td>\n",
       "      <td>294.0</td>\n",
       "      <td>200.0</td>\n",
       "      <td>750.0</td>\n",
       "      <td>500.0</td>\n",
       "      <td>...</td>\n",
       "      <td>0.0</td>\n",
       "      <td>CT</td>\n",
       "      <td>0</td>\n",
       "      <td>1</td>\n",
       "      <td>0</td>\n",
       "      <td>0</td>\n",
       "      <td>0</td>\n",
       "      <td>0</td>\n",
       "      <td>0</td>\n",
       "      <td>0</td>\n",
       "    </tr>\n",
       "    <tr>\n",
       "      <th>3</th>\n",
       "      <td>76.03</td>\n",
       "      <td>0.0</td>\n",
       "      <td>0.0</td>\n",
       "      <td>False</td>\n",
       "      <td>391.0</td>\n",
       "      <td>400.0</td>\n",
       "      <td>294.0</td>\n",
       "      <td>200.0</td>\n",
       "      <td>750.0</td>\n",
       "      <td>500.0</td>\n",
       "      <td>...</td>\n",
       "      <td>0.0</td>\n",
       "      <td>CT</td>\n",
       "      <td>0</td>\n",
       "      <td>1</td>\n",
       "      <td>0</td>\n",
       "      <td>0</td>\n",
       "      <td>0</td>\n",
       "      <td>0</td>\n",
       "      <td>0</td>\n",
       "      <td>0</td>\n",
       "    </tr>\n",
       "    <tr>\n",
       "      <th>4</th>\n",
       "      <td>174.97</td>\n",
       "      <td>1.0</td>\n",
       "      <td>0.0</td>\n",
       "      <td>False</td>\n",
       "      <td>500.0</td>\n",
       "      <td>500.0</td>\n",
       "      <td>192.0</td>\n",
       "      <td>0.0</td>\n",
       "      <td>18350.0</td>\n",
       "      <td>10750.0</td>\n",
       "      <td>...</td>\n",
       "      <td>0.0</td>\n",
       "      <td>CT</td>\n",
       "      <td>0</td>\n",
       "      <td>1</td>\n",
       "      <td>0</td>\n",
       "      <td>0</td>\n",
       "      <td>0</td>\n",
       "      <td>0</td>\n",
       "      <td>0</td>\n",
       "      <td>0</td>\n",
       "    </tr>\n",
       "  </tbody>\n",
       "</table>\n",
       "<p>5 rows × 104 columns</p>\n",
       "</div>"
      ],
      "text/plain": [
       "   time_left  ct_score  t_score  bomb_planted  ct_health  t_health  ct_armor  \\\n",
       "0     175.00       0.0      0.0         False      500.0     500.0       0.0   \n",
       "1     156.03       0.0      0.0         False      500.0     500.0     400.0   \n",
       "2      96.03       0.0      0.0         False      391.0     400.0     294.0   \n",
       "3      76.03       0.0      0.0         False      391.0     400.0     294.0   \n",
       "4     174.97       1.0      0.0         False      500.0     500.0     192.0   \n",
       "\n",
       "   t_armor  ct_money  t_money  ...  t_grenade_decoygrenade  round_winner  \\\n",
       "0      0.0    4000.0   4000.0  ...                     0.0            CT   \n",
       "1    300.0     600.0    650.0  ...                     0.0            CT   \n",
       "2    200.0     750.0    500.0  ...                     0.0            CT   \n",
       "3    200.0     750.0    500.0  ...                     0.0            CT   \n",
       "4      0.0   18350.0  10750.0  ...                     0.0            CT   \n",
       "\n",
       "   map_de_cache  map_de_dust2  map_de_inferno  map_de_mirage  map_de_nuke  \\\n",
       "0             0             1               0              0            0   \n",
       "1             0             1               0              0            0   \n",
       "2             0             1               0              0            0   \n",
       "3             0             1               0              0            0   \n",
       "4             0             1               0              0            0   \n",
       "\n",
       "   map_de_overpass  map_de_train  map_de_vertigo  \n",
       "0                0             0               0  \n",
       "1                0             0               0  \n",
       "2                0             0               0  \n",
       "3                0             0               0  \n",
       "4                0             0               0  \n",
       "\n",
       "[5 rows x 104 columns]"
      ]
     },
     "execution_count": 4,
     "metadata": {},
     "output_type": "execute_result"
    }
   ],
   "source": [
    "dataset = pd.get_dummies(dataset,prefix=['map'], columns =['map'])\n",
    "dataset.head()"
   ]
  },
  {
   "cell_type": "markdown",
   "id": "f9931f68-992d-4448-932b-5e063d667b9b",
   "metadata": {},
   "source": [
    "#### Potrebno je prevesti parametar bomb_planted u integer"
   ]
  },
  {
   "cell_type": "code",
   "execution_count": 5,
   "id": "a57b35ca-eac4-4d4f-9567-95cd41b40b8d",
   "metadata": {},
   "outputs": [
    {
     "data": {
      "text/html": [
       "<div>\n",
       "<style scoped>\n",
       "    .dataframe tbody tr th:only-of-type {\n",
       "        vertical-align: middle;\n",
       "    }\n",
       "\n",
       "    .dataframe tbody tr th {\n",
       "        vertical-align: top;\n",
       "    }\n",
       "\n",
       "    .dataframe thead th {\n",
       "        text-align: right;\n",
       "    }\n",
       "</style>\n",
       "<table border=\"1\" class=\"dataframe\">\n",
       "  <thead>\n",
       "    <tr style=\"text-align: right;\">\n",
       "      <th></th>\n",
       "      <th>time_left</th>\n",
       "      <th>ct_score</th>\n",
       "      <th>t_score</th>\n",
       "      <th>bomb_planted</th>\n",
       "      <th>ct_health</th>\n",
       "      <th>t_health</th>\n",
       "      <th>ct_armor</th>\n",
       "      <th>t_armor</th>\n",
       "      <th>ct_money</th>\n",
       "      <th>t_money</th>\n",
       "      <th>...</th>\n",
       "      <th>t_grenade_decoygrenade</th>\n",
       "      <th>round_winner</th>\n",
       "      <th>map_de_cache</th>\n",
       "      <th>map_de_dust2</th>\n",
       "      <th>map_de_inferno</th>\n",
       "      <th>map_de_mirage</th>\n",
       "      <th>map_de_nuke</th>\n",
       "      <th>map_de_overpass</th>\n",
       "      <th>map_de_train</th>\n",
       "      <th>map_de_vertigo</th>\n",
       "    </tr>\n",
       "  </thead>\n",
       "  <tbody>\n",
       "    <tr>\n",
       "      <th>0</th>\n",
       "      <td>175.00</td>\n",
       "      <td>0.0</td>\n",
       "      <td>0.0</td>\n",
       "      <td>0</td>\n",
       "      <td>500.0</td>\n",
       "      <td>500.0</td>\n",
       "      <td>0.0</td>\n",
       "      <td>0.0</td>\n",
       "      <td>4000.0</td>\n",
       "      <td>4000.0</td>\n",
       "      <td>...</td>\n",
       "      <td>0.0</td>\n",
       "      <td>CT</td>\n",
       "      <td>0</td>\n",
       "      <td>1</td>\n",
       "      <td>0</td>\n",
       "      <td>0</td>\n",
       "      <td>0</td>\n",
       "      <td>0</td>\n",
       "      <td>0</td>\n",
       "      <td>0</td>\n",
       "    </tr>\n",
       "    <tr>\n",
       "      <th>1</th>\n",
       "      <td>156.03</td>\n",
       "      <td>0.0</td>\n",
       "      <td>0.0</td>\n",
       "      <td>0</td>\n",
       "      <td>500.0</td>\n",
       "      <td>500.0</td>\n",
       "      <td>400.0</td>\n",
       "      <td>300.0</td>\n",
       "      <td>600.0</td>\n",
       "      <td>650.0</td>\n",
       "      <td>...</td>\n",
       "      <td>0.0</td>\n",
       "      <td>CT</td>\n",
       "      <td>0</td>\n",
       "      <td>1</td>\n",
       "      <td>0</td>\n",
       "      <td>0</td>\n",
       "      <td>0</td>\n",
       "      <td>0</td>\n",
       "      <td>0</td>\n",
       "      <td>0</td>\n",
       "    </tr>\n",
       "    <tr>\n",
       "      <th>2</th>\n",
       "      <td>96.03</td>\n",
       "      <td>0.0</td>\n",
       "      <td>0.0</td>\n",
       "      <td>0</td>\n",
       "      <td>391.0</td>\n",
       "      <td>400.0</td>\n",
       "      <td>294.0</td>\n",
       "      <td>200.0</td>\n",
       "      <td>750.0</td>\n",
       "      <td>500.0</td>\n",
       "      <td>...</td>\n",
       "      <td>0.0</td>\n",
       "      <td>CT</td>\n",
       "      <td>0</td>\n",
       "      <td>1</td>\n",
       "      <td>0</td>\n",
       "      <td>0</td>\n",
       "      <td>0</td>\n",
       "      <td>0</td>\n",
       "      <td>0</td>\n",
       "      <td>0</td>\n",
       "    </tr>\n",
       "    <tr>\n",
       "      <th>3</th>\n",
       "      <td>76.03</td>\n",
       "      <td>0.0</td>\n",
       "      <td>0.0</td>\n",
       "      <td>0</td>\n",
       "      <td>391.0</td>\n",
       "      <td>400.0</td>\n",
       "      <td>294.0</td>\n",
       "      <td>200.0</td>\n",
       "      <td>750.0</td>\n",
       "      <td>500.0</td>\n",
       "      <td>...</td>\n",
       "      <td>0.0</td>\n",
       "      <td>CT</td>\n",
       "      <td>0</td>\n",
       "      <td>1</td>\n",
       "      <td>0</td>\n",
       "      <td>0</td>\n",
       "      <td>0</td>\n",
       "      <td>0</td>\n",
       "      <td>0</td>\n",
       "      <td>0</td>\n",
       "    </tr>\n",
       "    <tr>\n",
       "      <th>4</th>\n",
       "      <td>174.97</td>\n",
       "      <td>1.0</td>\n",
       "      <td>0.0</td>\n",
       "      <td>0</td>\n",
       "      <td>500.0</td>\n",
       "      <td>500.0</td>\n",
       "      <td>192.0</td>\n",
       "      <td>0.0</td>\n",
       "      <td>18350.0</td>\n",
       "      <td>10750.0</td>\n",
       "      <td>...</td>\n",
       "      <td>0.0</td>\n",
       "      <td>CT</td>\n",
       "      <td>0</td>\n",
       "      <td>1</td>\n",
       "      <td>0</td>\n",
       "      <td>0</td>\n",
       "      <td>0</td>\n",
       "      <td>0</td>\n",
       "      <td>0</td>\n",
       "      <td>0</td>\n",
       "    </tr>\n",
       "  </tbody>\n",
       "</table>\n",
       "<p>5 rows × 104 columns</p>\n",
       "</div>"
      ],
      "text/plain": [
       "   time_left  ct_score  t_score  bomb_planted  ct_health  t_health  ct_armor  \\\n",
       "0     175.00       0.0      0.0             0      500.0     500.0       0.0   \n",
       "1     156.03       0.0      0.0             0      500.0     500.0     400.0   \n",
       "2      96.03       0.0      0.0             0      391.0     400.0     294.0   \n",
       "3      76.03       0.0      0.0             0      391.0     400.0     294.0   \n",
       "4     174.97       1.0      0.0             0      500.0     500.0     192.0   \n",
       "\n",
       "   t_armor  ct_money  t_money  ...  t_grenade_decoygrenade  round_winner  \\\n",
       "0      0.0    4000.0   4000.0  ...                     0.0            CT   \n",
       "1    300.0     600.0    650.0  ...                     0.0            CT   \n",
       "2    200.0     750.0    500.0  ...                     0.0            CT   \n",
       "3    200.0     750.0    500.0  ...                     0.0            CT   \n",
       "4      0.0   18350.0  10750.0  ...                     0.0            CT   \n",
       "\n",
       "   map_de_cache  map_de_dust2  map_de_inferno  map_de_mirage  map_de_nuke  \\\n",
       "0             0             1               0              0            0   \n",
       "1             0             1               0              0            0   \n",
       "2             0             1               0              0            0   \n",
       "3             0             1               0              0            0   \n",
       "4             0             1               0              0            0   \n",
       "\n",
       "   map_de_overpass  map_de_train  map_de_vertigo  \n",
       "0                0             0               0  \n",
       "1                0             0               0  \n",
       "2                0             0               0  \n",
       "3                0             0               0  \n",
       "4                0             0               0  \n",
       "\n",
       "[5 rows x 104 columns]"
      ]
     },
     "execution_count": 5,
     "metadata": {},
     "output_type": "execute_result"
    }
   ],
   "source": [
    "dataset[\"bomb_planted\"] = dataset[\"bomb_planted\"].astype(int)\n",
    "dataset.head()"
   ]
  },
  {
   "cell_type": "markdown",
   "id": "5e036b92-db27-4c3c-a957-42eaf0df5bbb",
   "metadata": {},
   "source": [
    "#### Potrebno je uvesti labele za vrednosti round_winner, da ne bi vise bio string"
   ]
  },
  {
   "cell_type": "code",
   "execution_count": 6,
   "id": "4ca763d0-32e8-49ef-8205-e9fbcf19c03e",
   "metadata": {},
   "outputs": [],
   "source": [
    "dataset[\"round_winner\"] = [int(dataset[\"round_winner\"][i]==\"CT\") for i in range(dataset.shape[0])]"
   ]
  },
  {
   "cell_type": "code",
   "execution_count": 7,
   "id": "95a47d3a-6be4-43ed-b9b2-8b3e84b85220",
   "metadata": {},
   "outputs": [
    {
     "data": {
      "text/plain": [
       "0         1\n",
       "1         1\n",
       "2         1\n",
       "3         1\n",
       "4         1\n",
       "         ..\n",
       "122405    0\n",
       "122406    0\n",
       "122407    0\n",
       "122408    0\n",
       "122409    0\n",
       "Name: round_winner, Length: 122410, dtype: int64"
      ]
     },
     "execution_count": 7,
     "metadata": {},
     "output_type": "execute_result"
    }
   ],
   "source": [
    "dataset[\"round_winner\"]"
   ]
  },
  {
   "cell_type": "code",
   "execution_count": 8,
   "id": "bfcc4f8a-8e91-4f26-8e3f-239ba2c3693f",
   "metadata": {},
   "outputs": [
    {
     "name": "stdout",
     "output_type": "stream",
     "text": [
      "(122410, 103)\n",
      "(122410,)\n"
     ]
    }
   ],
   "source": [
    "X = dataset.drop('round_winner', axis=1)\n",
    "y = dataset['round_winner']\n",
    "print(X.shape)\n",
    "print(y.shape)"
   ]
  },
  {
   "cell_type": "markdown",
   "id": "be39e5ec-eb2b-4a19-b66b-c1bf4bc4e6ba",
   "metadata": {},
   "source": [
    "## 3. Obucavanje modela bez normalizacije dataseta"
   ]
  },
  {
   "cell_type": "markdown",
   "id": "0bb1933a-b46a-43d8-bd35-afb7126d9cf9",
   "metadata": {},
   "source": [
    "#### Model se sastoji 5 slojeva sa po 64, 32, 16, 8 cvorova i zadnji sloj koji predstavlja predikciju"
   ]
  },
  {
   "cell_type": "code",
   "execution_count": 9,
   "id": "be61bef6-3218-40e0-a6b7-66538dbf3a3b",
   "metadata": {},
   "outputs": [],
   "source": [
    "model = Sequential()\n",
    "model.add(Dense(64, activation='relu', input_shape = (103,) ))\n",
    "model.add(Dense(32, activation='relu'))\n",
    "model.add(Dense(16, activation='relu'))\n",
    "model.add(Dense(8, activation='relu'))\n",
    "model.add(Dense(1, activation='sigmoid'))\n",
    "\n",
    "model.compile(optimizer='adam', loss='binary_crossentropy', metrics=['accuracy'])"
   ]
  },
  {
   "cell_type": "code",
   "execution_count": null,
   "id": "0c840df0-8b9e-41b0-a879-a59c17492e14",
   "metadata": {},
   "outputs": [
    {
     "name": "stdout",
     "output_type": "stream",
     "text": [
      "Train on 97928 samples, validate on 24482 samples\n",
      "Epoch 1/10\n",
      "97856/97928 [============================>.] - ETA: 0s - loss: 1.4331 - accuracy: 0.6823"
     ]
    },
    {
     "name": "stderr",
     "output_type": "stream",
     "text": [
      "c:\\users\\cile\\pycharmprojects\\colorreducingunsupervised\\venv\\lib\\site-packages\\keras\\engine\\training_v1.py:2057: UserWarning: `Model.state_updates` will be removed in a future version. This property should not be used in TensorFlow 2.0, as `updates` are applied automatically.\n",
      "  updates = self.state_updates\n"
     ]
    },
    {
     "name": "stdout",
     "output_type": "stream",
     "text": [
      "97928/97928 [==============================] - 12s 125us/sample - loss: 1.4324 - accuracy: 0.6824 - val_loss: 0.5297 - val_accuracy: 0.7234\n",
      "Epoch 2/10\n",
      "97928/97928 [==============================] - 11s 117us/sample - loss: 0.6021 - accuracy: 0.6856 - val_loss: 0.6785 - val_accuracy: 0.5822\n",
      "Epoch 3/10\n",
      "97928/97928 [==============================] - 12s 118us/sample - loss: 0.6404 - accuracy: 0.6356 - val_loss: 0.6817 - val_accuracy: 0.5631\n",
      "Epoch 4/10\n",
      "97928/97928 [==============================] - 11s 116us/sample - loss: 0.6127 - accuracy: 0.6622 - val_loss: 0.5502 - val_accuracy: 0.7087\n",
      "Epoch 5/10\n",
      "97928/97928 [==============================] - 12s 118us/sample - loss: 0.5641 - accuracy: 0.7069 - val_loss: 0.5681 - val_accuracy: 0.6782\n",
      "Epoch 6/10\n",
      "97928/97928 [==============================] - 11s 117us/sample - loss: 0.5227 - accuracy: 0.7280 - val_loss: 0.5089 - val_accuracy: 0.7187\n",
      "Epoch 7/10\n",
      "97928/97928 [==============================] - 11s 113us/sample - loss: 0.5075 - accuracy: 0.7317 - val_loss: 0.5053 - val_accuracy: 0.7233\n",
      "Epoch 8/10\n",
      "97928/97928 [==============================] - 11s 116us/sample - loss: 0.5028 - accuracy: 0.7338 - val_loss: 0.5018 - val_accuracy: 0.7218\n",
      "Epoch 9/10\n",
      "54144/97928 [===============>..............] - ETA: 4s - loss: 0.4958 - accuracy: 0.7366"
     ]
    }
   ],
   "source": [
    "history=model.fit(X, y, epochs=10, batch_size=32, validation_split = .2)"
   ]
  },
  {
   "cell_type": "markdown",
   "id": "6a234e9e-8af9-4779-b58b-de8f0422f597",
   "metadata": {},
   "source": [
    "#### Grafik Test tacnosti za prethodni model"
   ]
  },
  {
   "cell_type": "code",
   "execution_count": null,
   "id": "889ba188-d295-4fb1-be65-3f05afc5cebf",
   "metadata": {},
   "outputs": [],
   "source": [
    "test_acc = history.history['val_accuracy']\n",
    "epoch_count = range(1, len(test_acc) + 1)\n",
    "plt.plot(epoch_count, test_acc, 'b-')\n",
    "plt.legend(['Test Accuracy'])\n",
    "plt.xlabel('Epoch')\n",
    "plt.ylabel('Accuracy')\n",
    "plt.show()"
   ]
  },
  {
   "cell_type": "code",
   "execution_count": null,
   "id": "9ed49107-d5cf-4249-8907-0b05c070927f",
   "metadata": {},
   "outputs": [],
   "source": [
    "model1 = Sequential()\n",
    "model1.add(Dense(128, activation='relu', input_shape = (103,) ))\n",
    "model1.add(Dense(64, activation='relu'))\n",
    "model1.add(Dense(32, activation='relu'))\n",
    "model1.add(Dense(16, activation='relu'))\n",
    "model1.add(Dense(1, activation='sigmoid'))\n",
    "\n",
    "model1.compile(optimizer='adam', loss='binary_crossentropy', metrics=['accuracy'])"
   ]
  },
  {
   "cell_type": "code",
   "execution_count": null,
   "id": "a1a4a414-8643-4351-b10e-2b8751ac5f7b",
   "metadata": {},
   "outputs": [],
   "source": [
    "history=model1.fit(X, y, epochs=10, batch_size=32, validation_split = .2)"
   ]
  },
  {
   "cell_type": "code",
   "execution_count": null,
   "id": "52699f0e-6576-4d24-8c4e-22695e71c2ac",
   "metadata": {},
   "outputs": [],
   "source": [
    "test_acc = history.history['val_accuracy']\n",
    "epoch_count = range(1, len(test_acc) + 1)\n",
    "plt.plot(epoch_count, test_acc, 'b-')\n",
    "plt.legend(['Test Accuracy'])\n",
    "plt.xlabel('Epoch')\n",
    "plt.ylabel('Accuracy')\n",
    "plt.show()"
   ]
  },
  {
   "cell_type": "markdown",
   "id": "c3649300-46f5-4274-923a-66734738d8b3",
   "metadata": {},
   "source": [
    "#### Treniranje modela sa promenjenim learning ratom"
   ]
  },
  {
   "cell_type": "code",
   "execution_count": null,
   "id": "81617ffd-45ef-4eb2-8fbc-35eddbdf0b69",
   "metadata": {},
   "outputs": [],
   "source": [
    "opt = keras.optimizers.Adam(learning_rate=0.01)\n",
    "model1_opt = Sequential()\n",
    "model1_opt.add(Dense(128, activation='relu', input_shape = (103,) ))\n",
    "model1_opt.add(Dense(64, activation='relu'))\n",
    "model1_opt.add(Dense(32, activation='relu'))\n",
    "model1_opt.add(Dense(16, activation='relu'))\n",
    "model1_opt.add(Dense(1, activation='sigmoid'))\n",
    "\n",
    "model1_opt.compile(optimizer='adam', loss='binary_crossentropy', metrics=['accuracy'])"
   ]
  },
  {
   "cell_type": "code",
   "execution_count": null,
   "id": "2b8e5c40-0773-4ad3-ab21-ccc2fa852e69",
   "metadata": {},
   "outputs": [],
   "source": [
    "history=model1_opt.fit(X, y, epochs=10, batch_size=32, validation_split = .2)"
   ]
  },
  {
   "cell_type": "code",
   "execution_count": null,
   "id": "b5097a6f-8f65-4670-93d3-a98550551fbb",
   "metadata": {},
   "outputs": [],
   "source": [
    "test_acc = history.history['val_accuracy']\n",
    "epoch_count = range(1, len(test_acc) + 1)\n",
    "plt.plot(epoch_count, test_acc, 'b-')\n",
    "plt.legend(['Test Accuracy'])\n",
    "plt.xlabel('Epoch')\n",
    "plt.ylabel('Accuracy')\n",
    "plt.show()"
   ]
  },
  {
   "cell_type": "code",
   "execution_count": null,
   "id": "f6acc6b0-6a72-4166-bd9a-0a3b7fe94acb",
   "metadata": {},
   "outputs": [],
   "source": [
    "opt = keras.optimizers.Adam(learning_rate=0.0001)\n",
    "model1_opt1 = Sequential()\n",
    "model1_opt1.add(Dense(128, activation='relu', input_shape = (103,) ))\n",
    "model1_opt1.add(Dense(64, activation='relu'))\n",
    "model1_opt1.add(Dense(32, activation='relu'))\n",
    "model1_opt1.add(Dense(16, activation='relu'))\n",
    "model1_opt1.add(Dense(1, activation='sigmoid'))\n",
    "\n",
    "model1_opt1.compile(optimizer='adam', loss='binary_crossentropy', metrics=['accuracy'])"
   ]
  },
  {
   "cell_type": "code",
   "execution_count": null,
   "id": "dff6fa94-073b-413d-b72c-ba7117f53809",
   "metadata": {},
   "outputs": [],
   "source": [
    "history=model1_opt1.fit(X, y, epochs=10, batch_size=32, validation_split = .2)"
   ]
  },
  {
   "cell_type": "code",
   "execution_count": null,
   "id": "f99b440e-23d8-49f0-8d5a-df4d049ad39d",
   "metadata": {},
   "outputs": [],
   "source": [
    "test_acc = history.history['val_accuracy']\n",
    "epoch_count = range(1, len(test_acc) + 1)\n",
    "plt.plot(epoch_count, test_acc, 'b-')\n",
    "plt.legend(['Test Accuracy'])\n",
    "plt.xlabel('Epoch')\n",
    "plt.ylabel('Accuracy')\n",
    "plt.show()"
   ]
  },
  {
   "cell_type": "markdown",
   "id": "229cd0b5-594b-4acc-98cc-3197466a0f78",
   "metadata": {},
   "source": [
    "## 4. Treniranje nad normalizovanim podacima"
   ]
  },
  {
   "cell_type": "code",
   "execution_count": null,
   "id": "acd64fda-c394-4ce2-a676-00af5955df81",
   "metadata": {},
   "outputs": [],
   "source": [
    "X_normalized=(X-X.min())/(X.max()-X.min()) - 0.5"
   ]
  },
  {
   "cell_type": "code",
   "execution_count": null,
   "id": "b91f70a7-5e84-4f3f-a3be-83d28c810d01",
   "metadata": {},
   "outputs": [],
   "source": [
    "X_normalized.head()"
   ]
  },
  {
   "cell_type": "code",
   "execution_count": null,
   "id": "cd4f4221-8733-41ea-9a13-87c6feeaa998",
   "metadata": {},
   "outputs": [],
   "source": [
    "std = StandardScaler()\n",
    "X_transformed = std.fit_transform(X)\n",
    "print(X_transformed)"
   ]
  },
  {
   "cell_type": "code",
   "execution_count": null,
   "id": "371b7a37-a6b7-4c84-b2ec-51b572e42284",
   "metadata": {},
   "outputs": [],
   "source": [
    "model = Sequential()\n",
    "model.add(Dense(64, activation='relu', input_shape = (103,) ))\n",
    "model.add(Dense(32, activation='relu'))\n",
    "model.add(Dense(16, activation='relu'))\n",
    "model.add(Dense(8, activation='relu'))\n",
    "model.add(Dense(1, activation='sigmoid'))\n",
    "\n",
    "model.compile(optimizer='adam', loss='binary_crossentropy', metrics=['accuracy'])"
   ]
  },
  {
   "cell_type": "code",
   "execution_count": null,
   "id": "fc41b210-7795-4f28-ba31-c844ee8c85e9",
   "metadata": {},
   "outputs": [],
   "source": [
    "history = model.fit(X_normalized, y, epochs=10, batch_size=32, validation_split = .2)"
   ]
  },
  {
   "cell_type": "code",
   "execution_count": null,
   "id": "3116a5e7-47a3-4e3e-b33b-f38dc3d7ad8d",
   "metadata": {},
   "outputs": [],
   "source": [
    "test_acc = history.history['val_accuracy']\n",
    "epoch_count = range(1, len(test_acc) + 1)\n",
    "plt.plot(epoch_count, test_acc, 'b-')\n",
    "plt.legend(['Test Accuracy'])\n",
    "plt.xlabel('Epoch')\n",
    "plt.ylabel('Accuracy')\n",
    "plt.show()"
   ]
  },
  {
   "cell_type": "code",
   "execution_count": null,
   "id": "29daa062-e078-4096-80b0-d203ece22cb7",
   "metadata": {},
   "outputs": [],
   "source": [
    "opt = keras.optimizers.Adam(learning_rate=0.01)\n",
    "model = Sequential()\n",
    "model.add(Dense(256, activation='relu', input_shape = (103,) ))\n",
    "model.add(Dense(32, activation='relu'))\n",
    "model.add(Dense(16, activation='relu'))\n",
    "model.add(Dense(8, activation='relu'))\n",
    "model.add(Dense(1, activation='sigmoid'))\n",
    "\n",
    "model.compile(optimizer=opt, loss='binary_crossentropy', metrics=['accuracy'])"
   ]
  },
  {
   "cell_type": "code",
   "execution_count": null,
   "id": "2ba18539-1945-4ff4-8452-9d8a14386c5c",
   "metadata": {},
   "outputs": [],
   "source": [
    "history = model.fit(X_normalized, y, epochs=10, batch_size=32, validation_split = .2)"
   ]
  },
  {
   "cell_type": "code",
   "execution_count": null,
   "id": "e2b41530-8d8e-4b48-8190-183dfb07495a",
   "metadata": {},
   "outputs": [],
   "source": [
    "test_acc = history.history['val_accuracy']\n",
    "epoch_count = range(1, len(test_acc) + 1)\n",
    "plt.plot(epoch_count, test_acc, 'b-')\n",
    "plt.legend(['Test Accuracy'])\n",
    "plt.xlabel('Epoch')\n",
    "plt.ylabel('Accuracy')\n",
    "plt.show()"
   ]
  },
  {
   "cell_type": "code",
   "execution_count": null,
   "id": "ca505d0b-5a20-453b-8efa-7d9df2f2323c",
   "metadata": {},
   "outputs": [],
   "source": [
    "opt = keras.optimizers.Adam(learning_rate=0.00001)\n",
    "model = Sequential()\n",
    "model.add(Dense(64, activation='relu', input_shape = (103,) ))\n",
    "model.add(Dense(32, activation='relu'))\n",
    "model.add(Dense(16, activation='relu'))\n",
    "model.add(Dense(8, activation='relu'))\n",
    "model.add(Dense(1, activation='sigmoid'))\n",
    "\n",
    "model.compile(optimizer=opt, loss='binary_crossentropy', metrics=['accuracy'])"
   ]
  },
  {
   "cell_type": "code",
   "execution_count": null,
   "id": "a8ff5f36-bc86-400b-95ab-9562015bcdbe",
   "metadata": {},
   "outputs": [],
   "source": [
    "history = model.fit(X_normalized, y, epochs=10, batch_size=32, validation_split = .2)"
   ]
  },
  {
   "cell_type": "code",
   "execution_count": null,
   "id": "ac1e47dd-239c-437e-a6f6-8f81309d763b",
   "metadata": {},
   "outputs": [],
   "source": [
    "test_acc = history.history['val_accuracy']\n",
    "epoch_count = range(1, len(test_acc) + 1)\n",
    "plt.plot(epoch_count, test_acc, 'b-')\n",
    "plt.legend(['Test Accuracy'])\n",
    "plt.xlabel('Epoch')\n",
    "plt.ylabel('Accuracy')\n",
    "plt.show()"
   ]
  },
  {
   "cell_type": "markdown",
   "id": "87ce6652-5639-47c9-b6a2-d8dafd97bff3",
   "metadata": {},
   "source": [
    "#### Treniranje sa dinamickim izborom learning rata"
   ]
  },
  {
   "cell_type": "code",
   "execution_count": null,
   "id": "0e9fa794-1a50-4764-b6d1-1f9390910fb1",
   "metadata": {},
   "outputs": [],
   "source": [
    "opt = keras.optimizers.Adam(learning_rate=0.0001)\n",
    "reduce_lr = ReduceLROnPlateau(monitor='loss', factor=0.2,verbose = 1,\n",
    "                              patience=5, min_lr=0.00000001)\n",
    "\n",
    "model = Sequential()\n",
    "model.add(Dense(1024, activation='relu', input_shape = (103,) ))\n",
    "model.add(Dense(512, activation='relu'))\n",
    "model.add(Dense(256, activation='relu'))\n",
    "model.add(Dense(128, activation='relu'))\n",
    "model.add(Dense(1, activation='sigmoid'))\n",
    "\n",
    "model.compile(optimizer=opt, loss='binary_crossentropy', metrics=['accuracy'])"
   ]
  },
  {
   "cell_type": "code",
   "execution_count": null,
   "id": "de8a234c-fa75-4c13-a5e9-12745e6602d8",
   "metadata": {},
   "outputs": [],
   "source": [
    "history = model.fit(X_normalized, y, epochs=50, batch_size=32, validation_split = .2, callbacks=[reduce_lr])"
   ]
  },
  {
   "cell_type": "code",
   "execution_count": null,
   "id": "0a9d960b-abe8-41db-aad4-31503cffa933",
   "metadata": {},
   "outputs": [],
   "source": [
    "test_acc = history.history['val_accuracy']\n",
    "epoch_count = range(1, len(test_acc) + 1)\n",
    "plt.plot(epoch_count, test_acc, 'b-')\n",
    "plt.legend(['Test Accuracy'])\n",
    "plt.xlabel('Epoch')\n",
    "plt.ylabel('Accuracy')\n",
    "plt.show()"
   ]
  },
  {
   "cell_type": "code",
   "execution_count": null,
   "id": "782630b1-035f-47e1-a71d-d9be35030ad6",
   "metadata": {},
   "outputs": [],
   "source": [
    "opt = keras.optimizers.Adam(learning_rate=0.000001)\n",
    "model = Sequential()\n",
    "model.add(Dense(64, activation='relu', input_shape = (103,) ))\n",
    "model.add(Dense(32, activation='relu'))\n",
    "model.add(Dense(16, activation='relu'))\n",
    "model.add(Dense(8, activation='relu'))\n",
    "model.add(Dense(1, activation='tanh'))\n",
    "model.compile(optimizer=opt, loss='hinge', metrics=['accuracy'])"
   ]
  },
  {
   "cell_type": "code",
   "execution_count": null,
   "id": "3b2589b4-7750-422f-97b5-e628762866b3",
   "metadata": {},
   "outputs": [],
   "source": [
    "history = model.fit(X_normalized, y, epochs=10, batch_size=32, validation_split = .2, callbacks=[reduce_lr])"
   ]
  },
  {
   "cell_type": "code",
   "execution_count": null,
   "id": "70fe8a55-0b9f-436f-914e-00f383b7cc39",
   "metadata": {},
   "outputs": [],
   "source": [
    "test_acc = history.history['val_accuracy']\n",
    "epoch_count = range(1, len(test_acc) + 1)\n",
    "plt.plot(epoch_count, test_acc, 'b-')\n",
    "plt.legend(['Test Accuracy'])\n",
    "plt.xlabel('Epoch')\n",
    "plt.ylabel('Accuracy')\n",
    "plt.show()"
   ]
  }
 ],
 "metadata": {
  "kernelspec": {
   "display_name": "Python 3 (ipykernel)",
   "language": "python",
   "name": "python3"
  },
  "language_info": {
   "codemirror_mode": {
    "name": "ipython",
    "version": 3
   },
   "file_extension": ".py",
   "mimetype": "text/x-python",
   "name": "python",
   "nbconvert_exporter": "python",
   "pygments_lexer": "ipython3",
   "version": "3.7.5"
  }
 },
 "nbformat": 4,
 "nbformat_minor": 5
}
