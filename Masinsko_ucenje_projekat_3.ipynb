{
 "cells": [
  {
   "cell_type": "markdown",
   "id": "1d0c55be-074e-4d6e-8c69-41f401c516d0",
   "metadata": {},
   "source": [
    "# MASINSKO UCENJE PROJEKAT 3"
   ]
  },
  {
   "cell_type": "markdown",
   "id": "adb52e17-6224-4524-be42-b71fdddb1b6b",
   "metadata": {},
   "source": [
    "### Predmet projekta je klasifikacija za video igricu Counter Strike: Global Offensive. Dataset je sacinjen od parametara koji predstavljaju podatke o trenutnom stanju svakog od timova, rezultat klasifikacije je pobeda CT tima (Counter-Terrorist) ili T tima (Terrorist)."
   ]
  },
  {
   "cell_type": "markdown",
   "id": "f419e36d-04f2-4a93-a295-c6ea9e538ec1",
   "metadata": {},
   "source": [
    "## 1. Importovanje potrebnih biblioteka"
   ]
  },
  {
   "cell_type": "code",
   "execution_count": 1,
   "id": "8c3fcc0c-36ff-4c22-abec-807b16427e6d",
   "metadata": {},
   "outputs": [
    {
     "name": "stderr",
     "output_type": "stream",
     "text": [
      "2022-03-15 22:51:26.882963: W tensorflow/stream_executor/platform/default/dso_loader.cc:64] Could not load dynamic library 'libcudart.so.11.0'; dlerror: libcudart.so.11.0: cannot open shared object file: No such file or directory\n",
      "2022-03-15 22:51:26.882985: I tensorflow/stream_executor/cuda/cudart_stub.cc:29] Ignore above cudart dlerror if you do not have a GPU set up on your machine.\n"
     ]
    }
   ],
   "source": [
    "import pandas as pd\n",
    "import numpy as np\n",
    "import random\n",
    "import matplotlib.pyplot as plt\n",
    "from tensorflow import keras\n",
    "import tensorflow as tf\n",
    "tf.compat.v1.disable_eager_execution()\n",
    "from tensorflow.keras.models import Sequential\n",
    "from tensorflow.keras.layers import Dense, Activation\n",
    "from tensorflow.keras.callbacks import ReduceLROnPlateau"
   ]
  },
  {
   "cell_type": "markdown",
   "id": "c49f4ea7-160f-48f0-900b-d09b627ef1c5",
   "metadata": {},
   "source": [
    "## 2. Ucitavanje podataka"
   ]
  },
  {
   "cell_type": "code",
   "execution_count": 2,
   "id": "5ec3838a-4517-498e-8095-2575b7c1b611",
   "metadata": {},
   "outputs": [
    {
     "data": {
      "text/html": [
       "<div>\n",
       "<style scoped>\n",
       "    .dataframe tbody tr th:only-of-type {\n",
       "        vertical-align: middle;\n",
       "    }\n",
       "\n",
       "    .dataframe tbody tr th {\n",
       "        vertical-align: top;\n",
       "    }\n",
       "\n",
       "    .dataframe thead th {\n",
       "        text-align: right;\n",
       "    }\n",
       "</style>\n",
       "<table border=\"1\" class=\"dataframe\">\n",
       "  <thead>\n",
       "    <tr style=\"text-align: right;\">\n",
       "      <th></th>\n",
       "      <th>time_left</th>\n",
       "      <th>ct_score</th>\n",
       "      <th>t_score</th>\n",
       "      <th>map</th>\n",
       "      <th>bomb_planted</th>\n",
       "      <th>ct_health</th>\n",
       "      <th>t_health</th>\n",
       "      <th>ct_armor</th>\n",
       "      <th>t_armor</th>\n",
       "      <th>ct_money</th>\n",
       "      <th>...</th>\n",
       "      <th>t_grenade_flashbang</th>\n",
       "      <th>ct_grenade_smokegrenade</th>\n",
       "      <th>t_grenade_smokegrenade</th>\n",
       "      <th>ct_grenade_incendiarygrenade</th>\n",
       "      <th>t_grenade_incendiarygrenade</th>\n",
       "      <th>ct_grenade_molotovgrenade</th>\n",
       "      <th>t_grenade_molotovgrenade</th>\n",
       "      <th>ct_grenade_decoygrenade</th>\n",
       "      <th>t_grenade_decoygrenade</th>\n",
       "      <th>round_winner</th>\n",
       "    </tr>\n",
       "  </thead>\n",
       "  <tbody>\n",
       "    <tr>\n",
       "      <th>0</th>\n",
       "      <td>175.00</td>\n",
       "      <td>0.0</td>\n",
       "      <td>0.0</td>\n",
       "      <td>de_dust2</td>\n",
       "      <td>False</td>\n",
       "      <td>500.0</td>\n",
       "      <td>500.0</td>\n",
       "      <td>0.0</td>\n",
       "      <td>0.0</td>\n",
       "      <td>4000.0</td>\n",
       "      <td>...</td>\n",
       "      <td>0.0</td>\n",
       "      <td>0.0</td>\n",
       "      <td>0.0</td>\n",
       "      <td>0.0</td>\n",
       "      <td>0.0</td>\n",
       "      <td>0.0</td>\n",
       "      <td>0.0</td>\n",
       "      <td>0.0</td>\n",
       "      <td>0.0</td>\n",
       "      <td>CT</td>\n",
       "    </tr>\n",
       "    <tr>\n",
       "      <th>1</th>\n",
       "      <td>156.03</td>\n",
       "      <td>0.0</td>\n",
       "      <td>0.0</td>\n",
       "      <td>de_dust2</td>\n",
       "      <td>False</td>\n",
       "      <td>500.0</td>\n",
       "      <td>500.0</td>\n",
       "      <td>400.0</td>\n",
       "      <td>300.0</td>\n",
       "      <td>600.0</td>\n",
       "      <td>...</td>\n",
       "      <td>0.0</td>\n",
       "      <td>0.0</td>\n",
       "      <td>2.0</td>\n",
       "      <td>0.0</td>\n",
       "      <td>0.0</td>\n",
       "      <td>0.0</td>\n",
       "      <td>0.0</td>\n",
       "      <td>0.0</td>\n",
       "      <td>0.0</td>\n",
       "      <td>CT</td>\n",
       "    </tr>\n",
       "    <tr>\n",
       "      <th>2</th>\n",
       "      <td>96.03</td>\n",
       "      <td>0.0</td>\n",
       "      <td>0.0</td>\n",
       "      <td>de_dust2</td>\n",
       "      <td>False</td>\n",
       "      <td>391.0</td>\n",
       "      <td>400.0</td>\n",
       "      <td>294.0</td>\n",
       "      <td>200.0</td>\n",
       "      <td>750.0</td>\n",
       "      <td>...</td>\n",
       "      <td>0.0</td>\n",
       "      <td>0.0</td>\n",
       "      <td>2.0</td>\n",
       "      <td>0.0</td>\n",
       "      <td>0.0</td>\n",
       "      <td>0.0</td>\n",
       "      <td>0.0</td>\n",
       "      <td>0.0</td>\n",
       "      <td>0.0</td>\n",
       "      <td>CT</td>\n",
       "    </tr>\n",
       "    <tr>\n",
       "      <th>3</th>\n",
       "      <td>76.03</td>\n",
       "      <td>0.0</td>\n",
       "      <td>0.0</td>\n",
       "      <td>de_dust2</td>\n",
       "      <td>False</td>\n",
       "      <td>391.0</td>\n",
       "      <td>400.0</td>\n",
       "      <td>294.0</td>\n",
       "      <td>200.0</td>\n",
       "      <td>750.0</td>\n",
       "      <td>...</td>\n",
       "      <td>0.0</td>\n",
       "      <td>0.0</td>\n",
       "      <td>0.0</td>\n",
       "      <td>0.0</td>\n",
       "      <td>0.0</td>\n",
       "      <td>0.0</td>\n",
       "      <td>0.0</td>\n",
       "      <td>0.0</td>\n",
       "      <td>0.0</td>\n",
       "      <td>CT</td>\n",
       "    </tr>\n",
       "    <tr>\n",
       "      <th>4</th>\n",
       "      <td>174.97</td>\n",
       "      <td>1.0</td>\n",
       "      <td>0.0</td>\n",
       "      <td>de_dust2</td>\n",
       "      <td>False</td>\n",
       "      <td>500.0</td>\n",
       "      <td>500.0</td>\n",
       "      <td>192.0</td>\n",
       "      <td>0.0</td>\n",
       "      <td>18350.0</td>\n",
       "      <td>...</td>\n",
       "      <td>0.0</td>\n",
       "      <td>0.0</td>\n",
       "      <td>0.0</td>\n",
       "      <td>0.0</td>\n",
       "      <td>0.0</td>\n",
       "      <td>0.0</td>\n",
       "      <td>0.0</td>\n",
       "      <td>0.0</td>\n",
       "      <td>0.0</td>\n",
       "      <td>CT</td>\n",
       "    </tr>\n",
       "  </tbody>\n",
       "</table>\n",
       "<p>5 rows × 97 columns</p>\n",
       "</div>"
      ],
      "text/plain": [
       "   time_left  ct_score  t_score       map  bomb_planted  ct_health  t_health  \\\n",
       "0     175.00       0.0      0.0  de_dust2         False      500.0     500.0   \n",
       "1     156.03       0.0      0.0  de_dust2         False      500.0     500.0   \n",
       "2      96.03       0.0      0.0  de_dust2         False      391.0     400.0   \n",
       "3      76.03       0.0      0.0  de_dust2         False      391.0     400.0   \n",
       "4     174.97       1.0      0.0  de_dust2         False      500.0     500.0   \n",
       "\n",
       "   ct_armor  t_armor  ct_money  ...  t_grenade_flashbang  \\\n",
       "0       0.0      0.0    4000.0  ...                  0.0   \n",
       "1     400.0    300.0     600.0  ...                  0.0   \n",
       "2     294.0    200.0     750.0  ...                  0.0   \n",
       "3     294.0    200.0     750.0  ...                  0.0   \n",
       "4     192.0      0.0   18350.0  ...                  0.0   \n",
       "\n",
       "   ct_grenade_smokegrenade  t_grenade_smokegrenade  \\\n",
       "0                      0.0                     0.0   \n",
       "1                      0.0                     2.0   \n",
       "2                      0.0                     2.0   \n",
       "3                      0.0                     0.0   \n",
       "4                      0.0                     0.0   \n",
       "\n",
       "   ct_grenade_incendiarygrenade  t_grenade_incendiarygrenade  \\\n",
       "0                           0.0                          0.0   \n",
       "1                           0.0                          0.0   \n",
       "2                           0.0                          0.0   \n",
       "3                           0.0                          0.0   \n",
       "4                           0.0                          0.0   \n",
       "\n",
       "   ct_grenade_molotovgrenade  t_grenade_molotovgrenade  \\\n",
       "0                        0.0                       0.0   \n",
       "1                        0.0                       0.0   \n",
       "2                        0.0                       0.0   \n",
       "3                        0.0                       0.0   \n",
       "4                        0.0                       0.0   \n",
       "\n",
       "   ct_grenade_decoygrenade  t_grenade_decoygrenade  round_winner  \n",
       "0                      0.0                     0.0            CT  \n",
       "1                      0.0                     0.0            CT  \n",
       "2                      0.0                     0.0            CT  \n",
       "3                      0.0                     0.0            CT  \n",
       "4                      0.0                     0.0            CT  \n",
       "\n",
       "[5 rows x 97 columns]"
      ]
     },
     "execution_count": 2,
     "metadata": {},
     "output_type": "execute_result"
    }
   ],
   "source": [
    "dataset = pd.read_csv(\"csgo_round_snapshots.csv\")\n",
    "dataset.head()"
   ]
  },
  {
   "cell_type": "markdown",
   "id": "e994a793-f475-484a-a9ec-59744cc4673d",
   "metadata": {},
   "source": [
    "#### Kao sto se moze primetiti dataset se sastoji od 97 featura. Znacajniji su preostalo vreme do kraja runde u sekundama (time_left), trenutni skor u rundama (ct_score, t_score), na kojoj mapi se trenutno igra (map), da li je u zadatom trenutku postavljena C4 bomba (bomb_planted), ukupna vrednost zivota za ceo tim (ct_health, t_health, maksimum je 500=5x100), ukupna vrednost pancira za svaki tim, ukupna vrednost novca, nadalje su zadati parametri koji predstavljaju broj oruzja koje svaki tim poseduje (ct_weapon_\"ime_oruzja\", t_weapon_\"ime_oruzja\"), zadati su takodje broj bombi koje tim poseduje. I na kraju je dato koji je tim osvojio rundu."
   ]
  },
  {
   "cell_type": "markdown",
   "id": "4e1a48fd-3637-4266-95c2-9dbe5d3329d4",
   "metadata": {},
   "source": [
    "#### Dalje se vrsi ciscenje dataseta od praznih vrednosti"
   ]
  },
  {
   "cell_type": "code",
   "execution_count": 3,
   "id": "5b0ca9e0-6e21-4308-a717-a74bc48c7951",
   "metadata": {},
   "outputs": [],
   "source": [
    "dataset.dropna(inplace=True)\n",
    "dataset.reset_index(drop=True, inplace=True)"
   ]
  },
  {
   "cell_type": "markdown",
   "id": "bc18724d-0811-46e2-92e9-91eedf5a98a9",
   "metadata": {},
   "source": [
    "#### Da bi se izbegi stringovi kao vrednost za map, potrebno je napraviti nove binarne kolone koje ukazuju na to koja je mapa u pitanju "
   ]
  },
  {
   "cell_type": "code",
   "execution_count": 4,
   "id": "db3374e4-7e34-4490-918c-75f5e4d6122c",
   "metadata": {},
   "outputs": [
    {
     "data": {
      "text/html": [
       "<div>\n",
       "<style scoped>\n",
       "    .dataframe tbody tr th:only-of-type {\n",
       "        vertical-align: middle;\n",
       "    }\n",
       "\n",
       "    .dataframe tbody tr th {\n",
       "        vertical-align: top;\n",
       "    }\n",
       "\n",
       "    .dataframe thead th {\n",
       "        text-align: right;\n",
       "    }\n",
       "</style>\n",
       "<table border=\"1\" class=\"dataframe\">\n",
       "  <thead>\n",
       "    <tr style=\"text-align: right;\">\n",
       "      <th></th>\n",
       "      <th>time_left</th>\n",
       "      <th>ct_score</th>\n",
       "      <th>t_score</th>\n",
       "      <th>bomb_planted</th>\n",
       "      <th>ct_health</th>\n",
       "      <th>t_health</th>\n",
       "      <th>ct_armor</th>\n",
       "      <th>t_armor</th>\n",
       "      <th>ct_money</th>\n",
       "      <th>t_money</th>\n",
       "      <th>...</th>\n",
       "      <th>t_grenade_decoygrenade</th>\n",
       "      <th>round_winner</th>\n",
       "      <th>map_de_cache</th>\n",
       "      <th>map_de_dust2</th>\n",
       "      <th>map_de_inferno</th>\n",
       "      <th>map_de_mirage</th>\n",
       "      <th>map_de_nuke</th>\n",
       "      <th>map_de_overpass</th>\n",
       "      <th>map_de_train</th>\n",
       "      <th>map_de_vertigo</th>\n",
       "    </tr>\n",
       "  </thead>\n",
       "  <tbody>\n",
       "    <tr>\n",
       "      <th>0</th>\n",
       "      <td>175.00</td>\n",
       "      <td>0.0</td>\n",
       "      <td>0.0</td>\n",
       "      <td>False</td>\n",
       "      <td>500.0</td>\n",
       "      <td>500.0</td>\n",
       "      <td>0.0</td>\n",
       "      <td>0.0</td>\n",
       "      <td>4000.0</td>\n",
       "      <td>4000.0</td>\n",
       "      <td>...</td>\n",
       "      <td>0.0</td>\n",
       "      <td>CT</td>\n",
       "      <td>0</td>\n",
       "      <td>1</td>\n",
       "      <td>0</td>\n",
       "      <td>0</td>\n",
       "      <td>0</td>\n",
       "      <td>0</td>\n",
       "      <td>0</td>\n",
       "      <td>0</td>\n",
       "    </tr>\n",
       "    <tr>\n",
       "      <th>1</th>\n",
       "      <td>156.03</td>\n",
       "      <td>0.0</td>\n",
       "      <td>0.0</td>\n",
       "      <td>False</td>\n",
       "      <td>500.0</td>\n",
       "      <td>500.0</td>\n",
       "      <td>400.0</td>\n",
       "      <td>300.0</td>\n",
       "      <td>600.0</td>\n",
       "      <td>650.0</td>\n",
       "      <td>...</td>\n",
       "      <td>0.0</td>\n",
       "      <td>CT</td>\n",
       "      <td>0</td>\n",
       "      <td>1</td>\n",
       "      <td>0</td>\n",
       "      <td>0</td>\n",
       "      <td>0</td>\n",
       "      <td>0</td>\n",
       "      <td>0</td>\n",
       "      <td>0</td>\n",
       "    </tr>\n",
       "    <tr>\n",
       "      <th>2</th>\n",
       "      <td>96.03</td>\n",
       "      <td>0.0</td>\n",
       "      <td>0.0</td>\n",
       "      <td>False</td>\n",
       "      <td>391.0</td>\n",
       "      <td>400.0</td>\n",
       "      <td>294.0</td>\n",
       "      <td>200.0</td>\n",
       "      <td>750.0</td>\n",
       "      <td>500.0</td>\n",
       "      <td>...</td>\n",
       "      <td>0.0</td>\n",
       "      <td>CT</td>\n",
       "      <td>0</td>\n",
       "      <td>1</td>\n",
       "      <td>0</td>\n",
       "      <td>0</td>\n",
       "      <td>0</td>\n",
       "      <td>0</td>\n",
       "      <td>0</td>\n",
       "      <td>0</td>\n",
       "    </tr>\n",
       "    <tr>\n",
       "      <th>3</th>\n",
       "      <td>76.03</td>\n",
       "      <td>0.0</td>\n",
       "      <td>0.0</td>\n",
       "      <td>False</td>\n",
       "      <td>391.0</td>\n",
       "      <td>400.0</td>\n",
       "      <td>294.0</td>\n",
       "      <td>200.0</td>\n",
       "      <td>750.0</td>\n",
       "      <td>500.0</td>\n",
       "      <td>...</td>\n",
       "      <td>0.0</td>\n",
       "      <td>CT</td>\n",
       "      <td>0</td>\n",
       "      <td>1</td>\n",
       "      <td>0</td>\n",
       "      <td>0</td>\n",
       "      <td>0</td>\n",
       "      <td>0</td>\n",
       "      <td>0</td>\n",
       "      <td>0</td>\n",
       "    </tr>\n",
       "    <tr>\n",
       "      <th>4</th>\n",
       "      <td>174.97</td>\n",
       "      <td>1.0</td>\n",
       "      <td>0.0</td>\n",
       "      <td>False</td>\n",
       "      <td>500.0</td>\n",
       "      <td>500.0</td>\n",
       "      <td>192.0</td>\n",
       "      <td>0.0</td>\n",
       "      <td>18350.0</td>\n",
       "      <td>10750.0</td>\n",
       "      <td>...</td>\n",
       "      <td>0.0</td>\n",
       "      <td>CT</td>\n",
       "      <td>0</td>\n",
       "      <td>1</td>\n",
       "      <td>0</td>\n",
       "      <td>0</td>\n",
       "      <td>0</td>\n",
       "      <td>0</td>\n",
       "      <td>0</td>\n",
       "      <td>0</td>\n",
       "    </tr>\n",
       "  </tbody>\n",
       "</table>\n",
       "<p>5 rows × 104 columns</p>\n",
       "</div>"
      ],
      "text/plain": [
       "   time_left  ct_score  t_score  bomb_planted  ct_health  t_health  ct_armor  \\\n",
       "0     175.00       0.0      0.0         False      500.0     500.0       0.0   \n",
       "1     156.03       0.0      0.0         False      500.0     500.0     400.0   \n",
       "2      96.03       0.0      0.0         False      391.0     400.0     294.0   \n",
       "3      76.03       0.0      0.0         False      391.0     400.0     294.0   \n",
       "4     174.97       1.0      0.0         False      500.0     500.0     192.0   \n",
       "\n",
       "   t_armor  ct_money  t_money  ...  t_grenade_decoygrenade  round_winner  \\\n",
       "0      0.0    4000.0   4000.0  ...                     0.0            CT   \n",
       "1    300.0     600.0    650.0  ...                     0.0            CT   \n",
       "2    200.0     750.0    500.0  ...                     0.0            CT   \n",
       "3    200.0     750.0    500.0  ...                     0.0            CT   \n",
       "4      0.0   18350.0  10750.0  ...                     0.0            CT   \n",
       "\n",
       "   map_de_cache  map_de_dust2  map_de_inferno  map_de_mirage  map_de_nuke  \\\n",
       "0             0             1               0              0            0   \n",
       "1             0             1               0              0            0   \n",
       "2             0             1               0              0            0   \n",
       "3             0             1               0              0            0   \n",
       "4             0             1               0              0            0   \n",
       "\n",
       "   map_de_overpass  map_de_train  map_de_vertigo  \n",
       "0                0             0               0  \n",
       "1                0             0               0  \n",
       "2                0             0               0  \n",
       "3                0             0               0  \n",
       "4                0             0               0  \n",
       "\n",
       "[5 rows x 104 columns]"
      ]
     },
     "execution_count": 4,
     "metadata": {},
     "output_type": "execute_result"
    }
   ],
   "source": [
    "dataset = pd.get_dummies(dataset,prefix=['map'], columns =['map'])\n",
    "dataset.head()"
   ]
  },
  {
   "cell_type": "markdown",
   "id": "f9931f68-992d-4448-932b-5e063d667b9b",
   "metadata": {},
   "source": [
    "#### Potrebno je prevesti parametar bomb_planted u integer"
   ]
  },
  {
   "cell_type": "code",
   "execution_count": 5,
   "id": "a57b35ca-eac4-4d4f-9567-95cd41b40b8d",
   "metadata": {},
   "outputs": [
    {
     "data": {
      "text/html": [
       "<div>\n",
       "<style scoped>\n",
       "    .dataframe tbody tr th:only-of-type {\n",
       "        vertical-align: middle;\n",
       "    }\n",
       "\n",
       "    .dataframe tbody tr th {\n",
       "        vertical-align: top;\n",
       "    }\n",
       "\n",
       "    .dataframe thead th {\n",
       "        text-align: right;\n",
       "    }\n",
       "</style>\n",
       "<table border=\"1\" class=\"dataframe\">\n",
       "  <thead>\n",
       "    <tr style=\"text-align: right;\">\n",
       "      <th></th>\n",
       "      <th>time_left</th>\n",
       "      <th>ct_score</th>\n",
       "      <th>t_score</th>\n",
       "      <th>bomb_planted</th>\n",
       "      <th>ct_health</th>\n",
       "      <th>t_health</th>\n",
       "      <th>ct_armor</th>\n",
       "      <th>t_armor</th>\n",
       "      <th>ct_money</th>\n",
       "      <th>t_money</th>\n",
       "      <th>...</th>\n",
       "      <th>t_grenade_decoygrenade</th>\n",
       "      <th>round_winner</th>\n",
       "      <th>map_de_cache</th>\n",
       "      <th>map_de_dust2</th>\n",
       "      <th>map_de_inferno</th>\n",
       "      <th>map_de_mirage</th>\n",
       "      <th>map_de_nuke</th>\n",
       "      <th>map_de_overpass</th>\n",
       "      <th>map_de_train</th>\n",
       "      <th>map_de_vertigo</th>\n",
       "    </tr>\n",
       "  </thead>\n",
       "  <tbody>\n",
       "    <tr>\n",
       "      <th>0</th>\n",
       "      <td>175.00</td>\n",
       "      <td>0.0</td>\n",
       "      <td>0.0</td>\n",
       "      <td>0</td>\n",
       "      <td>500.0</td>\n",
       "      <td>500.0</td>\n",
       "      <td>0.0</td>\n",
       "      <td>0.0</td>\n",
       "      <td>4000.0</td>\n",
       "      <td>4000.0</td>\n",
       "      <td>...</td>\n",
       "      <td>0.0</td>\n",
       "      <td>CT</td>\n",
       "      <td>0</td>\n",
       "      <td>1</td>\n",
       "      <td>0</td>\n",
       "      <td>0</td>\n",
       "      <td>0</td>\n",
       "      <td>0</td>\n",
       "      <td>0</td>\n",
       "      <td>0</td>\n",
       "    </tr>\n",
       "    <tr>\n",
       "      <th>1</th>\n",
       "      <td>156.03</td>\n",
       "      <td>0.0</td>\n",
       "      <td>0.0</td>\n",
       "      <td>0</td>\n",
       "      <td>500.0</td>\n",
       "      <td>500.0</td>\n",
       "      <td>400.0</td>\n",
       "      <td>300.0</td>\n",
       "      <td>600.0</td>\n",
       "      <td>650.0</td>\n",
       "      <td>...</td>\n",
       "      <td>0.0</td>\n",
       "      <td>CT</td>\n",
       "      <td>0</td>\n",
       "      <td>1</td>\n",
       "      <td>0</td>\n",
       "      <td>0</td>\n",
       "      <td>0</td>\n",
       "      <td>0</td>\n",
       "      <td>0</td>\n",
       "      <td>0</td>\n",
       "    </tr>\n",
       "    <tr>\n",
       "      <th>2</th>\n",
       "      <td>96.03</td>\n",
       "      <td>0.0</td>\n",
       "      <td>0.0</td>\n",
       "      <td>0</td>\n",
       "      <td>391.0</td>\n",
       "      <td>400.0</td>\n",
       "      <td>294.0</td>\n",
       "      <td>200.0</td>\n",
       "      <td>750.0</td>\n",
       "      <td>500.0</td>\n",
       "      <td>...</td>\n",
       "      <td>0.0</td>\n",
       "      <td>CT</td>\n",
       "      <td>0</td>\n",
       "      <td>1</td>\n",
       "      <td>0</td>\n",
       "      <td>0</td>\n",
       "      <td>0</td>\n",
       "      <td>0</td>\n",
       "      <td>0</td>\n",
       "      <td>0</td>\n",
       "    </tr>\n",
       "    <tr>\n",
       "      <th>3</th>\n",
       "      <td>76.03</td>\n",
       "      <td>0.0</td>\n",
       "      <td>0.0</td>\n",
       "      <td>0</td>\n",
       "      <td>391.0</td>\n",
       "      <td>400.0</td>\n",
       "      <td>294.0</td>\n",
       "      <td>200.0</td>\n",
       "      <td>750.0</td>\n",
       "      <td>500.0</td>\n",
       "      <td>...</td>\n",
       "      <td>0.0</td>\n",
       "      <td>CT</td>\n",
       "      <td>0</td>\n",
       "      <td>1</td>\n",
       "      <td>0</td>\n",
       "      <td>0</td>\n",
       "      <td>0</td>\n",
       "      <td>0</td>\n",
       "      <td>0</td>\n",
       "      <td>0</td>\n",
       "    </tr>\n",
       "    <tr>\n",
       "      <th>4</th>\n",
       "      <td>174.97</td>\n",
       "      <td>1.0</td>\n",
       "      <td>0.0</td>\n",
       "      <td>0</td>\n",
       "      <td>500.0</td>\n",
       "      <td>500.0</td>\n",
       "      <td>192.0</td>\n",
       "      <td>0.0</td>\n",
       "      <td>18350.0</td>\n",
       "      <td>10750.0</td>\n",
       "      <td>...</td>\n",
       "      <td>0.0</td>\n",
       "      <td>CT</td>\n",
       "      <td>0</td>\n",
       "      <td>1</td>\n",
       "      <td>0</td>\n",
       "      <td>0</td>\n",
       "      <td>0</td>\n",
       "      <td>0</td>\n",
       "      <td>0</td>\n",
       "      <td>0</td>\n",
       "    </tr>\n",
       "  </tbody>\n",
       "</table>\n",
       "<p>5 rows × 104 columns</p>\n",
       "</div>"
      ],
      "text/plain": [
       "   time_left  ct_score  t_score  bomb_planted  ct_health  t_health  ct_armor  \\\n",
       "0     175.00       0.0      0.0             0      500.0     500.0       0.0   \n",
       "1     156.03       0.0      0.0             0      500.0     500.0     400.0   \n",
       "2      96.03       0.0      0.0             0      391.0     400.0     294.0   \n",
       "3      76.03       0.0      0.0             0      391.0     400.0     294.0   \n",
       "4     174.97       1.0      0.0             0      500.0     500.0     192.0   \n",
       "\n",
       "   t_armor  ct_money  t_money  ...  t_grenade_decoygrenade  round_winner  \\\n",
       "0      0.0    4000.0   4000.0  ...                     0.0            CT   \n",
       "1    300.0     600.0    650.0  ...                     0.0            CT   \n",
       "2    200.0     750.0    500.0  ...                     0.0            CT   \n",
       "3    200.0     750.0    500.0  ...                     0.0            CT   \n",
       "4      0.0   18350.0  10750.0  ...                     0.0            CT   \n",
       "\n",
       "   map_de_cache  map_de_dust2  map_de_inferno  map_de_mirage  map_de_nuke  \\\n",
       "0             0             1               0              0            0   \n",
       "1             0             1               0              0            0   \n",
       "2             0             1               0              0            0   \n",
       "3             0             1               0              0            0   \n",
       "4             0             1               0              0            0   \n",
       "\n",
       "   map_de_overpass  map_de_train  map_de_vertigo  \n",
       "0                0             0               0  \n",
       "1                0             0               0  \n",
       "2                0             0               0  \n",
       "3                0             0               0  \n",
       "4                0             0               0  \n",
       "\n",
       "[5 rows x 104 columns]"
      ]
     },
     "execution_count": 5,
     "metadata": {},
     "output_type": "execute_result"
    }
   ],
   "source": [
    "dataset[\"bomb_planted\"] = dataset[\"bomb_planted\"].astype(int)\n",
    "dataset.head()"
   ]
  },
  {
   "cell_type": "markdown",
   "id": "5e036b92-db27-4c3c-a957-42eaf0df5bbb",
   "metadata": {},
   "source": [
    "#### Potrebno je uvesti labele za vrednosti round_winner, da ne bi vise bio string"
   ]
  },
  {
   "cell_type": "code",
   "execution_count": 6,
   "id": "4ca763d0-32e8-49ef-8205-e9fbcf19c03e",
   "metadata": {},
   "outputs": [],
   "source": [
    "dataset[\"round_winner\"] = [int(dataset[\"round_winner\"][i]==\"CT\") for i in range(dataset.shape[0])]"
   ]
  },
  {
   "cell_type": "code",
   "execution_count": 7,
   "id": "95a47d3a-6be4-43ed-b9b2-8b3e84b85220",
   "metadata": {},
   "outputs": [
    {
     "data": {
      "text/plain": [
       "0         1\n",
       "1         1\n",
       "2         1\n",
       "3         1\n",
       "4         1\n",
       "         ..\n",
       "122405    0\n",
       "122406    0\n",
       "122407    0\n",
       "122408    0\n",
       "122409    0\n",
       "Name: round_winner, Length: 122410, dtype: int64"
      ]
     },
     "execution_count": 7,
     "metadata": {},
     "output_type": "execute_result"
    }
   ],
   "source": [
    "dataset[\"round_winner\"]"
   ]
  },
  {
   "cell_type": "code",
   "execution_count": 8,
   "id": "bfcc4f8a-8e91-4f26-8e3f-239ba2c3693f",
   "metadata": {},
   "outputs": [
    {
     "name": "stdout",
     "output_type": "stream",
     "text": [
      "(122410, 103)\n",
      "(122410,)\n"
     ]
    }
   ],
   "source": [
    "X = dataset.drop('round_winner', axis=1)\n",
    "y = dataset['round_winner']\n",
    "print(X.shape)\n",
    "print(y.shape)"
   ]
  },
  {
   "cell_type": "markdown",
   "id": "be39e5ec-eb2b-4a19-b66b-c1bf4bc4e6ba",
   "metadata": {},
   "source": [
    "## 3. Obucavanje modela bez normalizacije dataseta"
   ]
  },
  {
   "cell_type": "markdown",
   "id": "0bb1933a-b46a-43d8-bd35-afb7126d9cf9",
   "metadata": {},
   "source": [
    "#### Model se sastoji 5 slojeva sa po 64, 32, 16, 8 cvorova i zadnji sloj koji predstavlja predikciju"
   ]
  },
  {
   "cell_type": "code",
   "execution_count": 9,
   "id": "be61bef6-3218-40e0-a6b7-66538dbf3a3b",
   "metadata": {},
   "outputs": [],
   "source": [
    "model = Sequential()\n",
    "model.add(Dense(64, activation='relu', input_shape = (103,) ))\n",
    "model.add(Dense(32, activation='relu'))\n",
    "model.add(Dense(16, activation='relu'))\n",
    "model.add(Dense(8, activation='relu'))\n",
    "model.add(Dense(1, activation='sigmoid'))\n",
    "\n",
    "model.compile(optimizer='adam', loss='binary_crossentropy', metrics=['accuracy'])"
   ]
  },
  {
   "cell_type": "code",
   "execution_count": 10,
   "id": "0c840df0-8b9e-41b0-a879-a59c17492e14",
   "metadata": {},
   "outputs": [
    {
     "name": "stdout",
     "output_type": "stream",
     "text": [
      "Train on 97928 samples, validate on 24482 samples\n",
      "Epoch 1/10\n",
      "   32/97928 [..............................] - ETA: 4:33 - loss: 648.8333 - accuracy: 0.4688"
     ]
    },
    {
     "name": "stderr",
     "output_type": "stream",
     "text": [
      "2022-03-15 22:51:29.168230: I tensorflow/stream_executor/cuda/cuda_gpu_executor.cc:936] successful NUMA node read from SysFS had negative value (-1), but there must be at least one NUMA node, so returning NUMA node zero\n",
      "2022-03-15 22:51:29.168496: W tensorflow/stream_executor/platform/default/dso_loader.cc:64] Could not load dynamic library 'libcudart.so.11.0'; dlerror: libcudart.so.11.0: cannot open shared object file: No such file or directory\n",
      "2022-03-15 22:51:29.168549: W tensorflow/stream_executor/platform/default/dso_loader.cc:64] Could not load dynamic library 'libcublas.so.11'; dlerror: libcublas.so.11: cannot open shared object file: No such file or directory\n",
      "2022-03-15 22:51:29.168575: W tensorflow/stream_executor/platform/default/dso_loader.cc:64] Could not load dynamic library 'libcublasLt.so.11'; dlerror: libcublasLt.so.11: cannot open shared object file: No such file or directory\n",
      "2022-03-15 22:51:29.168600: W tensorflow/stream_executor/platform/default/dso_loader.cc:64] Could not load dynamic library 'libcufft.so.10'; dlerror: libcufft.so.10: cannot open shared object file: No such file or directory\n",
      "2022-03-15 22:51:29.168622: W tensorflow/stream_executor/platform/default/dso_loader.cc:64] Could not load dynamic library 'libcurand.so.10'; dlerror: libcurand.so.10: cannot open shared object file: No such file or directory\n",
      "2022-03-15 22:51:29.168643: W tensorflow/stream_executor/platform/default/dso_loader.cc:64] Could not load dynamic library 'libcusolver.so.11'; dlerror: libcusolver.so.11: cannot open shared object file: No such file or directory\n",
      "2022-03-15 22:51:29.168664: W tensorflow/stream_executor/platform/default/dso_loader.cc:64] Could not load dynamic library 'libcusparse.so.11'; dlerror: libcusparse.so.11: cannot open shared object file: No such file or directory\n",
      "2022-03-15 22:51:29.168685: W tensorflow/stream_executor/platform/default/dso_loader.cc:64] Could not load dynamic library 'libcudnn.so.8'; dlerror: libcudnn.so.8: cannot open shared object file: No such file or directory\n",
      "2022-03-15 22:51:29.168691: W tensorflow/core/common_runtime/gpu/gpu_device.cc:1850] Cannot dlopen some GPU libraries. Please make sure the missing libraries mentioned above are installed properly if you would like to use GPU. Follow the guide at https://www.tensorflow.org/install/gpu for how to download and setup the required libraries for your platform.\n",
      "Skipping registering GPU devices...\n",
      "2022-03-15 22:51:29.169010: I tensorflow/core/platform/cpu_feature_guard.cc:151] This TensorFlow binary is optimized with oneAPI Deep Neural Network Library (oneDNN) to use the following CPU instructions in performance-critical operations:  AVX2 FMA\n",
      "To enable them in other operations, rebuild TensorFlow with the appropriate compiler flags.\n"
     ]
    },
    {
     "name": "stdout",
     "output_type": "stream",
     "text": [
      "96896/97928 [============================>.] - ETA: 0s - loss: 2.1012 - accuracy: 0.5309"
     ]
    },
    {
     "name": "stderr",
     "output_type": "stream",
     "text": [
      "/home/medox/Masinski/Masinsko-ucenje/mas/lib/python3.10/site-packages/keras/engine/training_v1.py:2057: UserWarning: `Model.state_updates` will be removed in a future version. This property should not be used in TensorFlow 2.0, as `updates` are applied automatically.\n",
      "  updates = self.state_updates\n"
     ]
    },
    {
     "name": "stdout",
     "output_type": "stream",
     "text": [
      "97928/97928 [==============================] - 5s 50us/sample - loss: 2.0864 - accuracy: 0.5307 - val_loss: 0.6883 - val_accuracy: 0.5027\n",
      "Epoch 2/10\n",
      "97928/97928 [==============================] - 5s 51us/sample - loss: 0.6919 - accuracy: 0.5112 - val_loss: 0.6933 - val_accuracy: 0.5027\n",
      "Epoch 3/10\n",
      "97928/97928 [==============================] - 5s 51us/sample - loss: 0.6929 - accuracy: 0.5116 - val_loss: 0.6935 - val_accuracy: 0.5027\n",
      "Epoch 4/10\n",
      "97928/97928 [==============================] - 5s 50us/sample - loss: 0.6936 - accuracy: 0.5116 - val_loss: 0.6933 - val_accuracy: 0.5027\n",
      "Epoch 5/10\n",
      "97928/97928 [==============================] - 5s 50us/sample - loss: 0.6929 - accuracy: 0.5116 - val_loss: 0.6933 - val_accuracy: 0.5027\n",
      "Epoch 6/10\n",
      "97928/97928 [==============================] - 5s 50us/sample - loss: 0.6929 - accuracy: 0.5116 - val_loss: 0.6932 - val_accuracy: 0.5027\n",
      "Epoch 7/10\n",
      "97928/97928 [==============================] - 5s 54us/sample - loss: 0.6929 - accuracy: 0.5116 - val_loss: 0.6932 - val_accuracy: 0.5027\n",
      "Epoch 8/10\n",
      "97928/97928 [==============================] - 5s 51us/sample - loss: 0.6929 - accuracy: 0.5112 - val_loss: 0.6932 - val_accuracy: 0.5027\n",
      "Epoch 9/10\n",
      "97928/97928 [==============================] - 5s 51us/sample - loss: 0.6929 - accuracy: 0.5116 - val_loss: 0.6932 - val_accuracy: 0.5027\n",
      "Epoch 10/10\n",
      "97928/97928 [==============================] - 5s 50us/sample - loss: 0.6929 - accuracy: 0.5116 - val_loss: 0.6932 - val_accuracy: 0.5027\n"
     ]
    }
   ],
   "source": [
    "history=model.fit(X, y, epochs=10, batch_size=32, validation_split = .2)"
   ]
  },
  {
   "cell_type": "markdown",
   "id": "6a234e9e-8af9-4779-b58b-de8f0422f597",
   "metadata": {},
   "source": [
    "#### Grafik Test tacnosti za prethodni model"
   ]
  },
  {
   "cell_type": "code",
   "execution_count": 11,
   "id": "889ba188-d295-4fb1-be65-3f05afc5cebf",
   "metadata": {},
   "outputs": [
    {
     "data": {
      "image/png": "[encoded data removed]",
      "text/plain": [
       "<Figure size 432x288 with 1 Axes>"
      ]
     },
     "metadata": {
      "needs_background": "light"
     },
     "output_type": "display_data"
    }
   ],
   "source": [
    "test_acc = history.history['val_accuracy']\n",
    "epoch_count = range(1, len(test_acc) + 1)\n",
    "plt.plot(epoch_count, test_acc, 'b-')\n",
    "plt.legend(['Test Accuracy'])\n",
    "plt.xlabel('Epoch')\n",
    "plt.ylabel('Accuracy')\n",
    "plt.show()"
   ]
  },
  {
   "cell_type": "code",
   "execution_count": 12,
   "id": "9ed49107-d5cf-4249-8907-0b05c070927f",
   "metadata": {},
   "outputs": [],
   "source": [
    "model1 = Sequential()\n",
    "model1.add(Dense(128, activation='relu', input_shape = (103,) ))\n",
    "model1.add(Dense(64, activation='relu'))\n",
    "model1.add(Dense(32, activation='relu'))\n",
    "model1.add(Dense(16, activation='relu'))\n",
    "model1.add(Dense(1, activation='sigmoid'))\n",
    "\n",
    "model1.compile(optimizer='adam', loss='binary_crossentropy', metrics=['accuracy'])"
   ]
  },
  {
   "cell_type": "code",
   "execution_count": 13,
   "id": "a1a4a414-8643-4351-b10e-2b8751ac5f7b",
   "metadata": {},
   "outputs": [
    {
     "name": "stdout",
     "output_type": "stream",
     "text": [
      "Train on 97928 samples, validate on 24482 samples\n",
      "Epoch 1/10\n",
      "97928/97928 [==============================] - 5s 55us/sample - loss: 4.8730 - accuracy: 0.6590 - val_loss: 0.9591 - val_accuracy: 0.6609\n",
      "Epoch 2/10\n",
      "97928/97928 [==============================] - 5s 52us/sample - loss: 0.6314 - accuracy: 0.6998 - val_loss: 0.7122 - val_accuracy: 0.6388\n",
      "Epoch 3/10\n",
      "97928/97928 [==============================] - 5s 56us/sample - loss: 0.6047 - accuracy: 0.6884 - val_loss: 0.5451 - val_accuracy: 0.7045\n",
      "Epoch 4/10\n",
      "97928/97928 [==============================] - 6s 58us/sample - loss: 0.5312 - accuracy: 0.7180 - val_loss: 0.5245 - val_accuracy: 0.7299\n",
      "Epoch 5/10\n",
      "97928/97928 [==============================] - 6s 59us/sample - loss: 0.5170 - accuracy: 0.7229 - val_loss: 0.5040 - val_accuracy: 0.7151\n",
      "Epoch 6/10\n",
      "97928/97928 [==============================] - 5s 55us/sample - loss: 0.5034 - accuracy: 0.7287 - val_loss: 0.5010 - val_accuracy: 0.7339\n",
      "Epoch 7/10\n",
      "97928/97928 [==============================] - 5s 53us/sample - loss: 0.4942 - accuracy: 0.7330 - val_loss: 0.4990 - val_accuracy: 0.7271\n",
      "Epoch 8/10\n",
      "97928/97928 [==============================] - 6s 57us/sample - loss: 0.4881 - accuracy: 0.7368 - val_loss: 0.4787 - val_accuracy: 0.7370\n",
      "Epoch 9/10\n",
      "97928/97928 [==============================] - 5s 54us/sample - loss: 0.4843 - accuracy: 0.7383 - val_loss: 0.4844 - val_accuracy: 0.7294\n",
      "Epoch 10/10\n",
      "97928/97928 [==============================] - 5s 56us/sample - loss: 0.4789 - accuracy: 0.7403 - val_loss: 0.4813 - val_accuracy: 0.7346\n"
     ]
    }
   ],
   "source": [
    "history=model1.fit(X, y, epochs=10, batch_size=32, validation_split = .2)"
   ]
  },
  {
   "cell_type": "code",
   "execution_count": 14,
   "id": "52699f0e-6576-4d24-8c4e-22695e71c2ac",
   "metadata": {},
   "outputs": [
    {
     "data": {
      "image/png": "[encoded data removed]",
      "text/plain": [
       "<Figure size 432x288 with 1 Axes>"
      ]
     },
     "metadata": {
      "needs_background": "light"
     },
     "output_type": "display_data"
    }
   ],
   "source": [
    "test_acc = history.history['val_accuracy']\n",
    "epoch_count = range(1, len(test_acc) + 1)\n",
    "plt.plot(epoch_count, test_acc, 'b-')\n",
    "plt.legend(['Test Accuracy'])\n",
    "plt.xlabel('Epoch')\n",
    "plt.ylabel('Accuracy')\n",
    "plt.show()"
   ]
  },
  {
   "cell_type": "markdown",
   "id": "c3649300-46f5-4274-923a-66734738d8b3",
   "metadata": {},
   "source": [
    "#### Treniranje modela sa promenjenim learning ratom"
   ]
  },
  {
   "cell_type": "code",
   "execution_count": 15,
   "id": "81617ffd-45ef-4eb2-8fbc-35eddbdf0b69",
   "metadata": {},
   "outputs": [],
   "source": [
    "opt = keras.optimizers.Adam(learning_rate=0.01)\n",
    "model1_opt = Sequential()\n",
    "model1_opt.add(Dense(128, activation='relu', input_shape = (103,) ))\n",
    "model1_opt.add(Dense(64, activation='relu'))\n",
    "model1_opt.add(Dense(32, activation='relu'))\n",
    "model1_opt.add(Dense(16, activation='relu'))\n",
    "model1_opt.add(Dense(1, activation='sigmoid'))\n",
    "\n",
    "model1_opt.compile(optimizer='adam', loss='binary_crossentropy', metrics=['accuracy'])"
   ]
  },
  {
   "cell_type": "code",
   "execution_count": 16,
   "id": "2b8e5c40-0773-4ad3-ab21-ccc2fa852e69",
   "metadata": {},
   "outputs": [
    {
     "name": "stdout",
     "output_type": "stream",
     "text": [
      "Train on 97928 samples, validate on 24482 samples\n",
      "Epoch 1/10\n",
      "97928/97928 [==============================] - 6s 63us/sample - loss: 1.5706 - accuracy: 0.6731 - val_loss: 0.5270 - val_accuracy: 0.7263\n",
      "Epoch 2/10\n",
      "97928/97928 [==============================] - 6s 58us/sample - loss: 0.5589 - accuracy: 0.7142 - val_loss: 0.5343 - val_accuracy: 0.7279\n",
      "Epoch 3/10\n",
      "97928/97928 [==============================] - 5s 55us/sample - loss: 0.5440 - accuracy: 0.7247 - val_loss: 0.4978 - val_accuracy: 0.7260\n",
      "Epoch 4/10\n",
      "97928/97928 [==============================] - 5s 55us/sample - loss: 0.5322 - accuracy: 0.7225 - val_loss: 0.5250 - val_accuracy: 0.7274\n",
      "Epoch 5/10\n",
      "97928/97928 [==============================] - 6s 57us/sample - loss: 0.5165 - accuracy: 0.7279 - val_loss: 0.5143 - val_accuracy: 0.7193\n",
      "Epoch 6/10\n",
      "97928/97928 [==============================] - 6s 57us/sample - loss: 0.5006 - accuracy: 0.7333 - val_loss: 0.4963 - val_accuracy: 0.7211\n",
      "Epoch 7/10\n",
      "97928/97928 [==============================] - 6s 59us/sample - loss: 0.4951 - accuracy: 0.7357 - val_loss: 0.5011 - val_accuracy: 0.7162\n",
      "Epoch 8/10\n",
      "97928/97928 [==============================] - 6s 58us/sample - loss: 0.4886 - accuracy: 0.7391 - val_loss: 0.4962 - val_accuracy: 0.7308\n",
      "Epoch 9/10\n",
      "97928/97928 [==============================] - 6s 58us/sample - loss: 0.4900 - accuracy: 0.7381 - val_loss: 0.4919 - val_accuracy: 0.7263\n",
      "Epoch 10/10\n",
      "97928/97928 [==============================] - 6s 58us/sample - loss: 0.4960 - accuracy: 0.7356 - val_loss: 0.4855 - val_accuracy: 0.7356\n"
     ]
    }
   ],
   "source": [
    "history=model1_opt.fit(X, y, epochs=10, batch_size=32, validation_split = .2)"
   ]
  },
  {
   "cell_type": "code",
   "execution_count": 17,
   "id": "b5097a6f-8f65-4670-93d3-a98550551fbb",
   "metadata": {},
   "outputs": [
    {
     "data": {
      "image/png": "[encoded data removed]",
      "text/plain": [
       "<Figure size 432x288 with 1 Axes>"
      ]
     },
     "metadata": {
      "needs_background": "light"
     },
     "output_type": "display_data"
    }
   ],
   "source": [
    "test_acc = history.history['val_accuracy']\n",
    "epoch_count = range(1, len(test_acc) + 1)\n",
    "plt.plot(epoch_count, test_acc, 'b-')\n",
    "plt.legend(['Test Accuracy'])\n",
    "plt.xlabel('Epoch')\n",
    "plt.ylabel('Accuracy')\n",
    "plt.show()"
   ]
  },
  {
   "cell_type": "code",
   "execution_count": 18,
   "id": "f6acc6b0-6a72-4166-bd9a-0a3b7fe94acb",
   "metadata": {},
   "outputs": [],
   "source": [
    "opt = keras.optimizers.Adam(learning_rate=0.0001)\n",
    "model1_opt1 = Sequential()\n",
    "model1_opt1.add(Dense(128, activation='relu', input_shape = (103,) ))\n",
    "model1_opt1.add(Dense(64, activation='relu'))\n",
    "model1_opt1.add(Dense(32, activation='relu'))\n",
    "model1_opt1.add(Dense(16, activation='relu'))\n",
    "model1_opt1.add(Dense(1, activation='sigmoid'))\n",
    "\n",
    "model1_opt1.compile(optimizer='adam', loss='binary_crossentropy', metrics=['accuracy'])"
   ]
  },
  {
   "cell_type": "code",
   "execution_count": 19,
   "id": "dff6fa94-073b-413d-b72c-ba7117f53809",
   "metadata": {},
   "outputs": [
    {
     "name": "stdout",
     "output_type": "stream",
     "text": [
      "Train on 97928 samples, validate on 24482 samples\n",
      "Epoch 1/10\n",
      "97928/97928 [==============================] - 6s 57us/sample - loss: 3.1158 - accuracy: 0.6632 - val_loss: 0.6798 - val_accuracy: 0.6947\n",
      "Epoch 2/10\n",
      "97928/97928 [==============================] - 6s 60us/sample - loss: 0.6027 - accuracy: 0.7108 - val_loss: 0.5252 - val_accuracy: 0.7216\n",
      "Epoch 3/10\n",
      "97928/97928 [==============================] - 6s 63us/sample - loss: 0.5361 - accuracy: 0.7229 - val_loss: 0.5672 - val_accuracy: 0.6789\n",
      "Epoch 4/10\n",
      "97928/97928 [==============================] - 6s 61us/sample - loss: 0.5256 - accuracy: 0.7232 - val_loss: 0.5417 - val_accuracy: 0.7020\n",
      "Epoch 5/10\n",
      "97928/97928 [==============================] - 6s 59us/sample - loss: 0.5131 - accuracy: 0.7275 - val_loss: 0.5299 - val_accuracy: 0.7259\n",
      "Epoch 6/10\n",
      "97928/97928 [==============================] - 6s 59us/sample - loss: 0.5054 - accuracy: 0.7312 - val_loss: 0.4978 - val_accuracy: 0.7216\n",
      "Epoch 7/10\n",
      "97928/97928 [==============================] - 6s 58us/sample - loss: 0.5030 - accuracy: 0.7329 - val_loss: 0.4916 - val_accuracy: 0.7286\n",
      "Epoch 8/10\n",
      "97928/97928 [==============================] - 6s 62us/sample - loss: 0.4957 - accuracy: 0.7368 - val_loss: 0.4930 - val_accuracy: 0.7342\n",
      "Epoch 9/10\n",
      "97928/97928 [==============================] - 6s 59us/sample - loss: 0.4883 - accuracy: 0.7392 - val_loss: 0.4920 - val_accuracy: 0.7222\n",
      "Epoch 10/10\n",
      "97928/97928 [==============================] - 6s 58us/sample - loss: 0.4853 - accuracy: 0.7398 - val_loss: 0.4848 - val_accuracy: 0.7326\n"
     ]
    }
   ],
   "source": [
    "history=model1_opt1.fit(X, y, epochs=10, batch_size=32, validation_split = .2)"
   ]
  },
  {
   "cell_type": "code",
   "execution_count": 20,
   "id": "f99b440e-23d8-49f0-8d5a-df4d049ad39d",
   "metadata": {},
   "outputs": [
    {
     "data": {
      "image/png": "[encoded data removed]",
      "text/plain": [
       "<Figure size 432x288 with 1 Axes>"
      ]
     },
     "metadata": {
      "needs_background": "light"
     },
     "output_type": "display_data"
    }
   ],
   "source": [
    "test_acc = history.history['val_accuracy']\n",
    "epoch_count = range(1, len(test_acc) + 1)\n",
    "plt.plot(epoch_count, test_acc, 'b-')\n",
    "plt.legend(['Test Accuracy'])\n",
    "plt.xlabel('Epoch')\n",
    "plt.ylabel('Accuracy')\n",
    "plt.show()"
   ]
  },
  {
   "cell_type": "markdown",
   "id": "229cd0b5-594b-4acc-98cc-3197466a0f78",
   "metadata": {},
   "source": [
    "## 4. Treniranje nad normalizovanim podacima"
   ]
  },
  {
   "cell_type": "code",
   "execution_count": 21,
   "id": "acd64fda-c394-4ce2-a676-00af5955df81",
   "metadata": {},
   "outputs": [],
   "source": [
    "eps = 0.000001\n",
    "X_normalized=(X-X.min())/(X.max()-X.min()+eps) - 0.5"
   ]
  },
  {
   "cell_type": "code",
   "execution_count": 22,
   "id": "b91f70a7-5e84-4f3f-a3be-83d28c810d01",
   "metadata": {},
   "outputs": [
    {
     "data": {
      "text/html": [
       "<div>\n",
       "<style scoped>\n",
       "    .dataframe tbody tr th:only-of-type {\n",
       "        vertical-align: middle;\n",
       "    }\n",
       "\n",
       "    .dataframe tbody tr th {\n",
       "        vertical-align: top;\n",
       "    }\n",
       "\n",
       "    .dataframe thead th {\n",
       "        text-align: right;\n",
       "    }\n",
       "</style>\n",
       "<table border=\"1\" class=\"dataframe\">\n",
       "  <thead>\n",
       "    <tr style=\"text-align: right;\">\n",
       "      <th></th>\n",
       "      <th>time_left</th>\n",
       "      <th>ct_score</th>\n",
       "      <th>t_score</th>\n",
       "      <th>bomb_planted</th>\n",
       "      <th>ct_health</th>\n",
       "      <th>t_health</th>\n",
       "      <th>ct_armor</th>\n",
       "      <th>t_armor</th>\n",
       "      <th>ct_money</th>\n",
       "      <th>t_money</th>\n",
       "      <th>...</th>\n",
       "      <th>ct_grenade_decoygrenade</th>\n",
       "      <th>t_grenade_decoygrenade</th>\n",
       "      <th>map_de_cache</th>\n",
       "      <th>map_de_dust2</th>\n",
       "      <th>map_de_inferno</th>\n",
       "      <th>map_de_mirage</th>\n",
       "      <th>map_de_nuke</th>\n",
       "      <th>map_de_overpass</th>\n",
       "      <th>map_de_train</th>\n",
       "      <th>map_de_vertigo</th>\n",
       "    </tr>\n",
       "  </thead>\n",
       "  <tbody>\n",
       "    <tr>\n",
       "      <th>0</th>\n",
       "      <td>0.500000</td>\n",
       "      <td>-0.50000</td>\n",
       "      <td>-0.5</td>\n",
       "      <td>-0.5</td>\n",
       "      <td>0.500</td>\n",
       "      <td>0.333333</td>\n",
       "      <td>-0.500</td>\n",
       "      <td>-0.5</td>\n",
       "      <td>-0.450000</td>\n",
       "      <td>-0.450000</td>\n",
       "      <td>...</td>\n",
       "      <td>-0.5</td>\n",
       "      <td>-0.5</td>\n",
       "      <td>-0.5</td>\n",
       "      <td>0.499999</td>\n",
       "      <td>-0.5</td>\n",
       "      <td>-0.5</td>\n",
       "      <td>-0.5</td>\n",
       "      <td>-0.5</td>\n",
       "      <td>-0.5</td>\n",
       "      <td>-0.5</td>\n",
       "    </tr>\n",
       "    <tr>\n",
       "      <th>1</th>\n",
       "      <td>0.391594</td>\n",
       "      <td>-0.50000</td>\n",
       "      <td>-0.5</td>\n",
       "      <td>-0.5</td>\n",
       "      <td>0.500</td>\n",
       "      <td>0.333333</td>\n",
       "      <td>0.300</td>\n",
       "      <td>0.1</td>\n",
       "      <td>-0.492500</td>\n",
       "      <td>-0.491875</td>\n",
       "      <td>...</td>\n",
       "      <td>-0.5</td>\n",
       "      <td>-0.5</td>\n",
       "      <td>-0.5</td>\n",
       "      <td>0.499999</td>\n",
       "      <td>-0.5</td>\n",
       "      <td>-0.5</td>\n",
       "      <td>-0.5</td>\n",
       "      <td>-0.5</td>\n",
       "      <td>-0.5</td>\n",
       "      <td>-0.5</td>\n",
       "    </tr>\n",
       "    <tr>\n",
       "      <th>2</th>\n",
       "      <td>0.048717</td>\n",
       "      <td>-0.50000</td>\n",
       "      <td>-0.5</td>\n",
       "      <td>-0.5</td>\n",
       "      <td>0.282</td>\n",
       "      <td>0.166667</td>\n",
       "      <td>0.088</td>\n",
       "      <td>-0.1</td>\n",
       "      <td>-0.490625</td>\n",
       "      <td>-0.493750</td>\n",
       "      <td>...</td>\n",
       "      <td>-0.5</td>\n",
       "      <td>-0.5</td>\n",
       "      <td>-0.5</td>\n",
       "      <td>0.499999</td>\n",
       "      <td>-0.5</td>\n",
       "      <td>-0.5</td>\n",
       "      <td>-0.5</td>\n",
       "      <td>-0.5</td>\n",
       "      <td>-0.5</td>\n",
       "      <td>-0.5</td>\n",
       "    </tr>\n",
       "    <tr>\n",
       "      <th>3</th>\n",
       "      <td>-0.065575</td>\n",
       "      <td>-0.50000</td>\n",
       "      <td>-0.5</td>\n",
       "      <td>-0.5</td>\n",
       "      <td>0.282</td>\n",
       "      <td>0.166667</td>\n",
       "      <td>0.088</td>\n",
       "      <td>-0.1</td>\n",
       "      <td>-0.490625</td>\n",
       "      <td>-0.493750</td>\n",
       "      <td>...</td>\n",
       "      <td>-0.5</td>\n",
       "      <td>-0.5</td>\n",
       "      <td>-0.5</td>\n",
       "      <td>0.499999</td>\n",
       "      <td>-0.5</td>\n",
       "      <td>-0.5</td>\n",
       "      <td>-0.5</td>\n",
       "      <td>-0.5</td>\n",
       "      <td>-0.5</td>\n",
       "      <td>-0.5</td>\n",
       "    </tr>\n",
       "    <tr>\n",
       "      <th>4</th>\n",
       "      <td>0.499829</td>\n",
       "      <td>-0.46875</td>\n",
       "      <td>-0.5</td>\n",
       "      <td>-0.5</td>\n",
       "      <td>0.500</td>\n",
       "      <td>0.333333</td>\n",
       "      <td>-0.116</td>\n",
       "      <td>-0.5</td>\n",
       "      <td>-0.270625</td>\n",
       "      <td>-0.365625</td>\n",
       "      <td>...</td>\n",
       "      <td>-0.5</td>\n",
       "      <td>-0.5</td>\n",
       "      <td>-0.5</td>\n",
       "      <td>0.499999</td>\n",
       "      <td>-0.5</td>\n",
       "      <td>-0.5</td>\n",
       "      <td>-0.5</td>\n",
       "      <td>-0.5</td>\n",
       "      <td>-0.5</td>\n",
       "      <td>-0.5</td>\n",
       "    </tr>\n",
       "  </tbody>\n",
       "</table>\n",
       "<p>5 rows × 103 columns</p>\n",
       "</div>"
      ],
      "text/plain": [
       "   time_left  ct_score  t_score  bomb_planted  ct_health  t_health  ct_armor  \\\n",
       "0   0.500000  -0.50000     -0.5          -0.5      0.500  0.333333    -0.500   \n",
       "1   0.391594  -0.50000     -0.5          -0.5      0.500  0.333333     0.300   \n",
       "2   0.048717  -0.50000     -0.5          -0.5      0.282  0.166667     0.088   \n",
       "3  -0.065575  -0.50000     -0.5          -0.5      0.282  0.166667     0.088   \n",
       "4   0.499829  -0.46875     -0.5          -0.5      0.500  0.333333    -0.116   \n",
       "\n",
       "   t_armor  ct_money   t_money  ...  ct_grenade_decoygrenade  \\\n",
       "0     -0.5 -0.450000 -0.450000  ...                     -0.5   \n",
       "1      0.1 -0.492500 -0.491875  ...                     -0.5   \n",
       "2     -0.1 -0.490625 -0.493750  ...                     -0.5   \n",
       "3     -0.1 -0.490625 -0.493750  ...                     -0.5   \n",
       "4     -0.5 -0.270625 -0.365625  ...                     -0.5   \n",
       "\n",
       "   t_grenade_decoygrenade  map_de_cache  map_de_dust2  map_de_inferno  \\\n",
       "0                    -0.5          -0.5      0.499999            -0.5   \n",
       "1                    -0.5          -0.5      0.499999            -0.5   \n",
       "2                    -0.5          -0.5      0.499999            -0.5   \n",
       "3                    -0.5          -0.5      0.499999            -0.5   \n",
       "4                    -0.5          -0.5      0.499999            -0.5   \n",
       "\n",
       "   map_de_mirage  map_de_nuke  map_de_overpass  map_de_train  map_de_vertigo  \n",
       "0           -0.5         -0.5             -0.5          -0.5            -0.5  \n",
       "1           -0.5         -0.5             -0.5          -0.5            -0.5  \n",
       "2           -0.5         -0.5             -0.5          -0.5            -0.5  \n",
       "3           -0.5         -0.5             -0.5          -0.5            -0.5  \n",
       "4           -0.5         -0.5             -0.5          -0.5            -0.5  \n",
       "\n",
       "[5 rows x 103 columns]"
      ]
     },
     "execution_count": 22,
     "metadata": {},
     "output_type": "execute_result"
    }
   ],
   "source": [
    "X_normalized.head()"
   ]
  },
  {
   "cell_type": "code",
   "execution_count": null,
   "id": "cd4f4221-8733-41ea-9a13-87c6feeaa998",
   "metadata": {},
   "outputs": [],
   "source": []
  },
  {
   "cell_type": "code",
   "execution_count": 23,
   "id": "371b7a37-a6b7-4c84-b2ec-51b572e42284",
   "metadata": {},
   "outputs": [],
   "source": [
    "model = Sequential()\n",
    "model.add(Dense(64, activation='relu', input_shape = (103,) ))\n",
    "model.add(Dense(32, activation='relu'))\n",
    "model.add(Dense(16, activation='relu'))\n",
    "model.add(Dense(8, activation='relu'))\n",
    "model.add(Dense(1, activation='sigmoid'))\n",
    "\n",
    "model.compile(optimizer='adam', loss='binary_crossentropy', metrics=['accuracy'])"
   ]
  },
  {
   "cell_type": "code",
   "execution_count": 24,
   "id": "fc41b210-7795-4f28-ba31-c844ee8c85e9",
   "metadata": {},
   "outputs": [
    {
     "name": "stdout",
     "output_type": "stream",
     "text": [
      "Train on 97928 samples, validate on 24482 samples\n",
      "Epoch 1/10\n",
      "97312/97928 [============================>.] - ETA: 0s - loss: 0.4809 - accuracy: 0.7421"
     ]
    },
    {
     "name": "stderr",
     "output_type": "stream",
     "text": [
      "/home/medox/Masinski/Masinsko-ucenje/mas/lib/python3.10/site-packages/keras/engine/training_v1.py:2057: UserWarning: `Model.state_updates` will be removed in a future version. This property should not be used in TensorFlow 2.0, as `updates` are applied automatically.\n",
      "  updates = self.state_updates\n"
     ]
    },
    {
     "name": "stdout",
     "output_type": "stream",
     "text": [
      "97928/97928 [==============================] - 6s 56us/sample - loss: 0.4805 - accuracy: 0.7423 - val_loss: 0.4751 - val_accuracy: 0.7409\n",
      "Epoch 2/10\n",
      "97928/97928 [==============================] - 6s 60us/sample - loss: 0.4613 - accuracy: 0.7500 - val_loss: 0.4671 - val_accuracy: 0.7455\n",
      "Epoch 3/10\n",
      "97928/97928 [==============================] - 5s 56us/sample - loss: 0.4557 - accuracy: 0.7522 - val_loss: 0.4609 - val_accuracy: 0.7433\n",
      "Epoch 4/10\n",
      "97928/97928 [==============================] - 6s 57us/sample - loss: 0.4516 - accuracy: 0.7533 - val_loss: 0.4621 - val_accuracy: 0.7418\n",
      "Epoch 5/10\n",
      "97928/97928 [==============================] - 6s 59us/sample - loss: 0.4484 - accuracy: 0.7552 - val_loss: 0.4583 - val_accuracy: 0.7432\n",
      "Epoch 6/10\n",
      "97928/97928 [==============================] - 5s 56us/sample - loss: 0.4463 - accuracy: 0.7568 - val_loss: 0.4573 - val_accuracy: 0.7421\n",
      "Epoch 7/10\n",
      "97928/97928 [==============================] - 6s 57us/sample - loss: 0.4441 - accuracy: 0.7569 - val_loss: 0.4596 - val_accuracy: 0.7434\n",
      "Epoch 8/10\n",
      "97928/97928 [==============================] - 6s 57us/sample - loss: 0.4431 - accuracy: 0.7584 - val_loss: 0.4566 - val_accuracy: 0.7450\n",
      "Epoch 9/10\n",
      "97928/97928 [==============================] - 6s 58us/sample - loss: 0.4417 - accuracy: 0.7596 - val_loss: 0.4592 - val_accuracy: 0.7420\n",
      "Epoch 10/10\n",
      "97928/97928 [==============================] - 6s 58us/sample - loss: 0.4408 - accuracy: 0.7593 - val_loss: 0.4565 - val_accuracy: 0.7432\n"
     ]
    }
   ],
   "source": [
    "history = model.fit(X_normalized, y, epochs=10, batch_size=32, validation_split = .2)"
   ]
  },
  {
   "cell_type": "code",
   "execution_count": 25,
   "id": "3116a5e7-47a3-4e3e-b33b-f38dc3d7ad8d",
   "metadata": {},
   "outputs": [
    {
     "data": {
      "image/png": "[encoded data removed]",
      "text/plain": [
       "<Figure size 432x288 with 1 Axes>"
      ]
     },
     "metadata": {
      "needs_background": "light"
     },
     "output_type": "display_data"
    }
   ],
   "source": [
    "test_acc = history.history['val_accuracy']\n",
    "epoch_count = range(1, len(test_acc) + 1)\n",
    "plt.plot(epoch_count, test_acc, 'b-')\n",
    "plt.legend(['Test Accuracy'])\n",
    "plt.xlabel('Epoch')\n",
    "plt.ylabel('Accuracy')\n",
    "plt.show()"
   ]
  },
  {
   "cell_type": "code",
   "execution_count": 26,
   "id": "29daa062-e078-4096-80b0-d203ece22cb7",
   "metadata": {},
   "outputs": [],
   "source": [
    "opt = keras.optimizers.Adam(learning_rate=0.01)\n",
    "model = Sequential()\n",
    "model.add(Dense(256, activation='relu', input_shape = (103,) ))\n",
    "model.add(Dense(32, activation='relu'))\n",
    "model.add(Dense(16, activation='relu'))\n",
    "model.add(Dense(8, activation='relu'))\n",
    "model.add(Dense(1, activation='sigmoid'))\n",
    "\n",
    "model.compile(optimizer=opt, loss='binary_crossentropy', metrics=['accuracy'])"
   ]
  },
  {
   "cell_type": "code",
   "execution_count": 27,
   "id": "2ba18539-1945-4ff4-8452-9d8a14386c5c",
   "metadata": {},
   "outputs": [
    {
     "name": "stdout",
     "output_type": "stream",
     "text": [
      "Train on 97928 samples, validate on 24482 samples\n",
      "Epoch 1/10\n",
      "97928/97928 [==============================] - 7s 69us/sample - loss: 0.4816 - accuracy: 0.7437 - val_loss: 0.4736 - val_accuracy: 0.7425\n",
      "Epoch 2/10\n",
      "97928/97928 [==============================] - 7s 70us/sample - loss: 0.4648 - accuracy: 0.7489 - val_loss: 0.4648 - val_accuracy: 0.7415\n",
      "Epoch 3/10\n",
      "97928/97928 [==============================] - 6s 65us/sample - loss: 0.4591 - accuracy: 0.7510 - val_loss: 0.4632 - val_accuracy: 0.7410\n",
      "Epoch 4/10\n",
      "97928/97928 [==============================] - 7s 67us/sample - loss: 0.4567 - accuracy: 0.7521 - val_loss: 0.4753 - val_accuracy: 0.7349\n",
      "Epoch 5/10\n",
      "97928/97928 [==============================] - 7s 67us/sample - loss: 0.4531 - accuracy: 0.7537 - val_loss: 0.4627 - val_accuracy: 0.7451\n",
      "Epoch 6/10\n",
      "97928/97928 [==============================] - 7s 69us/sample - loss: 0.4519 - accuracy: 0.7540 - val_loss: 0.4594 - val_accuracy: 0.7425\n",
      "Epoch 7/10\n",
      "97928/97928 [==============================] - 7s 69us/sample - loss: 0.4509 - accuracy: 0.7542 - val_loss: 0.4655 - val_accuracy: 0.7426\n",
      "Epoch 8/10\n",
      "97928/97928 [==============================] - 7s 68us/sample - loss: 0.4495 - accuracy: 0.7547 - val_loss: 0.4583 - val_accuracy: 0.7444\n",
      "Epoch 9/10\n",
      "97928/97928 [==============================] - 7s 70us/sample - loss: 0.4497 - accuracy: 0.7540 - val_loss: 0.4628 - val_accuracy: 0.7425\n",
      "Epoch 10/10\n",
      "97928/97928 [==============================] - 6s 64us/sample - loss: 0.4475 - accuracy: 0.7558 - val_loss: 0.4579 - val_accuracy: 0.7407\n"
     ]
    }
   ],
   "source": [
    "history = model.fit(X_normalized, y, epochs=10, batch_size=32, validation_split = .2)"
   ]
  },
  {
   "cell_type": "code",
   "execution_count": 28,
   "id": "e2b41530-8d8e-4b48-8190-183dfb07495a",
   "metadata": {},
   "outputs": [
    {
     "data": {
      "image/png": "[encoded data removed]",
      "text/plain": [
       "<Figure size 432x288 with 1 Axes>"
      ]
     },
     "metadata": {
      "needs_background": "light"
     },
     "output_type": "display_data"
    }
   ],
   "source": [
    "test_acc = history.history['val_accuracy']\n",
    "epoch_count = range(1, len(test_acc) + 1)\n",
    "plt.plot(epoch_count, test_acc, 'b-')\n",
    "plt.legend(['Test Accuracy'])\n",
    "plt.xlabel('Epoch')\n",
    "plt.ylabel('Accuracy')\n",
    "plt.show()"
   ]
  },
  {
   "cell_type": "code",
   "execution_count": 29,
   "id": "ca505d0b-5a20-453b-8efa-7d9df2f2323c",
   "metadata": {},
   "outputs": [],
   "source": [
    "opt = keras.optimizers.Adam(learning_rate=0.00001)\n",
    "model = Sequential()\n",
    "model.add(Dense(64, activation='relu', input_shape = (103,) ))\n",
    "model.add(Dense(32, activation='relu'))\n",
    "model.add(Dense(16, activation='relu'))\n",
    "model.add(Dense(8, activation='relu'))\n",
    "model.add(Dense(1, activation='sigmoid'))\n",
    "\n",
    "model.compile(optimizer=opt, loss='binary_crossentropy', metrics=['accuracy'])"
   ]
  },
  {
   "cell_type": "code",
   "execution_count": 30,
   "id": "a8ff5f36-bc86-400b-95ab-9562015bcdbe",
   "metadata": {},
   "outputs": [
    {
     "name": "stdout",
     "output_type": "stream",
     "text": [
      "Train on 97928 samples, validate on 24482 samples\n",
      "Epoch 1/10\n",
      "97928/97928 [==============================] - 6s 60us/sample - loss: 0.6548 - accuracy: 0.6532 - val_loss: 0.5966 - val_accuracy: 0.7112\n",
      "Epoch 2/10\n",
      "97928/97928 [==============================] - 6s 62us/sample - loss: 0.5565 - accuracy: 0.7316 - val_loss: 0.5370 - val_accuracy: 0.7315\n",
      "Epoch 3/10\n",
      "97928/97928 [==============================] - 6s 66us/sample - loss: 0.5202 - accuracy: 0.7412 - val_loss: 0.5192 - val_accuracy: 0.7327\n",
      "Epoch 4/10\n",
      "97928/97928 [==============================] - 6s 64us/sample - loss: 0.5057 - accuracy: 0.7448 - val_loss: 0.5101 - val_accuracy: 0.7348\n",
      "Epoch 5/10\n",
      "97928/97928 [==============================] - 6s 59us/sample - loss: 0.4970 - accuracy: 0.7475 - val_loss: 0.5045 - val_accuracy: 0.7365\n",
      "Epoch 6/10\n",
      "97928/97928 [==============================] - 6s 63us/sample - loss: 0.4909 - accuracy: 0.7497 - val_loss: 0.5003 - val_accuracy: 0.7362\n",
      "Epoch 7/10\n",
      "97928/97928 [==============================] - 6s 63us/sample - loss: 0.4860 - accuracy: 0.7507 - val_loss: 0.4965 - val_accuracy: 0.7354\n",
      "Epoch 8/10\n",
      "97928/97928 [==============================] - 6s 59us/sample - loss: 0.4822 - accuracy: 0.7513 - val_loss: 0.4940 - val_accuracy: 0.7367\n",
      "Epoch 9/10\n",
      "97928/97928 [==============================] - 6s 60us/sample - loss: 0.4792 - accuracy: 0.7513 - val_loss: 0.4917 - val_accuracy: 0.7373\n",
      "Epoch 10/10\n",
      "97928/97928 [==============================] - 6s 60us/sample - loss: 0.4770 - accuracy: 0.7516 - val_loss: 0.4905 - val_accuracy: 0.7381\n"
     ]
    }
   ],
   "source": [
    "history = model.fit(X_normalized, y, epochs=10, batch_size=32, validation_split = .2)"
   ]
  },
  {
   "cell_type": "code",
   "execution_count": 31,
   "id": "ac1e47dd-239c-437e-a6f6-8f81309d763b",
   "metadata": {},
   "outputs": [
    {
     "data": {
      "image/png": "[encoded data removed]",
      "text/plain": [
       "<Figure size 432x288 with 1 Axes>"
      ]
     },
     "metadata": {
      "needs_background": "light"
     },
     "output_type": "display_data"
    }
   ],
   "source": [
    "test_acc = history.history['val_accuracy']\n",
    "epoch_count = range(1, len(test_acc) + 1)\n",
    "plt.plot(epoch_count, test_acc, 'b-')\n",
    "plt.legend(['Test Accuracy'])\n",
    "plt.xlabel('Epoch')\n",
    "plt.ylabel('Accuracy')\n",
    "plt.show()"
   ]
  },
  {
   "cell_type": "markdown",
   "id": "87ce6652-5639-47c9-b6a2-d8dafd97bff3",
   "metadata": {},
   "source": [
    "#### Treniranje sa dinamickim izborom learning rata"
   ]
  },
  {
   "cell_type": "code",
   "execution_count": 32,
   "id": "0e9fa794-1a50-4764-b6d1-1f9390910fb1",
   "metadata": {},
   "outputs": [],
   "source": [
    "opt = keras.optimizers.Adam(learning_rate=0.0001)\n",
    "reduce_lr = ReduceLROnPlateau(monitor='loss', factor=0.2,verbose = 1,\n",
    "                              patience=5, min_lr=0.00000001)\n",
    "\n",
    "model = Sequential()\n",
    "model.add(Dense(1024, activation='relu', input_shape = (103,) ))\n",
    "model.add(Dense(512, activation='relu'))\n",
    "model.add(Dense(256, activation='relu'))\n",
    "model.add(Dense(128, activation='relu'))\n",
    "model.add(Dense(1, activation='sigmoid'))\n",
    "\n",
    "model.compile(optimizer=opt, loss='binary_crossentropy', metrics=['accuracy'])"
   ]
  },
  {
   "cell_type": "code",
   "execution_count": 33,
   "id": "de8a234c-fa75-4c13-a5e9-12745e6602d8",
   "metadata": {},
   "outputs": [
    {
     "name": "stdout",
     "output_type": "stream",
     "text": [
      "Train on 97928 samples, validate on 24482 samples\n",
      "Epoch 1/50\n",
      "97928/97928 [==============================] - 29s 295us/sample - loss: 0.4738 - accuracy: 0.7466 - val_loss: 0.4707 - val_accuracy: 0.7410 - lr: 1.0000e-04\n",
      "Epoch 2/50\n",
      "97928/97928 [==============================] - 29s 299us/sample - loss: 0.4542 - accuracy: 0.7544 - val_loss: 0.4627 - val_accuracy: 0.7406 - lr: 1.0000e-04\n",
      "Epoch 3/50\n",
      "97928/97928 [==============================] - 28s 289us/sample - loss: 0.4468 - accuracy: 0.7574 - val_loss: 0.4676 - val_accuracy: 0.7406 - lr: 1.0000e-04\n",
      "Epoch 4/50\n",
      "97928/97928 [==============================] - 28s 290us/sample - loss: 0.4421 - accuracy: 0.7612 - val_loss: 0.4574 - val_accuracy: 0.7442 - lr: 1.0000e-04\n",
      "Epoch 5/50\n",
      "97928/97928 [==============================] - 29s 292us/sample - loss: 0.4388 - accuracy: 0.7636 - val_loss: 0.4621 - val_accuracy: 0.7364 - lr: 1.0000e-04\n",
      "Epoch 6/50\n",
      "97928/97928 [==============================] - 28s 288us/sample - loss: 0.4353 - accuracy: 0.7667 - val_loss: 0.4626 - val_accuracy: 0.7379 - lr: 1.0000e-04\n",
      "Epoch 7/50\n",
      "97928/97928 [==============================] - 22s 227us/sample - loss: 0.4315 - accuracy: 0.7700 - val_loss: 0.4648 - val_accuracy: 0.7412 - lr: 1.0000e-04\n",
      "Epoch 8/50\n",
      "97928/97928 [==============================] - 16s 159us/sample - loss: 0.4273 - accuracy: 0.7725 - val_loss: 0.4706 - val_accuracy: 0.7339 - lr: 1.0000e-04\n",
      "Epoch 9/50\n",
      "97928/97928 [==============================] - 15s 158us/sample - loss: 0.4225 - accuracy: 0.7765 - val_loss: 0.4751 - val_accuracy: 0.7351 - lr: 1.0000e-04\n",
      "Epoch 10/50\n",
      "97928/97928 [==============================] - 15s 156us/sample - loss: 0.4173 - accuracy: 0.7804 - val_loss: 0.4705 - val_accuracy: 0.7403 - lr: 1.0000e-04\n",
      "Epoch 11/50\n",
      "97928/97928 [==============================] - 15s 153us/sample - loss: 0.4106 - accuracy: 0.7866 - val_loss: 0.4764 - val_accuracy: 0.7319 - lr: 1.0000e-04\n",
      "Epoch 12/50\n",
      "97928/97928 [==============================] - 15s 158us/sample - loss: 0.4035 - accuracy: 0.7921 - val_loss: 0.4869 - val_accuracy: 0.7351 - lr: 1.0000e-04\n",
      "Epoch 13/50\n",
      "97928/97928 [==============================] - 16s 159us/sample - loss: 0.3933 - accuracy: 0.8011 - val_loss: 0.4986 - val_accuracy: 0.7214 - lr: 1.0000e-04\n",
      "Epoch 14/50\n",
      "97928/97928 [==============================] - 15s 156us/sample - loss: 0.3821 - accuracy: 0.8077 - val_loss: 0.4995 - val_accuracy: 0.7265 - lr: 1.0000e-04\n",
      "Epoch 15/50\n",
      "97928/97928 [==============================] - 15s 156us/sample - loss: 0.3709 - accuracy: 0.8161 - val_loss: 0.5013 - val_accuracy: 0.7295 - lr: 1.0000e-04\n",
      "Epoch 16/50\n",
      "97928/97928 [==============================] - 16s 160us/sample - loss: 0.3578 - accuracy: 0.8256 - val_loss: 0.5276 - val_accuracy: 0.7311 - lr: 1.0000e-04\n",
      "Epoch 17/50\n",
      "97928/97928 [==============================] - 15s 154us/sample - loss: 0.3439 - accuracy: 0.8343 - val_loss: 0.5468 - val_accuracy: 0.7227 - lr: 1.0000e-04\n",
      "Epoch 18/50\n",
      "97928/97928 [==============================] - 16s 162us/sample - loss: 0.3293 - accuracy: 0.8443 - val_loss: 0.5789 - val_accuracy: 0.7294 - lr: 1.0000e-04\n",
      "Epoch 19/50\n",
      "97928/97928 [==============================] - 16s 162us/sample - loss: 0.3164 - accuracy: 0.8508 - val_loss: 0.5753 - val_accuracy: 0.7164 - lr: 1.0000e-04\n",
      "Epoch 20/50\n",
      "97928/97928 [==============================] - 16s 160us/sample - loss: 0.3004 - accuracy: 0.8607 - val_loss: 0.6029 - val_accuracy: 0.7256 - lr: 1.0000e-04\n",
      "Epoch 21/50\n",
      "97928/97928 [==============================] - 15s 155us/sample - loss: 0.2845 - accuracy: 0.8695 - val_loss: 0.6396 - val_accuracy: 0.7236 - lr: 1.0000e-04\n",
      "Epoch 22/50\n",
      "97928/97928 [==============================] - 16s 159us/sample - loss: 0.2710 - accuracy: 0.8764 - val_loss: 0.6372 - val_accuracy: 0.7249 - lr: 1.0000e-04\n",
      "Epoch 23/50\n",
      "97928/97928 [==============================] - 16s 162us/sample - loss: 0.2570 - accuracy: 0.8841 - val_loss: 0.6815 - val_accuracy: 0.7266 - lr: 1.0000e-04\n",
      "Epoch 24/50\n",
      "97928/97928 [==============================] - 15s 156us/sample - loss: 0.2436 - accuracy: 0.8910 - val_loss: 0.7043 - val_accuracy: 0.7173 - lr: 1.0000e-04\n",
      "Epoch 25/50\n",
      "97928/97928 [==============================] - 16s 161us/sample - loss: 0.2307 - accuracy: 0.8983 - val_loss: 0.7660 - val_accuracy: 0.7163 - lr: 1.0000e-04\n",
      "Epoch 26/50\n",
      "97928/97928 [==============================] - 16s 159us/sample - loss: 0.2181 - accuracy: 0.9029 - val_loss: 0.7962 - val_accuracy: 0.7235 - lr: 1.0000e-04\n",
      "Epoch 27/50\n",
      "97928/97928 [==============================] - 16s 160us/sample - loss: 0.2081 - accuracy: 0.9088 - val_loss: 0.8065 - val_accuracy: 0.7167 - lr: 1.0000e-04\n",
      "Epoch 28/50\n",
      "97928/97928 [==============================] - 16s 159us/sample - loss: 0.1979 - accuracy: 0.9137 - val_loss: 0.8657 - val_accuracy: 0.7044 - lr: 1.0000e-04\n",
      "Epoch 29/50\n",
      "97928/97928 [==============================] - 16s 161us/sample - loss: 0.1873 - accuracy: 0.9183 - val_loss: 0.8717 - val_accuracy: 0.7067 - lr: 1.0000e-04\n",
      "Epoch 30/50\n",
      "97928/97928 [==============================] - 15s 158us/sample - loss: 0.1782 - accuracy: 0.9225 - val_loss: 0.9389 - val_accuracy: 0.7191 - lr: 1.0000e-04\n",
      "Epoch 31/50\n",
      "97928/97928 [==============================] - 16s 159us/sample - loss: 0.1720 - accuracy: 0.9251 - val_loss: 0.9080 - val_accuracy: 0.7049 - lr: 1.0000e-04\n",
      "Epoch 32/50\n",
      "97928/97928 [==============================] - 15s 157us/sample - loss: 0.1628 - accuracy: 0.9297 - val_loss: 0.9359 - val_accuracy: 0.7072 - lr: 1.0000e-04\n",
      "Epoch 33/50\n",
      "97928/97928 [==============================] - 16s 162us/sample - loss: 0.1569 - accuracy: 0.9311 - val_loss: 0.9900 - val_accuracy: 0.7053 - lr: 1.0000e-04\n",
      "Epoch 34/50\n",
      "97928/97928 [==============================] - 15s 153us/sample - loss: 0.1501 - accuracy: 0.9357 - val_loss: 1.0213 - val_accuracy: 0.7041 - lr: 1.0000e-04\n",
      "Epoch 35/50\n",
      "97928/97928 [==============================] - 16s 161us/sample - loss: 0.1434 - accuracy: 0.9386 - val_loss: 1.0971 - val_accuracy: 0.7085 - lr: 1.0000e-04\n",
      "Epoch 36/50\n",
      "97928/97928 [==============================] - 15s 158us/sample - loss: 0.1392 - accuracy: 0.9401 - val_loss: 1.1128 - val_accuracy: 0.7078 - lr: 1.0000e-04\n",
      "Epoch 37/50\n",
      "97928/97928 [==============================] - 15s 155us/sample - loss: 0.1324 - accuracy: 0.9436 - val_loss: 1.1557 - val_accuracy: 0.7158 - lr: 1.0000e-04\n",
      "Epoch 38/50\n",
      "97928/97928 [==============================] - 16s 162us/sample - loss: 0.1282 - accuracy: 0.9453 - val_loss: 1.1541 - val_accuracy: 0.7074 - lr: 1.0000e-04\n",
      "Epoch 39/50\n",
      "97928/97928 [==============================] - 16s 160us/sample - loss: 0.1249 - accuracy: 0.9464 - val_loss: 1.1918 - val_accuracy: 0.6997 - lr: 1.0000e-04\n",
      "Epoch 40/50\n",
      "97928/97928 [==============================] - 15s 156us/sample - loss: 0.1205 - accuracy: 0.9486 - val_loss: 1.2218 - val_accuracy: 0.7112 - lr: 1.0000e-04\n",
      "Epoch 41/50\n",
      "97928/97928 [==============================] - 16s 159us/sample - loss: 0.1157 - accuracy: 0.9506 - val_loss: 1.2278 - val_accuracy: 0.7135 - lr: 1.0000e-04\n",
      "Epoch 42/50\n",
      "97928/97928 [==============================] - 15s 156us/sample - loss: 0.1133 - accuracy: 0.9515 - val_loss: 1.2717 - val_accuracy: 0.7108 - lr: 1.0000e-04\n",
      "Epoch 43/50\n",
      "97928/97928 [==============================] - 15s 153us/sample - loss: 0.1122 - accuracy: 0.9515 - val_loss: 1.3154 - val_accuracy: 0.7170 - lr: 1.0000e-04\n",
      "Epoch 44/50\n",
      "97928/97928 [==============================] - 15s 157us/sample - loss: 0.1064 - accuracy: 0.9545 - val_loss: 1.3720 - val_accuracy: 0.7115 - lr: 1.0000e-04\n",
      "Epoch 45/50\n",
      "97928/97928 [==============================] - 15s 158us/sample - loss: 0.1042 - accuracy: 0.9551 - val_loss: 1.3226 - val_accuracy: 0.7134 - lr: 1.0000e-04\n",
      "Epoch 46/50\n",
      "97928/97928 [==============================] - 16s 162us/sample - loss: 0.1011 - accuracy: 0.9566 - val_loss: 1.4887 - val_accuracy: 0.7144 - lr: 1.0000e-04\n",
      "Epoch 47/50\n",
      "97928/97928 [==============================] - 15s 158us/sample - loss: 0.0997 - accuracy: 0.9568 - val_loss: 1.4257 - val_accuracy: 0.7094 - lr: 1.0000e-04\n",
      "Epoch 48/50\n",
      "97928/97928 [==============================] - 16s 159us/sample - loss: 0.0972 - accuracy: 0.9585 - val_loss: 1.4029 - val_accuracy: 0.7033 - lr: 1.0000e-04\n",
      "Epoch 49/50\n"
     ]
    },
    {
     "name": "stdout",
     "output_type": "stream",
     "text": [
      "97928/97928 [==============================] - 15s 157us/sample - loss: 0.0962 - accuracy: 0.9586 - val_loss: 1.3486 - val_accuracy: 0.7147 - lr: 1.0000e-04\n",
      "Epoch 50/50\n",
      "97928/97928 [==============================] - 16s 160us/sample - loss: 0.0911 - accuracy: 0.9609 - val_loss: 1.5198 - val_accuracy: 0.7127 - lr: 1.0000e-04\n"
     ]
    }
   ],
   "source": [
    "history = model.fit(X_normalized, y, epochs=50, batch_size=32, validation_split = .2, callbacks=[reduce_lr])"
   ]
  },
  {
   "cell_type": "code",
   "execution_count": 34,
   "id": "0a9d960b-abe8-41db-aad4-31503cffa933",
   "metadata": {},
   "outputs": [
    {
     "data": {
      "image/png": "[encoded data removed]",
      "text/plain": [
       "<Figure size 432x288 with 1 Axes>"
      ]
     },
     "metadata": {
      "needs_background": "light"
     },
     "output_type": "display_data"
    }
   ],
   "source": [
    "test_acc = history.history['val_accuracy']\n",
    "epoch_count = range(1, len(test_acc) + 1)\n",
    "plt.plot(epoch_count, test_acc, 'b-')\n",
    "plt.legend(['Test Accuracy'])\n",
    "plt.xlabel('Epoch')\n",
    "plt.ylabel('Accuracy')\n",
    "plt.show()"
   ]
  },
  {
   "cell_type": "code",
   "execution_count": 35,
   "id": "782630b1-035f-47e1-a71d-d9be35030ad6",
   "metadata": {},
   "outputs": [],
   "source": [
    "opt = keras.optimizers.Adam(learning_rate=0.000001)\n",
    "model = Sequential()\n",
    "model.add(Dense(64, activation='relu', input_shape = (103,) ))\n",
    "model.add(Dense(32, activation='relu'))\n",
    "model.add(Dense(16, activation='relu'))\n",
    "model.add(Dense(8, activation='relu'))\n",
    "model.add(Dense(1, activation='tanh'))\n",
    "model.compile(optimizer=opt, loss='hinge', metrics=['accuracy'])"
   ]
  },
  {
   "cell_type": "code",
   "execution_count": 36,
   "id": "3b2589b4-7750-422f-97b5-e628762866b3",
   "metadata": {},
   "outputs": [
    {
     "name": "stdout",
     "output_type": "stream",
     "text": [
      "Train on 97928 samples, validate on 24482 samples\n",
      "Epoch 1/10\n",
      "97928/97928 [==============================] - 6s 63us/sample - loss: 0.9934 - accuracy: 0.5116 - val_loss: 0.9929 - val_accuracy: 0.5027 - lr: 1.0000e-06\n",
      "Epoch 2/10\n",
      "97928/97928 [==============================] - 6s 62us/sample - loss: 0.9870 - accuracy: 0.5116 - val_loss: 0.9863 - val_accuracy: 0.5027 - lr: 1.0000e-06\n",
      "Epoch 3/10\n",
      "97928/97928 [==============================] - 6s 62us/sample - loss: 0.9796 - accuracy: 0.5116 - val_loss: 0.9784 - val_accuracy: 0.5027 - lr: 1.0000e-06\n",
      "Epoch 4/10\n",
      "97928/97928 [==============================] - 6s 62us/sample - loss: 0.9703 - accuracy: 0.5116 - val_loss: 0.9682 - val_accuracy: 0.5027 - lr: 1.0000e-06\n",
      "Epoch 5/10\n",
      "97928/97928 [==============================] - 6s 63us/sample - loss: 0.9572 - accuracy: 0.5116 - val_loss: 0.9542 - val_accuracy: 0.5027 - lr: 1.0000e-06\n",
      "Epoch 6/10\n",
      "97928/97928 [==============================] - 6s 62us/sample - loss: 0.9414 - accuracy: 0.5116 - val_loss: 0.9395 - val_accuracy: 0.5027 - lr: 1.0000e-06\n",
      "Epoch 7/10\n",
      "97928/97928 [==============================] - 6s 61us/sample - loss: 0.9259 - accuracy: 0.5116 - val_loss: 0.9248 - val_accuracy: 0.5027 - lr: 1.0000e-06\n",
      "Epoch 8/10\n",
      "97928/97928 [==============================] - 6s 60us/sample - loss: 0.9103 - accuracy: 0.5116 - val_loss: 0.9093 - val_accuracy: 0.5027 - lr: 1.0000e-06\n",
      "Epoch 9/10\n",
      "97928/97928 [==============================] - 6s 62us/sample - loss: 0.8935 - accuracy: 0.5116 - val_loss: 0.8922 - val_accuracy: 0.5027 - lr: 1.0000e-06\n",
      "Epoch 10/10\n",
      "97928/97928 [==============================] - 6s 60us/sample - loss: 0.8750 - accuracy: 0.5116 - val_loss: 0.8732 - val_accuracy: 0.5027 - lr: 1.0000e-06\n"
     ]
    }
   ],
   "source": [
    "history = model.fit(X_normalized, y, epochs=10, batch_size=32, validation_split = .2, callbacks=[reduce_lr])"
   ]
  },
  {
   "cell_type": "code",
   "execution_count": 37,
   "id": "70fe8a55-0b9f-436f-914e-00f383b7cc39",
   "metadata": {},
   "outputs": [
    {
     "data": {
      "image/png": "[encoded data removed]",
      "text/plain": [
       "<Figure size 432x288 with 1 Axes>"
      ]
     },
     "metadata": {
      "needs_background": "light"
     },
     "output_type": "display_data"
    }
   ],
   "source": [
    "test_acc = history.history['val_accuracy']\n",
    "epoch_count = range(1, len(test_acc) + 1)\n",
    "plt.plot(epoch_count, test_acc, 'b-')\n",
    "plt.legend(['Test Accuracy'])\n",
    "plt.xlabel('Epoch')\n",
    "plt.ylabel('Accuracy')\n",
    "plt.show()"
   ]
  },
  {
   "cell_type": "code",
   "execution_count": null,
   "id": "829ef835",
   "metadata": {},
   "outputs": [],
   "source": []
  },
  {
   "cell_type": "code",
   "execution_count": null,
   "id": "74902a84",
   "metadata": {},
   "outputs": [],
   "source": []
  },
  {
   "cell_type": "code",
   "execution_count": null,
   "id": "04e522c5",
   "metadata": {},
   "outputs": [],
   "source": []
  },
  {
   "cell_type": "code",
   "execution_count": null,
   "id": "ffab6834",
   "metadata": {},
   "outputs": [],
   "source": []
  },
  {
   "cell_type": "code",
   "execution_count": null,
   "id": "e9e146bb",
   "metadata": {},
   "outputs": [],
   "source": []
  },
  {
   "cell_type": "code",
   "execution_count": null,
   "id": "0a57393d",
   "metadata": {},
   "outputs": [],
   "source": []
  }
 ],
 "metadata": {
  "kernelspec": {
   "display_name": "Python 3 (ipykernel)",
   "language": "python",
   "name": "python3"
  },
  "language_info": {
   "codemirror_mode": {
    "name": "ipython",
    "version": 3
   },
   "file_extension": ".py",
   "mimetype": "text/x-python",
   "name": "python",
   "nbconvert_exporter": "python",
   "pygments_lexer": "ipython3",
   "version": "3.10.2"
  }
 },
 "nbformat": 4,
 "nbformat_minor": 5
}
